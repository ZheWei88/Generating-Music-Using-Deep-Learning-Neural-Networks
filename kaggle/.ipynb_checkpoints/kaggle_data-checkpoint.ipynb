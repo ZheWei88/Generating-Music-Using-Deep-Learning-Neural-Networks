{
 "cells": [
  {
   "cell_type": "code",
   "execution_count": 8,
   "id": "5003a8b7",
   "metadata": {},
   "outputs": [
    {
     "name": "stdout",
     "output_type": "stream",
     "text": [
      "Collecting kaggle\n",
      "  Using cached kaggle-1.5.12-py3-none-any.whl\n",
      "Requirement already satisfied: tqdm in /opt/anaconda3/envs/dsi-sg/lib/python3.8/site-packages (from kaggle) (4.62.3)\n",
      "Collecting python-slugify\n",
      "  Using cached python_slugify-6.1.1-py2.py3-none-any.whl (9.1 kB)\n",
      "Requirement already satisfied: certifi in /opt/anaconda3/envs/dsi-sg/lib/python3.8/site-packages (from kaggle) (2021.10.8)\n",
      "Requirement already satisfied: six>=1.10 in /opt/anaconda3/envs/dsi-sg/lib/python3.8/site-packages (from kaggle) (1.16.0)\n",
      "Requirement already satisfied: requests in /opt/anaconda3/envs/dsi-sg/lib/python3.8/site-packages (from kaggle) (2.27.1)\n",
      "Requirement already satisfied: python-dateutil in /opt/anaconda3/envs/dsi-sg/lib/python3.8/site-packages (from kaggle) (2.8.2)\n",
      "Requirement already satisfied: urllib3 in /opt/anaconda3/envs/dsi-sg/lib/python3.8/site-packages (from kaggle) (1.26.8)\n",
      "Collecting text-unidecode>=1.3\n",
      "  Using cached text_unidecode-1.3-py2.py3-none-any.whl (78 kB)\n",
      "Requirement already satisfied: charset-normalizer~=2.0.0 in /opt/anaconda3/envs/dsi-sg/lib/python3.8/site-packages (from requests->kaggle) (2.0.11)\n",
      "Requirement already satisfied: idna<4,>=2.5 in /opt/anaconda3/envs/dsi-sg/lib/python3.8/site-packages (from requests->kaggle) (3.3)\n",
      "Installing collected packages: text-unidecode, python-slugify, kaggle\n",
      "Successfully installed kaggle-1.5.12 python-slugify-6.1.1 text-unidecode-1.3\n"
     ]
    }
   ],
   "source": [
    "!pip install kaggle"
   ]
  },
  {
   "cell_type": "code",
   "execution_count": 9,
   "id": "2beb7599",
   "metadata": {},
   "outputs": [
    {
     "name": "stdout",
     "output_type": "stream",
     "text": [
      "mkdir: /Users/zheweilow/.kaggle: File exists\r\n"
     ]
    }
   ],
   "source": [
    "!mkdir ~/.kaggle"
   ]
  },
  {
   "cell_type": "code",
   "execution_count": 10,
   "id": "5cb80353",
   "metadata": {},
   "outputs": [
    {
     "name": "stdout",
     "output_type": "stream",
     "text": [
      "mkdir: /Users/zheweilow/.kaggle: File exists\r\n"
     ]
    }
   ],
   "source": [
    "!mkdir ~/.kaggle"
   ]
  },
  {
   "cell_type": "code",
   "execution_count": 11,
   "id": "f7f1c0c9",
   "metadata": {},
   "outputs": [],
   "source": [
    "!cp /Users/zheweilow/Downloads/kaggle.json /Users/zheweilow/.kaggle/kaggle.json"
   ]
  },
  {
   "cell_type": "code",
   "execution_count": 12,
   "id": "01f64ed2",
   "metadata": {},
   "outputs": [
    {
     "name": "stdout",
     "output_type": "stream",
     "text": [
      "kaggle.json\r\n"
     ]
    }
   ],
   "source": [
    "!cd /Users/zheweilow/.kaggle && ls"
   ]
  },
  {
   "cell_type": "code",
   "execution_count": 2,
   "id": "593b9138",
   "metadata": {},
   "outputs": [
    {
     "name": "stdout",
     "output_type": "stream",
     "text": [
      "Warning: Your Kaggle API key is readable by other users on this system! To fix this, you can run 'chmod 600 /Users/zheweilow/.kaggle/kaggle.json'\n",
      "ref                                                                  title                                                size  lastUpdated          downloadCount  voteCount  usabilityRating  \n",
      "-------------------------------------------------------------------  --------------------------------------------------  -----  -------------------  -------------  ---------  ---------------  \n",
      "datasets/soumikrakshit/classical-music-midi                          Classical Music MIDI                                  2MB  2019-05-17 14:07:25           2602         61  0.625            \n",
      "datasets/saikayala/jazz-ml-ready-midi                                Jazz ML ready MIDI                                    8MB  2018-11-27 23:05:03           1042         39  0.7647059        \n",
      "datasets/kritanjalijain/maestropianomidi                             Maestro-Piano-Midi                                   56MB  2021-04-29 07:31:56            135         12  0.8235294        \n",
      "datasets/zakarii/lofi-hip-hop-midi                                   Lo-Fi Hip Hop MIDIs                                  38KB  2021-04-15 04:45:45            519         60  0.875            \n",
      "datasets/programgeek01/anime-music-midi                              Music MIDI Collection                               707KB  2020-05-23 22:55:22            354         12  0.75             \n",
      "datasets/function9/blues-genre-midi-melodies                         Blues Genre MIDI Melodies                           179KB  2020-02-13 01:38:47            350          9  0.6875           \n",
      "datasets/blanderbuss/midi-classic-music                              midi_classic_music                                   68MB  2019-01-28 13:11:42            297         10  0.6875           \n",
      "datasets/charliecodex/classical-music                                Classical Pseudo-Midi Files                          16MB  2018-08-01 15:46:57            145          9  0.64705884       \n",
      "datasets/jackvial/themaestrodatasetv2                                The Maestro Dataset v2                                 0B  2020-06-14 21:58:40            569         14  0.7058824        \n",
      "datasets/jembishop1/classical-music-piano-rolls                      Classical Music ML Format                           416MB  2019-04-30 20:10:48            342         24  0.875            \n",
      "datasets/imsparsh/lakh-midi-clean                                    Lakh MIDI Dataset Clean                             226MB  2021-06-21 14:01:37            162          2  0.875            \n",
      "datasets/anujtrehan007/midi-songs                                    MIDI SONGS                                          341KB  2018-11-16 14:09:07            143          3  0.3125           \n",
      "datasets/karnikakapoor/music-generated-lstm                          Music Generated LSTM                                 32MB  2021-10-05 06:50:33             54         23  0.875            \n",
      "datasets/edotfs/dht11-temperature-and-humidity-sensor-1-day          DHT11 Temperature and Humidity Sensor                 4KB  2019-10-16 23:55:27            542          7  1.0              \n",
      "datasets/sumandey/temperature-and-humidity-of-kolkata-from-20152020  Temperature and Humidity of Kolkata from 2015-2020  209KB  2021-01-28 17:45:57            155         14  0.7647059        \n",
      "datasets/lsind18/bach-chorale-harmony-data                           Bach Chorale Harmony Data                            40KB  2019-11-06 11:30:58            177          6  0.9411765        \n",
      "datasets/kritanjalijain/music-midi-dataset                           music_midi_dataset                                   56KB  2021-04-26 15:51:32             54          4  0.8125           \n",
      "datasets/ahemateja19bec1025/musicgenerationdataset                   Music-Generation-Dataset                            393KB  2021-12-14 19:05:30             99         15  0.9375           \n",
      "datasets/arshadgeek/piano-notes-transcription                        Piano Notes Transcription                             1GB  2020-02-27 08:26:11            191          5  0.75             \n",
      "datasets/adithyakag/musicnotedetection                               Music notes                                          39MB  2017-08-03 16:52:49            801         24  0.6875           \n"
     ]
    }
   ],
   "source": [
    "!kaggle datasets list -s 'midi'"
   ]
  },
  {
   "cell_type": "code",
   "execution_count": null,
   "id": "bfb4c12d",
   "metadata": {},
   "outputs": [
    {
     "name": "stdout",
     "output_type": "stream",
     "text": [
      "Warning: Your Kaggle API key is readable by other users on this system! To fix this, you can run 'chmod 600 /Users/zheweilow/.kaggle/kaggle.json'\r\n"
     ]
    }
   ],
   "source": [
    "!kaggle datasets download -d 'blanderbuss/midi-classic-music'"
   ]
  },
  {
   "cell_type": "code",
   "execution_count": null,
   "id": "7b8629a3",
   "metadata": {},
   "outputs": [],
   "source": []
  }
 ],
 "metadata": {
  "kernelspec": {
   "display_name": "Python 3 (ipykernel)",
   "language": "python",
   "name": "python3"
  },
  "language_info": {
   "codemirror_mode": {
    "name": "ipython",
    "version": 3
   },
   "file_extension": ".py",
   "mimetype": "text/x-python",
   "name": "python",
   "nbconvert_exporter": "python",
   "pygments_lexer": "ipython3",
   "version": "3.8.12"
  }
 },
 "nbformat": 4,
 "nbformat_minor": 5
}
