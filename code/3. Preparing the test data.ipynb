{
 "cells": [
  {
   "cell_type": "markdown",
   "id": "46a7a54d",
   "metadata": {},
   "source": [
    "# Preparing the test data\n",
    "- Test data obtained from Kaggle - programgeek01/anime-music-midi. Please see the notebook in the folder 'kaggle' for the codebook on how the data was extracted from Kaggle.\n",
    "- Chosen anime classical music as it is most similar to the train dataset, which consists of mainly Final Fantasy soundtracks, a popular Japanese Role Playing Game (JRPG)."
   ]
  },
  {
   "cell_type": "code",
   "execution_count": 1,
   "id": "fc5f1209",
   "metadata": {},
   "outputs": [],
   "source": [
    "from music21 import converter, instrument, stream, note, chord\n",
    "import glob"
   ]
  },
  {
   "cell_type": "code",
   "execution_count": 2,
   "id": "fb01774e",
   "metadata": {},
   "outputs": [
    {
     "name": "stdout",
     "output_type": "stream",
     "text": [
      "Parsing ../kaggle/data/anime/Tokyo Ghoul Unravel.mid\n",
      "Parsing ../kaggle/data/anime/Sentimental_Crisis.mid\n",
      "Parsing ../kaggle/data/anime/Dango Daikazoku.mid\n",
      "Parsing ../kaggle/data/anime/goblin_ost7__fonzi_m_.mid\n",
      "Parsing ../kaggle/data/anime/Aqua Terrarium .mid\n",
      "Parsing ../kaggle/data/anime/Nezukos_Theme.mid\n",
      "Parsing ../kaggle/data/anime/[divine_gate_op]_one-me_two-hearts_-_hitorie__fonzi_m_.mid\n",
      "Parsing ../kaggle/data/anime/Vogel im Käfig.mid\n",
      "Parsing ../kaggle/data/anime/Suiheisen.mid\n",
      "Parsing ../kaggle/data/anime/Niji_no_Kanata_ni_instrumental.mid\n",
      "Parsing ../kaggle/data/anime/Swordland - SAO.mid\n",
      "Parsing ../kaggle/data/anime/Shelter - Porter Robinson _ Madeon.mid\n",
      "Parsing ../kaggle/data/anime/[rezero_kara_hajimeru_isekai_seikatsu_ed_2]_stay_alive_-_rie_takahashi__fonzi_m_.mid\n",
      "Parsing ../kaggle/data/anime/[fuuka_op]_climbers_high_-_manami_numakura__fonzi_m_.mid\n",
      "Parsing ../kaggle/data/anime/Accel World - Bye Bye.mid\n",
      "Parsing ../kaggle/data/anime/Renai_Circulation_tv.mid\n",
      "Parsing ../kaggle/data/anime/Catch the Moment SAO.mid\n",
      "Parsing ../kaggle/data/anime/[gakusen_toshi_asterisk_ed]_waiting_for_the_rain_-_maaya_sakamoto__fonzi_m_performance_.mid\n",
      "Parsing ../kaggle/data/anime/Sadness and Sorrow .mid\n",
      "Parsing ../kaggle/data/anime/[kimi_no_na_wa._op]_yumetourou_-_radwimps_full_piano__fonzi_m_.mid\n",
      "Parsing ../kaggle/data/anime/Utena_Garden.mid\n",
      "Parsing ../kaggle/data/anime/Unjust Life .mid\n",
      "Parsing ../kaggle/data/anime/Sora ni Hikaru (From _Clannad_) .mid\n",
      "Parsing ../kaggle/data/anime/[relife_op]_button_-_penguin_research__fonzi_m_.mid\n",
      "Parsing ../kaggle/data/anime/Hitorigoto.mid\n",
      "Parsing ../kaggle/data/anime/Ushio.mid\n",
      "Parsing ../kaggle/data/anime/FAITH.mid\n",
      "Parsing ../kaggle/data/anime/[rakudai_kishi_no_cavalry_op]_identity_-_sakai_mikio__fonzi_m_ost_ver._.mid\n",
      "Parsing ../kaggle/data/anime/[ao_no_kanata_no_four_rhythm_op]_contrail_kiseki__fonzi_m_.mid\n",
      "Parsing ../kaggle/data/anime/Unjust Life.mid\n",
      "Parsing ../kaggle/data/anime/Euterpe MIDI.mid\n",
      "Parsing ../kaggle/data/anime/Nevereverland.mid\n",
      "Parsing ../kaggle/data/anime/[boku_dake_ga_inai_machi_ed]_sore_wa_chiisana_hikari_no_youna_-_sayuri__fonzi_m_performance_.mid\n",
      "Parsing ../kaggle/data/anime/Guren no Yumiya (From_Attack on Titan_).mid\n",
      "Parsing ../kaggle/data/anime/Senjougahara Tore.mid\n",
      "Parsing ../kaggle/data/anime/[rewrite_anime_op]_philosophyz_-_runa_mizutani__fonzi_m_.mid\n",
      "Parsing ../kaggle/data/anime/Seishun_Buta_Yarou.mid\n",
      "Parsing ../kaggle/data/anime/Kimi_no_Namae.mid\n",
      "Parsing ../kaggle/data/anime/Yake Ochinai Tsubasa MIDI.mid\n",
      "Parsing ../kaggle/data/anime/Brave Song MIDI.mid\n",
      "Parsing ../kaggle/data/anime/[noragami_aragoto_op_full]_kyoran_hey_kids___-_the_oral_cigarettes__fonzi_m_.mid\n",
      "Parsing ../kaggle/data/anime/This_Game.mid\n",
      "Parsing ../kaggle/data/anime/TEMPEST.mid\n",
      "Parsing ../kaggle/data/anime/Mitsuba no Musubime.mid\n",
      "Parsing ../kaggle/data/anime/Love_Dramatic.mid\n",
      "Parsing ../kaggle/data/anime/Chikatto_Chika_Chika.mid\n",
      "Parsing ../kaggle/data/anime/Attack_on_Titan_OST_Omake_Pfadlib.mid\n",
      "Parsing ../kaggle/data/anime/Again_tv.mid\n",
      "Parsing ../kaggle/data/anime/I Will (From _Ao Haru Ride_).mid\n",
      "Parsing ../kaggle/data/anime/Kuusou Mesorogiwi.mid\n",
      "Parsing ../kaggle/data/anime/[charlotte_op]_bravely_you_-_lia_(fonzi_m).mid\n",
      "Parsing ../kaggle/data/anime/[kabaneri_of_the_iron_fortress_ost]_episode_1_bgm__fonzi_m_performance_.mid\n",
      "Parsing ../kaggle/data/anime/RISE_full.mid\n",
      "Parsing ../kaggle/data/anime/Omake-Pfadlib.mid\n",
      "Parsing ../kaggle/data/anime/Lost My Pieces.mid\n",
      "Parsing ../kaggle/data/anime/[owari_no_seraph_2_op]_two_souls_-toward_the_truth-_-_fripside__fonzi_m_.mid\n",
      "Parsing ../kaggle/data/anime/[shinmai_maou_no_testament_burst_op]_over_the_testament_-_metamorphose__fonzi_m_.mid\n",
      "Parsing ../kaggle/data/anime/[seiren_op]_kimi_no_hana_-_hanako_oku__fonzi_m_.mid\n",
      "Parsing ../kaggle/data/anime/holy_night.mid\n",
      "Parsing ../kaggle/data/anime/Inferno_full.mid\n",
      "Parsing ../kaggle/data/anime/Love_Dramatic_full.mid\n",
      "Parsing ../kaggle/data/anime/Crossing Field (From _Sword Art Online_).mid\n",
      "Parsing ../kaggle/data/anime/[rezero_kara_hajimeru_isekai_seikatsu_op_2]_paradisus-paradoxum_-_myth___roid__fonzi_m_.mid\n",
      "Parsing ../kaggle/data/anime/Silent_Solitude.mid\n",
      "Parsing ../kaggle/data/anime/[one_punch_man_op]_the_hero_-_jam_project__fonzi_m_.mid\n",
      "Parsing ../kaggle/data/anime/Kimi ni Todoke ENDING 2 - MIDI.mid\n",
      "Parsing ../kaggle/data/anime/[tales_of_zestiria_the_x_season_2_ed]_innosense_-_flow__fonzi_m_.mid\n",
      "Parsing ../kaggle/data/anime/Shirushi - Sword Art Online 2 .mid\n",
      "Parsing ../kaggle/data/anime/Overfly - SAO - MIDI.mid\n",
      "Parsing ../kaggle/data/anime/[kabaneri_of_the_iron_fortress_ed]_ninelie__fonzi_m_full_ver._.mid\n",
      "Parsing ../kaggle/data/anime/[eromanga_sensei_full_op]_hitorigoto_-_claris__fonzi_m_.mid\n",
      "Parsing ../kaggle/data/anime/Sekai wa Koi ni Ochite Iru.mid\n",
      "Parsing ../kaggle/data/anime/Tetsukazu no Kanjou (Piano Solo).mid\n",
      "Parsing ../kaggle/data/anime/Krone .mid\n",
      "Parsing ../kaggle/data/anime/Onegai_Muscle.mid\n",
      "Parsing ../kaggle/data/anime/[dragon_ball_super_op_1]_chouzetsu_dynamic!_(fonzi_m).mid\n",
      "Parsing ../kaggle/data/anime/Sincerely.mid\n",
      "Parsing ../kaggle/data/anime/Orange - Hikari no Hahen.mid\n",
      "Parsing ../kaggle/data/anime/[rakudai_kishi_no_cavalry_op]_identity_-_sakai_mikio__fonzi_m_.mid\n",
      "Parsing ../kaggle/data/anime/Mai-san.mid\n",
      "Parsing ../kaggle/data/anime/Gurenge_full.mid\n",
      "Parsing ../kaggle/data/anime/HELLO_to_DREAM.mid\n",
      "Parsing ../kaggle/data/anime/Death Note - The World .mid\n",
      "Parsing ../kaggle/data/anime/Planetes Midi.mid\n",
      "Parsing ../kaggle/data/anime/Love_with_You.mid\n",
      "Parsing ../kaggle/data/anime/Requiem_der_Morgenroete.mid\n",
      "Parsing ../kaggle/data/anime/Sentimental_Crisis_Piano_Version.mid\n",
      "Parsing ../kaggle/data/anime/Hacking_to_the_Gate.mid\n",
      "Parsing ../kaggle/data/anime/[noragami_aragoto_op]_kyoran_hey_kids___-_the_oral_cigarettes__fonzi_m_.mid\n",
      "Parsing ../kaggle/data/anime/[naruto_shippuden_opening_19]_blood_circulator_-_akfg__fonzi_m_.mid\n",
      "Parsing ../kaggle/data/anime/Mirai - Orange.mid\n",
      "Parsing ../kaggle/data/anime/Angel Beats! - Ichiban no Takaramono 2017.mid\n",
      "Parsing ../kaggle/data/anime/Lucky_Ending.mid\n",
      "Parsing ../kaggle/data/anime/Mirai Nikki - Here With You.mid\n",
      "Parsing ../kaggle/data/anime/Continued Story - Code Geass.mid\n",
      "Parsing ../kaggle/data/anime/Ignite - Sword Art Online.mid\n",
      "Parsing ../kaggle/data/anime/VORACITY.mid\n",
      "Parsing ../kaggle/data/anime/Heart Realize - Noragami copy.mid\n",
      "Parsing ../kaggle/data/anime/[yuri_on_ice_op]_history_maker_full__fonzi_m_.mid\n",
      "Parsing ../kaggle/data/anime/Hentai.mid\n",
      "Parsing ../kaggle/data/anime/Lull Soshite Bokurawa.mid\n",
      "Parsing ../kaggle/data/anime/Loneliest_Girl.mid\n",
      "Parsing ../kaggle/data/anime/Egoist - Euterpe _Silence_ _ Departures _ Blessing.mid\n",
      "Parsing ../kaggle/data/anime/Fighting_Gold.mid\n",
      "Parsing ../kaggle/data/anime/UNION.mid\n",
      "Parsing ../kaggle/data/anime/[gakusen_toshi_asterisk_2_ed]_ai_no_uta_-words_of_love-_-_chisuga_haruka__fonzi_m_.mid\n",
      "Parsing ../kaggle/data/anime/Kimi_no_Sei.mid\n",
      "Parsing ../kaggle/data/anime/[kuzu_no_honkai_op]_uso_no_hibana_-_96neko__fonzi_m_.mid\n",
      "Parsing ../kaggle/data/anime/Gurenge.mid\n",
      "Parsing ../kaggle/data/anime/[naruto_shippuden_opening_20]_empty_heart_-_anly__fonzi_m_.mid\n",
      "Parsing ../kaggle/data/anime/[ajin_op]_yoru_wa_nemureru_kai_-__flumpool__fonzi_m_.mid\n",
      "Parsing ../kaggle/data/anime/forget-me-not.mid\n",
      "Parsing ../kaggle/data/anime/naruto_shippuden_op_16_piano_for_sheet_music.mid\n",
      "Parsing ../kaggle/data/anime/Despair - Naruto.mid\n",
      "Parsing ../kaggle/data/anime/marigold__deemo_ost_-_fonzi_m_.mid\n",
      "Parsing ../kaggle/data/anime/Kimi ni Todoke - Reaching You.mid\n",
      "Parsing ../kaggle/data/anime/[masamune-kun_no_revenge_op]_wagamama_mirror_heart_-_ayaka_ohashi__fonzi_m_.mid\n",
      "Parsing ../kaggle/data/anime/YouSeeBIGGIRL (From _Attack on Titan_).mid\n",
      "Parsing ../kaggle/data/anime/[konosuba_season_2_op]_tomorrow_-_machico__fonzi_m_.mid\n",
      "Parsing ../kaggle/data/anime/Eye-Water AOT.mid\n",
      "Parsing ../kaggle/data/anime/Hyouka - Madoromi no Yakusoku.mid\n",
      "Parsing ../kaggle/data/anime/Hikaru Nara.mid\n",
      "Parsing ../kaggle/data/anime/Hyouka - Yasashisa no Riyuu .mid\n",
      "Parsing ../kaggle/data/anime/Kamado_Tanjirou_no_Uta_full.mid\n",
      "Parsing ../kaggle/data/anime/Korra Finale (Legend of Korra).mid\n",
      "Parsing ../kaggle/data/anime/Ninelie Midi.mid\n",
      "Parsing ../kaggle/data/anime/[kiznaiver_op]_lay_your_hands_on_me_-_boom_boom_satellites__fonzi_m_performance_.mid\n",
      "Parsing ../kaggle/data/anime/Watashi no Uso.mid\n",
      "Parsing ../kaggle/data/anime/A Tender Feeling.mid\n"
     ]
    },
    {
     "name": "stdout",
     "output_type": "stream",
     "text": [
      "Parsing ../kaggle/data/anime/Within.mid\n"
     ]
    }
   ],
   "source": [
    "# import the data and seperate into songs\n",
    "# same method as train data\n",
    "\n",
    "# let's seperate up the sequence by songs.\n",
    "# 1 song in 1 list\n",
    "\n",
    "notes_format = []\n",
    "failed_file_count = 0\n",
    "for file in glob.glob(\"../kaggle/data/anime/*.mid\"):\n",
    "    \n",
    "    try:\n",
    "        midi = converter.parse(file)\n",
    "        print(f'Parsing {file}') # to keep track of progress\n",
    "        notes_to_parse = None\n",
    "        \n",
    "    except:\n",
    "        print(f'failed to find time signature for file {file}') # in case file cannot be read\n",
    "        failed_file_count+=1\n",
    "    \n",
    "    notes_to_parse = midi.flat.notes\n",
    "    \n",
    "    notes = []\n",
    "# we are interested in getting the notes and chords\n",
    "    for element in notes_to_parse:\n",
    "        if isinstance(element, note.Note):\n",
    "            notes.append(str(element.pitch)+ \" \" +  str(element.quarterLength)) # add note and time sig\n",
    "        elif isinstance(element, chord.Chord):\n",
    "            notes.append('.'.join(str(n) for n in element.normalOrder) + \" \" +  str(element.quarterLength)) # convert a chord into it's numerical elements\n",
    "        elif isinstance(element, note.Rest):\n",
    "            notes.append(str(element.name)  + \" \" + str(element.quarterLength))\n",
    "            \n",
    "    notes_format.append([notes, file])"
   ]
  },
  {
   "cell_type": "code",
   "execution_count": 3,
   "id": "c2edb3ef",
   "metadata": {},
   "outputs": [
    {
     "data": {
      "text/plain": [
       "130"
      ]
     },
     "execution_count": 3,
     "metadata": {},
     "output_type": "execute_result"
    }
   ],
   "source": [
    "len(notes_format)"
   ]
  },
  {
   "cell_type": "markdown",
   "id": "f2ec5916",
   "metadata": {},
   "source": [
    "The number of songs in the test set is **130**, which exceeds that of the train set at **92**.\n",
    "\n",
    "<br>\n",
    "We will now look at the lengths of the songs to see which are shorter than 100 notes. Since we are passing a sequence of 100 notes into the model, the song will not be of use if it has less than 100 notes."
   ]
  },
  {
   "cell_type": "code",
   "execution_count": 4,
   "id": "7038ba0f",
   "metadata": {},
   "outputs": [
    {
     "data": {
      "text/plain": [
       "[]"
      ]
     },
     "execution_count": 4,
     "metadata": {},
     "output_type": "execute_result"
    }
   ],
   "source": [
    "# get songs length and name for songs that have less than 100 notes\n",
    "[(len(song[0]), song[1]) for song in notes_format if len(song[0])<=100]"
   ]
  },
  {
   "cell_type": "markdown",
   "id": "e6ed8cd7",
   "metadata": {},
   "source": [
    "None of the songs have less than 100 notes. The test set is good to go!"
   ]
  },
  {
   "cell_type": "markdown",
   "id": "957c5e5c",
   "metadata": {},
   "source": [
    "## Song length analysis"
   ]
  },
  {
   "cell_type": "code",
   "execution_count": 39,
   "id": "fa89e8a6",
   "metadata": {},
   "outputs": [],
   "source": [
    "song_lengths = [len(song[0]) for song in notes_format]"
   ]
  },
  {
   "cell_type": "code",
   "execution_count": 40,
   "id": "948fa1ec",
   "metadata": {},
   "outputs": [
    {
     "name": "stdout",
     "output_type": "stream",
     "text": [
      "The average song length is 749.42 elements.\n"
     ]
    }
   ],
   "source": [
    "print(f'The average song length is {round(sum(song_lengths)/len(song_lengths),2)} elements.')"
   ]
  },
  {
   "cell_type": "markdown",
   "id": "7b910bfc",
   "metadata": {},
   "source": [
    "The average song length for the test data is **749.42** elements, which is higher than that of the train data's at **677.9** elements."
   ]
  },
  {
   "cell_type": "code",
   "execution_count": 42,
   "id": "613b961d",
   "metadata": {},
   "outputs": [],
   "source": [
    "import matplotlib.pyplot as plt"
   ]
  },
  {
   "cell_type": "code",
   "execution_count": 46,
   "id": "701d9924",
   "metadata": {},
   "outputs": [
    {
     "data": {
      "image/png": "[encoded data removed]",
      "text/plain": [
       "<Figure size 576x432 with 1 Axes>"
      ]
     },
     "metadata": {
      "image/png": {
       "height": 386,
       "width": 494
      },
      "needs_background": "light"
     },
     "output_type": "display_data"
    }
   ],
   "source": [
    "plt.figure(figsize=(8,6))\n",
    "plt.hist(song_lengths, color='green')\n",
    "plt.xlabel('Song Lengths')\n",
    "plt.ylabel('Number of Songs')\n",
    "plt.axvline(x=950, c='red')\n",
    "plt.title('Song Length Distribution');"
   ]
  },
  {
   "cell_type": "markdown",
   "id": "ef415404",
   "metadata": {},
   "source": [
    "From the distribution, we can see that most songs are less than 950 elements in length."
   ]
  },
  {
   "cell_type": "markdown",
   "id": "58b19fde",
   "metadata": {},
   "source": [
    "## Seperating the durations from notes and chords\n",
    "\n",
    "We will now seperate the song notes and durations, similar to what was done for the train dataset."
   ]
  },
  {
   "cell_type": "code",
   "execution_count": 5,
   "id": "97ae2c7d",
   "metadata": {},
   "outputs": [
    {
     "name": "stdout",
     "output_type": "stream",
     "text": [
      "Parsing ../kaggle/data/anime/Tokyo Ghoul Unravel.mid\n",
      "Parsing ../kaggle/data/anime/Sentimental_Crisis.mid\n",
      "Parsing ../kaggle/data/anime/Dango Daikazoku.mid\n",
      "Parsing ../kaggle/data/anime/goblin_ost7__fonzi_m_.mid\n",
      "Parsing ../kaggle/data/anime/Aqua Terrarium .mid\n",
      "Parsing ../kaggle/data/anime/Nezukos_Theme.mid\n",
      "Parsing ../kaggle/data/anime/[divine_gate_op]_one-me_two-hearts_-_hitorie__fonzi_m_.mid\n",
      "Parsing ../kaggle/data/anime/Vogel im Käfig.mid\n",
      "Parsing ../kaggle/data/anime/Suiheisen.mid\n",
      "Parsing ../kaggle/data/anime/Niji_no_Kanata_ni_instrumental.mid\n",
      "Parsing ../kaggle/data/anime/Swordland - SAO.mid\n",
      "Parsing ../kaggle/data/anime/Shelter - Porter Robinson _ Madeon.mid\n",
      "Parsing ../kaggle/data/anime/[rezero_kara_hajimeru_isekai_seikatsu_ed_2]_stay_alive_-_rie_takahashi__fonzi_m_.mid\n",
      "Parsing ../kaggle/data/anime/[fuuka_op]_climbers_high_-_manami_numakura__fonzi_m_.mid\n",
      "Parsing ../kaggle/data/anime/Accel World - Bye Bye.mid\n",
      "Parsing ../kaggle/data/anime/Renai_Circulation_tv.mid\n",
      "Parsing ../kaggle/data/anime/Catch the Moment SAO.mid\n",
      "Parsing ../kaggle/data/anime/[gakusen_toshi_asterisk_ed]_waiting_for_the_rain_-_maaya_sakamoto__fonzi_m_performance_.mid\n",
      "Parsing ../kaggle/data/anime/Sadness and Sorrow .mid\n",
      "Parsing ../kaggle/data/anime/[kimi_no_na_wa._op]_yumetourou_-_radwimps_full_piano__fonzi_m_.mid\n",
      "Parsing ../kaggle/data/anime/Utena_Garden.mid\n",
      "Parsing ../kaggle/data/anime/Unjust Life .mid\n",
      "Parsing ../kaggle/data/anime/Sora ni Hikaru (From _Clannad_) .mid\n",
      "Parsing ../kaggle/data/anime/[relife_op]_button_-_penguin_research__fonzi_m_.mid\n",
      "Parsing ../kaggle/data/anime/Hitorigoto.mid\n",
      "Parsing ../kaggle/data/anime/Ushio.mid\n",
      "Parsing ../kaggle/data/anime/FAITH.mid\n",
      "Parsing ../kaggle/data/anime/[rakudai_kishi_no_cavalry_op]_identity_-_sakai_mikio__fonzi_m_ost_ver._.mid\n",
      "Parsing ../kaggle/data/anime/[ao_no_kanata_no_four_rhythm_op]_contrail_kiseki__fonzi_m_.mid\n",
      "Parsing ../kaggle/data/anime/Unjust Life.mid\n",
      "Parsing ../kaggle/data/anime/Euterpe MIDI.mid\n",
      "Parsing ../kaggle/data/anime/Nevereverland.mid\n",
      "Parsing ../kaggle/data/anime/[boku_dake_ga_inai_machi_ed]_sore_wa_chiisana_hikari_no_youna_-_sayuri__fonzi_m_performance_.mid\n",
      "Parsing ../kaggle/data/anime/Guren no Yumiya (From_Attack on Titan_).mid\n",
      "Parsing ../kaggle/data/anime/Senjougahara Tore.mid\n",
      "Parsing ../kaggle/data/anime/[rewrite_anime_op]_philosophyz_-_runa_mizutani__fonzi_m_.mid\n",
      "Parsing ../kaggle/data/anime/Seishun_Buta_Yarou.mid\n",
      "Parsing ../kaggle/data/anime/Kimi_no_Namae.mid\n",
      "Parsing ../kaggle/data/anime/Yake Ochinai Tsubasa MIDI.mid\n",
      "Parsing ../kaggle/data/anime/Brave Song MIDI.mid\n",
      "Parsing ../kaggle/data/anime/[noragami_aragoto_op_full]_kyoran_hey_kids___-_the_oral_cigarettes__fonzi_m_.mid\n",
      "Parsing ../kaggle/data/anime/This_Game.mid\n",
      "Parsing ../kaggle/data/anime/TEMPEST.mid\n",
      "Parsing ../kaggle/data/anime/Mitsuba no Musubime.mid\n",
      "Parsing ../kaggle/data/anime/Love_Dramatic.mid\n",
      "Parsing ../kaggle/data/anime/Chikatto_Chika_Chika.mid\n",
      "Parsing ../kaggle/data/anime/Attack_on_Titan_OST_Omake_Pfadlib.mid\n",
      "Parsing ../kaggle/data/anime/Again_tv.mid\n",
      "Parsing ../kaggle/data/anime/I Will (From _Ao Haru Ride_).mid\n",
      "Parsing ../kaggle/data/anime/Kuusou Mesorogiwi.mid\n",
      "Parsing ../kaggle/data/anime/[charlotte_op]_bravely_you_-_lia_(fonzi_m).mid\n",
      "Parsing ../kaggle/data/anime/[kabaneri_of_the_iron_fortress_ost]_episode_1_bgm__fonzi_m_performance_.mid\n",
      "Parsing ../kaggle/data/anime/RISE_full.mid\n",
      "Parsing ../kaggle/data/anime/Omake-Pfadlib.mid\n",
      "Parsing ../kaggle/data/anime/Lost My Pieces.mid\n",
      "Parsing ../kaggle/data/anime/[owari_no_seraph_2_op]_two_souls_-toward_the_truth-_-_fripside__fonzi_m_.mid\n",
      "Parsing ../kaggle/data/anime/[shinmai_maou_no_testament_burst_op]_over_the_testament_-_metamorphose__fonzi_m_.mid\n",
      "Parsing ../kaggle/data/anime/[seiren_op]_kimi_no_hana_-_hanako_oku__fonzi_m_.mid\n",
      "Parsing ../kaggle/data/anime/holy_night.mid\n",
      "Parsing ../kaggle/data/anime/Inferno_full.mid\n",
      "Parsing ../kaggle/data/anime/Love_Dramatic_full.mid\n",
      "Parsing ../kaggle/data/anime/Crossing Field (From _Sword Art Online_).mid\n",
      "Parsing ../kaggle/data/anime/[rezero_kara_hajimeru_isekai_seikatsu_op_2]_paradisus-paradoxum_-_myth___roid__fonzi_m_.mid\n",
      "Parsing ../kaggle/data/anime/Silent_Solitude.mid\n",
      "Parsing ../kaggle/data/anime/[one_punch_man_op]_the_hero_-_jam_project__fonzi_m_.mid\n",
      "Parsing ../kaggle/data/anime/Kimi ni Todoke ENDING 2 - MIDI.mid\n",
      "Parsing ../kaggle/data/anime/[tales_of_zestiria_the_x_season_2_ed]_innosense_-_flow__fonzi_m_.mid\n",
      "Parsing ../kaggle/data/anime/Shirushi - Sword Art Online 2 .mid\n",
      "Parsing ../kaggle/data/anime/Overfly - SAO - MIDI.mid\n",
      "Parsing ../kaggle/data/anime/[kabaneri_of_the_iron_fortress_ed]_ninelie__fonzi_m_full_ver._.mid\n",
      "Parsing ../kaggle/data/anime/[eromanga_sensei_full_op]_hitorigoto_-_claris__fonzi_m_.mid\n",
      "Parsing ../kaggle/data/anime/Sekai wa Koi ni Ochite Iru.mid\n",
      "Parsing ../kaggle/data/anime/Tetsukazu no Kanjou (Piano Solo).mid\n",
      "Parsing ../kaggle/data/anime/Krone .mid\n",
      "Parsing ../kaggle/data/anime/Onegai_Muscle.mid\n",
      "Parsing ../kaggle/data/anime/[dragon_ball_super_op_1]_chouzetsu_dynamic!_(fonzi_m).mid\n",
      "Parsing ../kaggle/data/anime/Sincerely.mid\n",
      "Parsing ../kaggle/data/anime/Orange - Hikari no Hahen.mid\n",
      "Parsing ../kaggle/data/anime/[rakudai_kishi_no_cavalry_op]_identity_-_sakai_mikio__fonzi_m_.mid\n",
      "Parsing ../kaggle/data/anime/Mai-san.mid\n",
      "Parsing ../kaggle/data/anime/Gurenge_full.mid\n",
      "Parsing ../kaggle/data/anime/HELLO_to_DREAM.mid\n",
      "Parsing ../kaggle/data/anime/Death Note - The World .mid\n",
      "Parsing ../kaggle/data/anime/Planetes Midi.mid\n",
      "Parsing ../kaggle/data/anime/Love_with_You.mid\n",
      "Parsing ../kaggle/data/anime/Requiem_der_Morgenroete.mid\n",
      "Parsing ../kaggle/data/anime/Sentimental_Crisis_Piano_Version.mid\n",
      "Parsing ../kaggle/data/anime/Hacking_to_the_Gate.mid\n",
      "Parsing ../kaggle/data/anime/[noragami_aragoto_op]_kyoran_hey_kids___-_the_oral_cigarettes__fonzi_m_.mid\n",
      "Parsing ../kaggle/data/anime/[naruto_shippuden_opening_19]_blood_circulator_-_akfg__fonzi_m_.mid\n",
      "Parsing ../kaggle/data/anime/Mirai - Orange.mid\n",
      "Parsing ../kaggle/data/anime/Angel Beats! - Ichiban no Takaramono 2017.mid\n",
      "Parsing ../kaggle/data/anime/Lucky_Ending.mid\n",
      "Parsing ../kaggle/data/anime/Mirai Nikki - Here With You.mid\n",
      "Parsing ../kaggle/data/anime/Continued Story - Code Geass.mid\n",
      "Parsing ../kaggle/data/anime/Ignite - Sword Art Online.mid\n",
      "Parsing ../kaggle/data/anime/VORACITY.mid\n",
      "Parsing ../kaggle/data/anime/Heart Realize - Noragami copy.mid\n",
      "Parsing ../kaggle/data/anime/[yuri_on_ice_op]_history_maker_full__fonzi_m_.mid\n",
      "Parsing ../kaggle/data/anime/Hentai.mid\n",
      "Parsing ../kaggle/data/anime/Lull Soshite Bokurawa.mid\n",
      "Parsing ../kaggle/data/anime/Loneliest_Girl.mid\n",
      "Parsing ../kaggle/data/anime/Egoist - Euterpe _Silence_ _ Departures _ Blessing.mid\n",
      "Parsing ../kaggle/data/anime/Fighting_Gold.mid\n",
      "Parsing ../kaggle/data/anime/UNION.mid\n",
      "Parsing ../kaggle/data/anime/[gakusen_toshi_asterisk_2_ed]_ai_no_uta_-words_of_love-_-_chisuga_haruka__fonzi_m_.mid\n",
      "Parsing ../kaggle/data/anime/Kimi_no_Sei.mid\n",
      "Parsing ../kaggle/data/anime/[kuzu_no_honkai_op]_uso_no_hibana_-_96neko__fonzi_m_.mid\n",
      "Parsing ../kaggle/data/anime/Gurenge.mid\n",
      "Parsing ../kaggle/data/anime/[naruto_shippuden_opening_20]_empty_heart_-_anly__fonzi_m_.mid\n",
      "Parsing ../kaggle/data/anime/[ajin_op]_yoru_wa_nemureru_kai_-__flumpool__fonzi_m_.mid\n",
      "Parsing ../kaggle/data/anime/forget-me-not.mid\n",
      "Parsing ../kaggle/data/anime/naruto_shippuden_op_16_piano_for_sheet_music.mid\n",
      "Parsing ../kaggle/data/anime/Despair - Naruto.mid\n",
      "Parsing ../kaggle/data/anime/marigold__deemo_ost_-_fonzi_m_.mid\n",
      "Parsing ../kaggle/data/anime/Kimi ni Todoke - Reaching You.mid\n",
      "Parsing ../kaggle/data/anime/[masamune-kun_no_revenge_op]_wagamama_mirror_heart_-_ayaka_ohashi__fonzi_m_.mid\n",
      "Parsing ../kaggle/data/anime/YouSeeBIGGIRL (From _Attack on Titan_).mid\n",
      "Parsing ../kaggle/data/anime/[konosuba_season_2_op]_tomorrow_-_machico__fonzi_m_.mid\n",
      "Parsing ../kaggle/data/anime/Eye-Water AOT.mid\n",
      "Parsing ../kaggle/data/anime/Hyouka - Madoromi no Yakusoku.mid\n",
      "Parsing ../kaggle/data/anime/Hikaru Nara.mid\n",
      "Parsing ../kaggle/data/anime/Hyouka - Yasashisa no Riyuu .mid\n",
      "Parsing ../kaggle/data/anime/Kamado_Tanjirou_no_Uta_full.mid\n",
      "Parsing ../kaggle/data/anime/Korra Finale (Legend of Korra).mid\n",
      "Parsing ../kaggle/data/anime/Ninelie Midi.mid\n",
      "Parsing ../kaggle/data/anime/[kiznaiver_op]_lay_your_hands_on_me_-_boom_boom_satellites__fonzi_m_performance_.mid\n",
      "Parsing ../kaggle/data/anime/Watashi no Uso.mid\n",
      "Parsing ../kaggle/data/anime/A Tender Feeling.mid\n"
     ]
    },
    {
     "name": "stdout",
     "output_type": "stream",
     "text": [
      "Parsing ../kaggle/data/anime/Within.mid\n"
     ]
    }
   ],
   "source": [
    "notes_new_format = []\n",
    "time_new_format = []\n",
    "failed_file_count = 0\n",
    "for file in glob.glob(\"../kaggle/data/anime/*.mid\"):\n",
    "    \n",
    "    try:\n",
    "        midi = converter.parse(file)\n",
    "        print(f'Parsing {file}') # to keep track of progress\n",
    "        notes_to_parse = None\n",
    "\n",
    "    except:\n",
    "        print(f'failed to find time signature for file {file}') # in case file cannot be read\n",
    "        failed_file_count+=1\n",
    "\n",
    "    notes_to_parse = midi.flat.notes\n",
    "\n",
    "    notes = []\n",
    "    time = []\n",
    "# we are interested in getting the notes and chords\n",
    "    for element in notes_to_parse:\n",
    "        if isinstance(element, note.Note):\n",
    "            notes.append(str(element.pitch)) # get note\n",
    "            time.append(str(element.quarterLength)) # get duration\n",
    "        elif isinstance(element, chord.Chord):\n",
    "            notes.append('.'.join(str(n) for n in element.normalOrder)) # get chord\n",
    "            time.append(str(element.quarterLength)) # get duration\n",
    "        elif isinstance(element, note.Rest):\n",
    "            notes.append(str(element.name)) # get rest\n",
    "            time.append(str(element.quarterLength)) # get duration\n",
    "\n",
    "    notes_new_format.append(notes)\n",
    "    time_new_format.append(time)"
   ]
  },
  {
   "cell_type": "code",
   "execution_count": 7,
   "id": "eb6b1fb3",
   "metadata": {},
   "outputs": [
    {
     "name": "stdout",
     "output_type": "stream",
     "text": [
      "130\n",
      "130\n"
     ]
    }
   ],
   "source": [
    "# check that the lengths are equal\n",
    "print(len(notes_new_format))\n",
    "print(len(time_new_format))"
   ]
  },
  {
   "cell_type": "markdown",
   "id": "8808ba8b",
   "metadata": {},
   "source": [
    "Now that the lengths are equal, we can proceed to export the data as pickle files."
   ]
  },
  {
   "cell_type": "code",
   "execution_count": 9,
   "id": "39cd8bbc",
   "metadata": {},
   "outputs": [],
   "source": [
    "import pickle"
   ]
  },
  {
   "cell_type": "code",
   "execution_count": 10,
   "id": "4c86ff8e",
   "metadata": {},
   "outputs": [],
   "source": [
    "# save song_notes\n",
    "with open('../assets_test_songs/song_notes', 'wb') as filepath:\n",
    "    pickle.dump(notes_new_format, filepath)\n",
    "    \n",
    "# save song_times\n",
    "with open('../assets_test_songs/song_times', 'wb') as filepath:\n",
    "    pickle.dump(time_new_format, filepath)"
   ]
  },
  {
   "cell_type": "markdown",
   "id": "ceafa5e3",
   "metadata": {},
   "source": [
    "## Notes/Chords and Durations Analysis\n",
    "\n",
    "We will first need to extract the individual notes and times into a long sequence."
   ]
  },
  {
   "cell_type": "code",
   "execution_count": 11,
   "id": "0a0ecab8",
   "metadata": {},
   "outputs": [
    {
     "name": "stdout",
     "output_type": "stream",
     "text": [
      "Parsing ../kaggle/data/anime/Tokyo Ghoul Unravel.mid\n",
      "Parsing ../kaggle/data/anime/Sentimental_Crisis.mid\n",
      "Parsing ../kaggle/data/anime/Dango Daikazoku.mid\n",
      "Parsing ../kaggle/data/anime/goblin_ost7__fonzi_m_.mid\n",
      "Parsing ../kaggle/data/anime/Aqua Terrarium .mid\n",
      "Parsing ../kaggle/data/anime/Nezukos_Theme.mid\n",
      "Parsing ../kaggle/data/anime/[divine_gate_op]_one-me_two-hearts_-_hitorie__fonzi_m_.mid\n",
      "Parsing ../kaggle/data/anime/Vogel im Käfig.mid\n",
      "Parsing ../kaggle/data/anime/Suiheisen.mid\n",
      "Parsing ../kaggle/data/anime/Niji_no_Kanata_ni_instrumental.mid\n",
      "Parsing ../kaggle/data/anime/Swordland - SAO.mid\n",
      "Parsing ../kaggle/data/anime/Shelter - Porter Robinson _ Madeon.mid\n",
      "Parsing ../kaggle/data/anime/[rezero_kara_hajimeru_isekai_seikatsu_ed_2]_stay_alive_-_rie_takahashi__fonzi_m_.mid\n",
      "Parsing ../kaggle/data/anime/[fuuka_op]_climbers_high_-_manami_numakura__fonzi_m_.mid\n",
      "Parsing ../kaggle/data/anime/Accel World - Bye Bye.mid\n",
      "Parsing ../kaggle/data/anime/Renai_Circulation_tv.mid\n",
      "Parsing ../kaggle/data/anime/Catch the Moment SAO.mid\n",
      "Parsing ../kaggle/data/anime/[gakusen_toshi_asterisk_ed]_waiting_for_the_rain_-_maaya_sakamoto__fonzi_m_performance_.mid\n",
      "Parsing ../kaggle/data/anime/Sadness and Sorrow .mid\n",
      "Parsing ../kaggle/data/anime/[kimi_no_na_wa._op]_yumetourou_-_radwimps_full_piano__fonzi_m_.mid\n",
      "Parsing ../kaggle/data/anime/Utena_Garden.mid\n",
      "Parsing ../kaggle/data/anime/Unjust Life .mid\n",
      "Parsing ../kaggle/data/anime/Sora ni Hikaru (From _Clannad_) .mid\n",
      "Parsing ../kaggle/data/anime/[relife_op]_button_-_penguin_research__fonzi_m_.mid\n",
      "Parsing ../kaggle/data/anime/Hitorigoto.mid\n",
      "Parsing ../kaggle/data/anime/Ushio.mid\n",
      "Parsing ../kaggle/data/anime/FAITH.mid\n",
      "Parsing ../kaggle/data/anime/[rakudai_kishi_no_cavalry_op]_identity_-_sakai_mikio__fonzi_m_ost_ver._.mid\n",
      "Parsing ../kaggle/data/anime/[ao_no_kanata_no_four_rhythm_op]_contrail_kiseki__fonzi_m_.mid\n",
      "Parsing ../kaggle/data/anime/Unjust Life.mid\n",
      "Parsing ../kaggle/data/anime/Euterpe MIDI.mid\n",
      "Parsing ../kaggle/data/anime/Nevereverland.mid\n",
      "Parsing ../kaggle/data/anime/[boku_dake_ga_inai_machi_ed]_sore_wa_chiisana_hikari_no_youna_-_sayuri__fonzi_m_performance_.mid\n",
      "Parsing ../kaggle/data/anime/Guren no Yumiya (From_Attack on Titan_).mid\n",
      "Parsing ../kaggle/data/anime/Senjougahara Tore.mid\n",
      "Parsing ../kaggle/data/anime/[rewrite_anime_op]_philosophyz_-_runa_mizutani__fonzi_m_.mid\n",
      "Parsing ../kaggle/data/anime/Seishun_Buta_Yarou.mid\n",
      "Parsing ../kaggle/data/anime/Kimi_no_Namae.mid\n",
      "Parsing ../kaggle/data/anime/Yake Ochinai Tsubasa MIDI.mid\n",
      "Parsing ../kaggle/data/anime/Brave Song MIDI.mid\n",
      "Parsing ../kaggle/data/anime/[noragami_aragoto_op_full]_kyoran_hey_kids___-_the_oral_cigarettes__fonzi_m_.mid\n",
      "Parsing ../kaggle/data/anime/This_Game.mid\n",
      "Parsing ../kaggle/data/anime/TEMPEST.mid\n",
      "Parsing ../kaggle/data/anime/Mitsuba no Musubime.mid\n",
      "Parsing ../kaggle/data/anime/Love_Dramatic.mid\n",
      "Parsing ../kaggle/data/anime/Chikatto_Chika_Chika.mid\n",
      "Parsing ../kaggle/data/anime/Attack_on_Titan_OST_Omake_Pfadlib.mid\n",
      "Parsing ../kaggle/data/anime/Again_tv.mid\n",
      "Parsing ../kaggle/data/anime/I Will (From _Ao Haru Ride_).mid\n",
      "Parsing ../kaggle/data/anime/Kuusou Mesorogiwi.mid\n",
      "Parsing ../kaggle/data/anime/[charlotte_op]_bravely_you_-_lia_(fonzi_m).mid\n",
      "Parsing ../kaggle/data/anime/[kabaneri_of_the_iron_fortress_ost]_episode_1_bgm__fonzi_m_performance_.mid\n",
      "Parsing ../kaggle/data/anime/RISE_full.mid\n",
      "Parsing ../kaggle/data/anime/Omake-Pfadlib.mid\n",
      "Parsing ../kaggle/data/anime/Lost My Pieces.mid\n",
      "Parsing ../kaggle/data/anime/[owari_no_seraph_2_op]_two_souls_-toward_the_truth-_-_fripside__fonzi_m_.mid\n",
      "Parsing ../kaggle/data/anime/[shinmai_maou_no_testament_burst_op]_over_the_testament_-_metamorphose__fonzi_m_.mid\n",
      "Parsing ../kaggle/data/anime/[seiren_op]_kimi_no_hana_-_hanako_oku__fonzi_m_.mid\n",
      "Parsing ../kaggle/data/anime/holy_night.mid\n",
      "Parsing ../kaggle/data/anime/Inferno_full.mid\n",
      "Parsing ../kaggle/data/anime/Love_Dramatic_full.mid\n",
      "Parsing ../kaggle/data/anime/Crossing Field (From _Sword Art Online_).mid\n",
      "Parsing ../kaggle/data/anime/[rezero_kara_hajimeru_isekai_seikatsu_op_2]_paradisus-paradoxum_-_myth___roid__fonzi_m_.mid\n",
      "Parsing ../kaggle/data/anime/Silent_Solitude.mid\n",
      "Parsing ../kaggle/data/anime/[one_punch_man_op]_the_hero_-_jam_project__fonzi_m_.mid\n",
      "Parsing ../kaggle/data/anime/Kimi ni Todoke ENDING 2 - MIDI.mid\n",
      "Parsing ../kaggle/data/anime/[tales_of_zestiria_the_x_season_2_ed]_innosense_-_flow__fonzi_m_.mid\n",
      "Parsing ../kaggle/data/anime/Shirushi - Sword Art Online 2 .mid\n",
      "Parsing ../kaggle/data/anime/Overfly - SAO - MIDI.mid\n",
      "Parsing ../kaggle/data/anime/[kabaneri_of_the_iron_fortress_ed]_ninelie__fonzi_m_full_ver._.mid\n",
      "Parsing ../kaggle/data/anime/[eromanga_sensei_full_op]_hitorigoto_-_claris__fonzi_m_.mid\n",
      "Parsing ../kaggle/data/anime/Sekai wa Koi ni Ochite Iru.mid\n",
      "Parsing ../kaggle/data/anime/Tetsukazu no Kanjou (Piano Solo).mid\n",
      "Parsing ../kaggle/data/anime/Krone .mid\n",
      "Parsing ../kaggle/data/anime/Onegai_Muscle.mid\n",
      "Parsing ../kaggle/data/anime/[dragon_ball_super_op_1]_chouzetsu_dynamic!_(fonzi_m).mid\n",
      "Parsing ../kaggle/data/anime/Sincerely.mid\n",
      "Parsing ../kaggle/data/anime/Orange - Hikari no Hahen.mid\n",
      "Parsing ../kaggle/data/anime/[rakudai_kishi_no_cavalry_op]_identity_-_sakai_mikio__fonzi_m_.mid\n",
      "Parsing ../kaggle/data/anime/Mai-san.mid\n",
      "Parsing ../kaggle/data/anime/Gurenge_full.mid\n",
      "Parsing ../kaggle/data/anime/HELLO_to_DREAM.mid\n",
      "Parsing ../kaggle/data/anime/Death Note - The World .mid\n",
      "Parsing ../kaggle/data/anime/Planetes Midi.mid\n",
      "Parsing ../kaggle/data/anime/Love_with_You.mid\n",
      "Parsing ../kaggle/data/anime/Requiem_der_Morgenroete.mid\n",
      "Parsing ../kaggle/data/anime/Sentimental_Crisis_Piano_Version.mid\n",
      "Parsing ../kaggle/data/anime/Hacking_to_the_Gate.mid\n",
      "Parsing ../kaggle/data/anime/[noragami_aragoto_op]_kyoran_hey_kids___-_the_oral_cigarettes__fonzi_m_.mid\n",
      "Parsing ../kaggle/data/anime/[naruto_shippuden_opening_19]_blood_circulator_-_akfg__fonzi_m_.mid\n",
      "Parsing ../kaggle/data/anime/Mirai - Orange.mid\n",
      "Parsing ../kaggle/data/anime/Angel Beats! - Ichiban no Takaramono 2017.mid\n",
      "Parsing ../kaggle/data/anime/Lucky_Ending.mid\n",
      "Parsing ../kaggle/data/anime/Mirai Nikki - Here With You.mid\n",
      "Parsing ../kaggle/data/anime/Continued Story - Code Geass.mid\n",
      "Parsing ../kaggle/data/anime/Ignite - Sword Art Online.mid\n",
      "Parsing ../kaggle/data/anime/VORACITY.mid\n",
      "Parsing ../kaggle/data/anime/Heart Realize - Noragami copy.mid\n",
      "Parsing ../kaggle/data/anime/[yuri_on_ice_op]_history_maker_full__fonzi_m_.mid\n",
      "Parsing ../kaggle/data/anime/Hentai.mid\n",
      "Parsing ../kaggle/data/anime/Lull Soshite Bokurawa.mid\n",
      "Parsing ../kaggle/data/anime/Loneliest_Girl.mid\n",
      "Parsing ../kaggle/data/anime/Egoist - Euterpe _Silence_ _ Departures _ Blessing.mid\n",
      "Parsing ../kaggle/data/anime/Fighting_Gold.mid\n",
      "Parsing ../kaggle/data/anime/UNION.mid\n",
      "Parsing ../kaggle/data/anime/[gakusen_toshi_asterisk_2_ed]_ai_no_uta_-words_of_love-_-_chisuga_haruka__fonzi_m_.mid\n",
      "Parsing ../kaggle/data/anime/Kimi_no_Sei.mid\n",
      "Parsing ../kaggle/data/anime/[kuzu_no_honkai_op]_uso_no_hibana_-_96neko__fonzi_m_.mid\n",
      "Parsing ../kaggle/data/anime/Gurenge.mid\n",
      "Parsing ../kaggle/data/anime/[naruto_shippuden_opening_20]_empty_heart_-_anly__fonzi_m_.mid\n",
      "Parsing ../kaggle/data/anime/[ajin_op]_yoru_wa_nemureru_kai_-__flumpool__fonzi_m_.mid\n",
      "Parsing ../kaggle/data/anime/forget-me-not.mid\n",
      "Parsing ../kaggle/data/anime/naruto_shippuden_op_16_piano_for_sheet_music.mid\n",
      "Parsing ../kaggle/data/anime/Despair - Naruto.mid\n",
      "Parsing ../kaggle/data/anime/marigold__deemo_ost_-_fonzi_m_.mid\n",
      "Parsing ../kaggle/data/anime/Kimi ni Todoke - Reaching You.mid\n",
      "Parsing ../kaggle/data/anime/[masamune-kun_no_revenge_op]_wagamama_mirror_heart_-_ayaka_ohashi__fonzi_m_.mid\n",
      "Parsing ../kaggle/data/anime/YouSeeBIGGIRL (From _Attack on Titan_).mid\n",
      "Parsing ../kaggle/data/anime/[konosuba_season_2_op]_tomorrow_-_machico__fonzi_m_.mid\n",
      "Parsing ../kaggle/data/anime/Eye-Water AOT.mid\n",
      "Parsing ../kaggle/data/anime/Hyouka - Madoromi no Yakusoku.mid\n",
      "Parsing ../kaggle/data/anime/Hikaru Nara.mid\n",
      "Parsing ../kaggle/data/anime/Hyouka - Yasashisa no Riyuu .mid\n",
      "Parsing ../kaggle/data/anime/Kamado_Tanjirou_no_Uta_full.mid\n",
      "Parsing ../kaggle/data/anime/Korra Finale (Legend of Korra).mid\n",
      "Parsing ../kaggle/data/anime/Ninelie Midi.mid\n",
      "Parsing ../kaggle/data/anime/[kiznaiver_op]_lay_your_hands_on_me_-_boom_boom_satellites__fonzi_m_performance_.mid\n",
      "Parsing ../kaggle/data/anime/Watashi no Uso.mid\n"
     ]
    },
    {
     "name": "stdout",
     "output_type": "stream",
     "text": [
      "Parsing ../kaggle/data/anime/A Tender Feeling.mid\n",
      "Parsing ../kaggle/data/anime/Within.mid\n"
     ]
    }
   ],
   "source": [
    "notes = []\n",
    "time = []\n",
    "failed_file_count = 0\n",
    "for file in glob.glob(\"../kaggle/data/anime/*.mid\"):\n",
    "\n",
    "    try:\n",
    "        midi = converter.parse(file)\n",
    "        print(f'Parsing {file}') # to keep track of progress\n",
    "        notes_to_parse = None\n",
    "\n",
    "    except:\n",
    "        print(f'failed to find time signature for file {file}') # in case file cannot be read\n",
    "        failed_file_count+=1\n",
    "\n",
    "    notes_to_parse = midi.flat.notes\n",
    "\n",
    "# we are interested in getting the notes and chords\n",
    "    for element in notes_to_parse:\n",
    "        if isinstance(element, note.Note):\n",
    "            notes.append(str(element.pitch))\n",
    "            time.append(str(element.quarterLength))\n",
    "        elif isinstance(element, chord.Chord):\n",
    "            notes.append('.'.join(str(n) for n in element.normalOrder))\n",
    "            time.append(str(element.quarterLength))\n",
    "        elif isinstance(element, note.Rest):\n",
    "            notes.append(str(element.name))\n",
    "            time.append(str(element.quarterLength))"
   ]
  },
  {
   "cell_type": "code",
   "execution_count": 13,
   "id": "2e336aee",
   "metadata": {},
   "outputs": [
    {
     "name": "stdout",
     "output_type": "stream",
     "text": [
      "97424\n",
      "97424\n"
     ]
    }
   ],
   "source": [
    "# check the lengths of notes and time.\n",
    "# they should be of equal length\n",
    "print(len(notes))\n",
    "print(len(time))"
   ]
  },
  {
   "cell_type": "markdown",
   "id": "21f9390a",
   "metadata": {},
   "source": [
    "The total length of the notes and durations for the test data is **97424**, which is higher than that of our train data at **62367**."
   ]
  },
  {
   "cell_type": "code",
   "execution_count": 14,
   "id": "894d0e8f",
   "metadata": {},
   "outputs": [
    {
     "name": "stdout",
     "output_type": "stream",
     "text": [
      "437 unique elements in pitchnames.\n",
      "70 unique durations in timenames.\n"
     ]
    }
   ],
   "source": [
    "# get unique pitchnames\n",
    "pitchnames = sorted(set(item for item in notes))\n",
    "\n",
    "# get unique timenames\n",
    "timenames = sorted(set(item for item in time))\n",
    "\n",
    "print(f'{len(pitchnames)} unique elements in pitchnames.')\n",
    "print(f'{len(timenames)} unique durations in timenames.')"
   ]
  },
  {
   "cell_type": "markdown",
   "id": "1b8599f4",
   "metadata": {},
   "source": [
    "There are **437** unique pitchnames in the test data, which is higher than that of the train data, which has **382** unique pitchnames.<br>\n",
    "\n",
    "However, there are **70** unique timenames (durations) for the test data, which is lesser than that of the train data, which as **173** unique timenames.<br>\n",
    "\n",
    "This shows that although the test data is longer and has more unique notes/chords than the train data, it shows less variation in the durations for the songs.|"
   ]
  },
  {
   "cell_type": "markdown",
   "id": "b26944b9",
   "metadata": {},
   "source": [
    "### Top notes/chords in the test data"
   ]
  },
  {
   "cell_type": "code",
   "execution_count": 16,
   "id": "770b8ed2",
   "metadata": {},
   "outputs": [],
   "source": [
    "import pandas as pd"
   ]
  },
  {
   "cell_type": "code",
   "execution_count": 21,
   "id": "990c94fa",
   "metadata": {},
   "outputs": [
    {
     "name": "stdout",
     "output_type": "stream",
     "text": [
      "(97424, 1)\n"
     ]
    },
    {
     "data": {
      "text/html": [
       "<div>\n",
       "<style scoped>\n",
       "    .dataframe tbody tr th:only-of-type {\n",
       "        vertical-align: middle;\n",
       "    }\n",
       "\n",
       "    .dataframe tbody tr th {\n",
       "        vertical-align: top;\n",
       "    }\n",
       "\n",
       "    .dataframe thead th {\n",
       "        text-align: right;\n",
       "    }\n",
       "</style>\n",
       "<table border=\"1\" class=\"dataframe\">\n",
       "  <thead>\n",
       "    <tr style=\"text-align: right;\">\n",
       "      <th></th>\n",
       "      <th>notes/chords</th>\n",
       "    </tr>\n",
       "  </thead>\n",
       "  <tbody>\n",
       "    <tr>\n",
       "      <th>0</th>\n",
       "      <td>G3</td>\n",
       "    </tr>\n",
       "    <tr>\n",
       "      <th>1</th>\n",
       "      <td>10.2</td>\n",
       "    </tr>\n",
       "    <tr>\n",
       "      <th>2</th>\n",
       "      <td>2.7</td>\n",
       "    </tr>\n",
       "    <tr>\n",
       "      <th>3</th>\n",
       "      <td>9.0</td>\n",
       "    </tr>\n",
       "    <tr>\n",
       "      <th>4</th>\n",
       "      <td>7.10</td>\n",
       "    </tr>\n",
       "  </tbody>\n",
       "</table>\n",
       "</div>"
      ],
      "text/plain": [
       "  notes/chords\n",
       "0           G3\n",
       "1         10.2\n",
       "2          2.7\n",
       "3          9.0\n",
       "4         7.10"
      ]
     },
     "execution_count": 21,
     "metadata": {},
     "output_type": "execute_result"
    }
   ],
   "source": [
    "note_df = pd.DataFrame(notes)\n",
    "note_df.rename(columns={0:'notes/chords'}, inplace=True)\n",
    "print(note_df.shape)\n",
    "note_df.head()"
   ]
  },
  {
   "cell_type": "code",
   "execution_count": 30,
   "id": "365e85fe",
   "metadata": {},
   "outputs": [
    {
     "data": {
      "text/html": [
       "<div>\n",
       "<style scoped>\n",
       "    .dataframe tbody tr th:only-of-type {\n",
       "        vertical-align: middle;\n",
       "    }\n",
       "\n",
       "    .dataframe tbody tr th {\n",
       "        vertical-align: top;\n",
       "    }\n",
       "\n",
       "    .dataframe thead th {\n",
       "        text-align: right;\n",
       "    }\n",
       "</style>\n",
       "<table border=\"1\" class=\"dataframe\">\n",
       "  <thead>\n",
       "    <tr style=\"text-align: right;\">\n",
       "      <th></th>\n",
       "      <th>notes/chords</th>\n",
       "      <th>count</th>\n",
       "    </tr>\n",
       "  </thead>\n",
       "  <tbody>\n",
       "    <tr>\n",
       "      <th>0</th>\n",
       "      <td>G3</td>\n",
       "      <td>1</td>\n",
       "    </tr>\n",
       "    <tr>\n",
       "      <th>1</th>\n",
       "      <td>10.2</td>\n",
       "      <td>1</td>\n",
       "    </tr>\n",
       "    <tr>\n",
       "      <th>2</th>\n",
       "      <td>2.7</td>\n",
       "      <td>1</td>\n",
       "    </tr>\n",
       "    <tr>\n",
       "      <th>3</th>\n",
       "      <td>9.0</td>\n",
       "      <td>1</td>\n",
       "    </tr>\n",
       "    <tr>\n",
       "      <th>4</th>\n",
       "      <td>7.10</td>\n",
       "      <td>1</td>\n",
       "    </tr>\n",
       "  </tbody>\n",
       "</table>\n",
       "</div>"
      ],
      "text/plain": [
       "  notes/chords  count\n",
       "0           G3      1\n",
       "1         10.2      1\n",
       "2          2.7      1\n",
       "3          9.0      1\n",
       "4         7.10      1"
      ]
     },
     "execution_count": 30,
     "metadata": {},
     "output_type": "execute_result"
    }
   ],
   "source": [
    "note_df['count'] = 1\n",
    "note_df.head()"
   ]
  },
  {
   "cell_type": "code",
   "execution_count": 35,
   "id": "a2cfb7a7",
   "metadata": {},
   "outputs": [
    {
     "data": {
      "text/html": [
       "<div>\n",
       "<style scoped>\n",
       "    .dataframe tbody tr th:only-of-type {\n",
       "        vertical-align: middle;\n",
       "    }\n",
       "\n",
       "    .dataframe tbody tr th {\n",
       "        vertical-align: top;\n",
       "    }\n",
       "\n",
       "    .dataframe thead th {\n",
       "        text-align: right;\n",
       "    }\n",
       "</style>\n",
       "<table border=\"1\" class=\"dataframe\">\n",
       "  <thead>\n",
       "    <tr style=\"text-align: right;\">\n",
       "      <th></th>\n",
       "      <th>count</th>\n",
       "    </tr>\n",
       "    <tr>\n",
       "      <th>notes/chords</th>\n",
       "      <th></th>\n",
       "    </tr>\n",
       "  </thead>\n",
       "  <tbody>\n",
       "    <tr>\n",
       "      <th>D3</th>\n",
       "      <td>1912</td>\n",
       "    </tr>\n",
       "    <tr>\n",
       "      <th>9</th>\n",
       "      <td>1886</td>\n",
       "    </tr>\n",
       "    <tr>\n",
       "      <th>2</th>\n",
       "      <td>1829</td>\n",
       "    </tr>\n",
       "    <tr>\n",
       "      <th>A2</th>\n",
       "      <td>1826</td>\n",
       "    </tr>\n",
       "    <tr>\n",
       "      <th>7</th>\n",
       "      <td>1811</td>\n",
       "    </tr>\n",
       "  </tbody>\n",
       "</table>\n",
       "</div>"
      ],
      "text/plain": [
       "              count\n",
       "notes/chords       \n",
       "D3             1912\n",
       "9              1886\n",
       "2              1829\n",
       "A2             1826\n",
       "7              1811"
      ]
     },
     "execution_count": 35,
     "metadata": {},
     "output_type": "execute_result"
    }
   ],
   "source": [
    "note_df.groupby(by='notes/chords').count().sort_values(by='count', ascending=False).head()"
   ]
  },
  {
   "cell_type": "markdown",
   "id": "fcc96bcd",
   "metadata": {},
   "source": [
    "The top notes are **D3** and **A2**.<br>\n",
    "The top chords are **9**, **2** and **7**."
   ]
  },
  {
   "cell_type": "markdown",
   "id": "01759291",
   "metadata": {},
   "source": [
    "### Top durations in test data"
   ]
  },
  {
   "cell_type": "code",
   "execution_count": 36,
   "id": "95847aea",
   "metadata": {},
   "outputs": [
    {
     "name": "stdout",
     "output_type": "stream",
     "text": [
      "(97424, 1)\n"
     ]
    },
    {
     "data": {
      "text/html": [
       "<div>\n",
       "<style scoped>\n",
       "    .dataframe tbody tr th:only-of-type {\n",
       "        vertical-align: middle;\n",
       "    }\n",
       "\n",
       "    .dataframe tbody tr th {\n",
       "        vertical-align: top;\n",
       "    }\n",
       "\n",
       "    .dataframe thead th {\n",
       "        text-align: right;\n",
       "    }\n",
       "</style>\n",
       "<table border=\"1\" class=\"dataframe\">\n",
       "  <thead>\n",
       "    <tr style=\"text-align: right;\">\n",
       "      <th></th>\n",
       "      <th>durations</th>\n",
       "    </tr>\n",
       "  </thead>\n",
       "  <tbody>\n",
       "    <tr>\n",
       "      <th>0</th>\n",
       "      <td>1.0</td>\n",
       "    </tr>\n",
       "    <tr>\n",
       "      <th>1</th>\n",
       "      <td>0.25</td>\n",
       "    </tr>\n",
       "    <tr>\n",
       "      <th>2</th>\n",
       "      <td>0.25</td>\n",
       "    </tr>\n",
       "    <tr>\n",
       "      <th>3</th>\n",
       "      <td>0.25</td>\n",
       "    </tr>\n",
       "    <tr>\n",
       "      <th>4</th>\n",
       "      <td>0.25</td>\n",
       "    </tr>\n",
       "  </tbody>\n",
       "</table>\n",
       "</div>"
      ],
      "text/plain": [
       "  durations\n",
       "0       1.0\n",
       "1      0.25\n",
       "2      0.25\n",
       "3      0.25\n",
       "4      0.25"
      ]
     },
     "execution_count": 36,
     "metadata": {},
     "output_type": "execute_result"
    }
   ],
   "source": [
    "time_df = pd.DataFrame(time)\n",
    "time_df.rename(columns={0:'durations'}, inplace=True)\n",
    "print(time_df.shape)\n",
    "time_df.head()"
   ]
  },
  {
   "cell_type": "code",
   "execution_count": 37,
   "id": "e4b4973b",
   "metadata": {},
   "outputs": [
    {
     "data": {
      "text/html": [
       "<div>\n",
       "<style scoped>\n",
       "    .dataframe tbody tr th:only-of-type {\n",
       "        vertical-align: middle;\n",
       "    }\n",
       "\n",
       "    .dataframe tbody tr th {\n",
       "        vertical-align: top;\n",
       "    }\n",
       "\n",
       "    .dataframe thead th {\n",
       "        text-align: right;\n",
       "    }\n",
       "</style>\n",
       "<table border=\"1\" class=\"dataframe\">\n",
       "  <thead>\n",
       "    <tr style=\"text-align: right;\">\n",
       "      <th></th>\n",
       "      <th>durations</th>\n",
       "      <th>count</th>\n",
       "    </tr>\n",
       "  </thead>\n",
       "  <tbody>\n",
       "    <tr>\n",
       "      <th>0</th>\n",
       "      <td>1.0</td>\n",
       "      <td>1</td>\n",
       "    </tr>\n",
       "    <tr>\n",
       "      <th>1</th>\n",
       "      <td>0.25</td>\n",
       "      <td>1</td>\n",
       "    </tr>\n",
       "    <tr>\n",
       "      <th>2</th>\n",
       "      <td>0.25</td>\n",
       "      <td>1</td>\n",
       "    </tr>\n",
       "    <tr>\n",
       "      <th>3</th>\n",
       "      <td>0.25</td>\n",
       "      <td>1</td>\n",
       "    </tr>\n",
       "    <tr>\n",
       "      <th>4</th>\n",
       "      <td>0.25</td>\n",
       "      <td>1</td>\n",
       "    </tr>\n",
       "  </tbody>\n",
       "</table>\n",
       "</div>"
      ],
      "text/plain": [
       "  durations  count\n",
       "0       1.0      1\n",
       "1      0.25      1\n",
       "2      0.25      1\n",
       "3      0.25      1\n",
       "4      0.25      1"
      ]
     },
     "execution_count": 37,
     "metadata": {},
     "output_type": "execute_result"
    }
   ],
   "source": [
    "time_df['count'] = 1\n",
    "time_df.head()"
   ]
  },
  {
   "cell_type": "code",
   "execution_count": 38,
   "id": "0dbb2738",
   "metadata": {},
   "outputs": [
    {
     "data": {
      "text/html": [
       "<div>\n",
       "<style scoped>\n",
       "    .dataframe tbody tr th:only-of-type {\n",
       "        vertical-align: middle;\n",
       "    }\n",
       "\n",
       "    .dataframe tbody tr th {\n",
       "        vertical-align: top;\n",
       "    }\n",
       "\n",
       "    .dataframe thead th {\n",
       "        text-align: right;\n",
       "    }\n",
       "</style>\n",
       "<table border=\"1\" class=\"dataframe\">\n",
       "  <thead>\n",
       "    <tr style=\"text-align: right;\">\n",
       "      <th></th>\n",
       "      <th>count</th>\n",
       "    </tr>\n",
       "    <tr>\n",
       "      <th>durations</th>\n",
       "      <th></th>\n",
       "    </tr>\n",
       "  </thead>\n",
       "  <tbody>\n",
       "    <tr>\n",
       "      <th>0.25</th>\n",
       "      <td>36024</td>\n",
       "    </tr>\n",
       "    <tr>\n",
       "      <th>0.5</th>\n",
       "      <td>32512</td>\n",
       "    </tr>\n",
       "    <tr>\n",
       "      <th>1.0</th>\n",
       "      <td>10751</td>\n",
       "    </tr>\n",
       "    <tr>\n",
       "      <th>1/3</th>\n",
       "      <td>4860</td>\n",
       "    </tr>\n",
       "    <tr>\n",
       "      <th>0.75</th>\n",
       "      <td>3307</td>\n",
       "    </tr>\n",
       "  </tbody>\n",
       "</table>\n",
       "</div>"
      ],
      "text/plain": [
       "           count\n",
       "durations       \n",
       "0.25       36024\n",
       "0.5        32512\n",
       "1.0        10751\n",
       "1/3         4860\n",
       "0.75        3307"
      ]
     },
     "execution_count": 38,
     "metadata": {},
     "output_type": "execute_result"
    }
   ],
   "source": [
    "time_df.groupby(by='durations').count().sort_values(by='count', ascending=False).head()"
   ]
  },
  {
   "cell_type": "markdown",
   "id": "b3f6b06c",
   "metadata": {},
   "source": [
    "The most popular durations are **0.25** and **0.5**.<br>\n",
    "The top 5 durations are **0.25, 0.5, 1.0, 1/3** and **0.75**.<br>\n",
    "This is very similar to that of the train data, which shows that these durations are very common in music."
   ]
  },
  {
   "cell_type": "code",
   "execution_count": null,
   "id": "a6fdebef",
   "metadata": {},
   "outputs": [],
   "source": []
  }
 ],
 "metadata": {
  "kernelspec": {
   "display_name": "Python 3 (ipykernel)",
   "language": "python",
   "name": "python3"
  },
  "language_info": {
   "codemirror_mode": {
    "name": "ipython",
    "version": 3
   },
   "file_extension": ".py",
   "mimetype": "text/x-python",
   "name": "python",
   "nbconvert_exporter": "python",
   "pygments_lexer": "ipython3",
   "version": "3.8.12"
  }
 },
 "nbformat": 4,
 "nbformat_minor": 5
}
