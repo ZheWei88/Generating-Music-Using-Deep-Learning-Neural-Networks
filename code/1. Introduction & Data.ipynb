{
 "cells": [
  {
   "cell_type": "markdown",
   "id": "95b48f92",
   "metadata": {},
   "source": [
    "# Generating Music Using Deep Learning"
   ]
  },
  {
   "cell_type": "markdown",
   "id": "8a3a7ba0",
   "metadata": {},
   "source": [
    "## Introduction\n",
    "\n",
    "**<i>\"Twelve notes and the octave repeats. It's the same story told over and over, forever. All any artist can offer the world is how they see those twelve notes. That's it.\"</i>**\n",
    "<br>\n",
    "\\- Sam Elliott as Bobby - A Star Is Born (2018)\n",
    "\n",
    "Yes, indeed there are only 12 notes - **A, Bb, B, C, Db, D, Eb, E, F, Gb, G, Ab** - and the cycle repeats.\n",
    "\n",
    "With such few notes available to musicians, is no wonder we are sometimes stuck in a creative rut, unable to come up with a good melodies.\n",
    "\n",
    "### Melody\n",
    "A melody is a rhythmic succession of single tones organized as an aesthetic whole.<sup>1</sup><br>\n",
    "It is the heart and soul of the song, and the reason why you and I feel patriotic to the chorus of Kit Chan's 'Home', pumped up to the chorus of Bon Jovi's 'It's My Life', and the list goes on.\n",
    "\n",
    "### Chord Progression\n",
    "A chord progression is a sequence of chords that form the sonic landscape of a song that forms the base of that song. A chord progression can set the tone and mood of a song, and will affect the melodies played over it.\n",
    "The introduction of The Cranberries 'Zombie' is an example of a chord progression.\n",
    "\n",
    "### Rests\n",
    "A rest is a space in music where no notes or chords are played. Rests are equally as important to melodies and chords, as they provide a dynamic to the song, a classic case of 'silence speaks louder than words'.\n",
    "\n",
    "<br><br>\n",
    "**What if we can use AI to help musicians break out of their creative slump?**\n",
    "\n",
    "## Problem Statement\n",
    "It can be difficult at times for musicians to come up with melodies and their accompanying chords. This can often lead to undue frustrations and stress on the musician, producer and record labels, as well as incurring monetary costs due to the additional time spent in the recording studio or delays in song releases.<br>\n",
    "In view of this, I plan to develop and model that can generate melodies and their accompanying chord progressions with a random or manual input.\n",
    "With this model that is able to generate it's own music, I hope to save costs in the music industry by reducing the time taken to write catchy songs.\n",
    "\n",
    "### Determining Success\n",
    "Success will be determined by how musically satisfying the music generated over 100 notes.\n",
    "\n",
    "\n",
    "## The Model\n",
    "The model will be constructed using Recurrent Neural Networks (RNN) from the TensorFlow library.<br>\n",
    "\n",
    "### Model Deliverables\n",
    "1. LSTM Model using just notes and chords to generate music.\n",
    "    - This will be my Minimum Viable Product (MVP)\n",
    "    - Serve as basis for the more advanced models.\n",
    "    \n",
    "    \n",
    "2. LSTM Model using the notes, chords and rests to generate music.\n",
    "    - This will hopefully generate a more musically pleasing song.\n",
    "    \n",
    "    \n",
    "3. LSTM Model using the notes, chords and rests, as well as Keras Attention modules to generate music.\n",
    "    - This will hopefully generate music where melodies and chords are more musically coherent.\n",
    "\n",
    "\n",
    "4. Model which reads a chord progression input and generates melodies.\n",
    "    - This will be the most ambitious model\n",
    "    - Still undecided on which model to use, maybe Generative Adversarial Network\n",
    "    - Will only attempt if time permits\n",
    "\n",
    "\n",
    "## The Music Data\n",
    "\n",
    "The data for the model will be songs in MIDI format.\n",
    "\n",
    "### MIDI\n",
    "MIDI is short for **M**usical **I**nstrument **D**igital **I**nterface. It’s a protocol that allows computers, musical instruments and other hardware to communicate.<sup>2</sup><br>\n",
    "Advantages of MIDI include:\n",
    "- Small file sizes, smaller than even an equivalent 8Khz WAV file \n",
    "- Can easily seperate the different instruments\n",
    "- Many tools that can load and create MIDI, such as MuseScore and GuitarPro\n",
    "- Easliy read by various Python libraries, such as Music21 and Mido\n",
    "\n",
    "### The Preliminary Dataset\n",
    "75 MIDI files from the GIT repo https://github.com/Skuldur/Classical-Piano-Composer/tree/master/midi_songs <sup>3</sup>.<br>\n",
    "This consist of piano music, mostly from Final Fantasy soundtracks. The advantage is all these files consists of a single instrument, thus making it easier to process the data.<br>\n",
    "This will serve as the Train Dataset."
   ]
  },
  {
   "cell_type": "markdown",
   "id": "324ef50e",
   "metadata": {},
   "source": [
    "## Music21\n",
    "\n",
    "I will use Music21 to read and process the MIDI files in the dataset. Music21 is a Python-based toolkit for computer-aided musicology.<sup>4</sup>\n",
    "\n",
    "### Using Music21"
   ]
  },
  {
   "cell_type": "code",
   "execution_count": 1,
   "id": "b793d6ef",
   "metadata": {},
   "outputs": [],
   "source": [
    "# importing the necessary Music21 libraries\n",
    "from music21 import converter, instrument, stream, note, chord"
   ]
  },
  {
   "cell_type": "code",
   "execution_count": 2,
   "id": "38a836a7",
   "metadata": {},
   "outputs": [
    {
     "data": {
      "image/png": "[encoded data removed]",
      "text/plain": [
       "<IPython.core.display.Image object>"
      ]
     },
     "metadata": {
      "image/png": {
       "height": 49,
       "width": 196
      }
     },
     "output_type": "display_data"
    }
   ],
   "source": [
    "# creating a note\n",
    "n1 = note.Note('C4')\n",
    "n1.show()"
   ]
  },
  {
   "cell_type": "code",
   "execution_count": 3,
   "id": "6b0a928d",
   "metadata": {},
   "outputs": [
    {
     "data": {
      "image/png": "[encoded data removed]",
      "text/plain": [
       "<IPython.core.display.Image object>"
      ]
     },
     "metadata": {
      "image/png": {
       "height": 49,
       "width": 191
      }
     },
     "output_type": "display_data"
    }
   ],
   "source": [
    "# create another note\n",
    "n2 = note.Note('C5')\n",
    "n2.show()"
   ]
  },
  {
   "cell_type": "code",
   "execution_count": 4,
   "id": "c0fdc3c5",
   "metadata": {},
   "outputs": [
    {
     "data": {
      "image/png": "[encoded data removed]",
      "text/plain": [
       "<IPython.core.display.Image object>"
      ]
     },
     "metadata": {
      "image/png": {
       "height": 49,
       "width": 251
      }
     },
     "output_type": "display_data"
    }
   ],
   "source": [
    "# combining notes\n",
    "s = stream.Stream()\n",
    "s.append(n1)\n",
    "s.append(n2)\n",
    "\n",
    "s.show()"
   ]
  },
  {
   "cell_type": "code",
   "execution_count": 5,
   "id": "226ac535",
   "metadata": {},
   "outputs": [
    {
     "data": {
      "image/png": "[encoded data removed]",
      "text/plain": [
       "<IPython.core.display.Image object>"
      ]
     },
     "metadata": {
      "image/png": {
       "height": 49,
       "width": 196
      }
     },
     "output_type": "display_data"
    },
    {
     "data": {
      "image/png": "[encoded data removed]",
      "text/plain": [
       "<IPython.core.display.Image object>"
      ]
     },
     "metadata": {
      "image/png": {
       "height": 49,
       "width": 208
      }
     },
     "output_type": "display_data"
    },
    {
     "data": {
      "image/png": "[encoded data removed]",
      "text/plain": [
       "<IPython.core.display.Image object>"
      ]
     },
     "metadata": {
      "image/png": {
       "height": 53,
       "width": 244
      }
     },
     "output_type": "display_data"
    }
   ],
   "source": [
    "# time signature using quaterlength\n",
    "# generate different durations for the note n1\n",
    "n1.quarterLength\n",
    "n1.show()\n",
    "\n",
    "n1.quarterLength = .5\n",
    "n1.show()\n",
    "\n",
    "n1.quarterLength = 2/3\n",
    "n1.show()"
   ]
  },
  {
   "cell_type": "code",
   "execution_count": 6,
   "id": "5c47ded7",
   "metadata": {},
   "outputs": [
    {
     "data": {
      "image/png": "[encoded data removed]",
      "text/plain": [
       "<IPython.core.display.Image object>"
      ]
     },
     "metadata": {
      "image/png": {
       "height": 49,
       "width": 276
      }
     },
     "output_type": "display_data"
    }
   ],
   "source": [
    "# generateing a melody\n",
    "n1 = note.Note('C', quarterLength=1)\n",
    "n2 = note.Note('E', quarterLength=.5)\n",
    "n3 = note.Note('G', quarterLength=.5)\n",
    "n4 = note.Note('C', quarterLength=2)\n",
    "\n",
    "s = stream.Stream()\n",
    "s.append([n1, n2, n3, n4])\n",
    "\n",
    "s.show()"
   ]
  },
  {
   "cell_type": "code",
   "execution_count": 7,
   "id": "0b9947cb",
   "metadata": {},
   "outputs": [
    {
     "data": {
      "image/png": "[encoded data removed]",
      "text/plain": [
       "<IPython.core.display.Image object>"
      ]
     },
     "metadata": {
      "image/png": {
       "height": 49,
       "width": 196
      }
     },
     "output_type": "display_data"
    }
   ],
   "source": [
    "# generate chords\n",
    "c1 = chord.Chord(['C', 'E', 'G'])\n",
    "c1.show()"
   ]
  },
  {
   "cell_type": "code",
   "execution_count": 8,
   "id": "c183bdf6",
   "metadata": {},
   "outputs": [
    {
     "data": {
      "text/plain": [
       "[0, 4, 7]"
      ]
     },
     "execution_count": 8,
     "metadata": {},
     "output_type": "execute_result"
    }
   ],
   "source": [
    "# converting a chord into it's numerical elements\n",
    "c1.normalOrder"
   ]
  },
  {
   "cell_type": "code",
   "execution_count": 9,
   "id": "d4faa007",
   "metadata": {},
   "outputs": [
    {
     "data": {
      "text/plain": [
       "'../test/my_melody.mid'"
      ]
     },
     "execution_count": 9,
     "metadata": {},
     "output_type": "execute_result"
    }
   ],
   "source": [
    "# saving as midi file\n",
    "s.write(fmt='midi', fp='../test/my_melody.mid')"
   ]
  },
  {
   "cell_type": "code",
   "execution_count": 10,
   "id": "4bc02d66",
   "metadata": {},
   "outputs": [],
   "source": [
    "# loading the midi\n",
    "midi_song = converter.parse('../test/my_melody.mid')"
   ]
  },
  {
   "cell_type": "code",
   "execution_count": 11,
   "id": "4768cf9e",
   "metadata": {},
   "outputs": [
    {
     "name": "stdout",
     "output_type": "stream",
     "text": [
      "\n",
      "<music21.clef.TrebleClef>\n",
      "<music21.tempo.MetronomeMark animato Quarter=120.0>\n",
      "<music21.meter.TimeSignature 4/4>\n",
      "<music21.note.Note C>\n",
      "<music21.note.Note E>\n",
      "<music21.note.Note G>\n",
      "<music21.note.Note C>\n"
     ]
    }
   ],
   "source": [
    "# reading the components if file has instrument parts\n",
    "for element in instrument.partitionByInstrument(midi_song).parts[0].recurse():\n",
    "    print(element)"
   ]
  },
  {
   "cell_type": "code",
   "execution_count": 12,
   "id": "8af92608",
   "metadata": {},
   "outputs": [
    {
     "name": "stdout",
     "output_type": "stream",
     "text": [
      "<music21.note.Note C> 1.0\n",
      "<music21.note.Note E> 0.5\n",
      "<music21.note.Note G> 0.5\n",
      "<music21.note.Note C> 2.0\n"
     ]
    }
   ],
   "source": [
    "# reading the components if file is just flat structure\n",
    "for element in midi_song.flat.notes:\n",
    "    print(f'{element} {element.quarterLength}') # get time interval using quarterlength"
   ]
  },
  {
   "cell_type": "markdown",
   "id": "edbfdf8e",
   "metadata": {},
   "source": [
    "Now that we know how to read the MIDI files, we can read the dataset."
   ]
  },
  {
   "cell_type": "markdown",
   "id": "1ec21c1f",
   "metadata": {},
   "source": [
    "## Train Dataset\n",
    "\n",
    "As stated above, I got my train dataset from https://github.com/Skuldur/Classical-Piano-Composer.\n",
    "I have included the LICENSE for the dataset in the main folder:\n",
    "```\n",
    "MIT License\n",
    "\n",
    "Copyright (c) 2019 Sigurður Skúli Sigurgeirsson\n",
    "\n",
    "Permission is hereby granted, free of charge, to any person obtaining a copy\n",
    "of this software and associated documentation files (the \"Software\"), to deal\n",
    "in the Software without restriction, including without limitation the rights\n",
    "to use, copy, modify, merge, publish, distribute, sublicense, and/or sell\n",
    "copies of the Software, and to permit persons to whom the Software is\n",
    "furnished to do so, subject to the following conditions:\n",
    "\n",
    "The above copyright notice and this permission notice shall be included in all\n",
    "copies or substantial portions of the Software.\n",
    "\n",
    "THE SOFTWARE IS PROVIDED \"AS IS\", WITHOUT WARRANTY OF ANY KIND, EXPRESS OR\n",
    "IMPLIED, INCLUDING BUT NOT LIMITED TO THE WARRANTIES OF MERCHANTABILITY,\n",
    "FITNESS FOR A PARTICULAR PURPOSE AND NONINFRINGEMENT. IN NO EVENT SHALL THE\n",
    "AUTHORS OR COPYRIGHT HOLDERS BE LIABLE FOR ANY CLAIM, DAMAGES OR OTHER\n",
    "LIABILITY, WHETHER IN AN ACTION OF CONTRACT, TORT OR OTHERWISE, ARISING FROM,\n",
    "OUT OF OR IN CONNECTION WITH THE SOFTWARE OR THE USE OR OTHER DEALINGS IN THE\n",
    "SOFTWARE.\n",
    "```"
   ]
  },
  {
   "cell_type": "code",
   "execution_count": 14,
   "id": "0c88e395",
   "metadata": {},
   "outputs": [],
   "source": [
    "import glob"
   ]
  },
  {
   "cell_type": "code",
   "execution_count": 37,
   "id": "4c5360e3",
   "metadata": {
    "scrolled": true
   },
   "outputs": [
    {
     "name": "stdout",
     "output_type": "stream",
     "text": [
      "Parsing ../midi_songs/Ff7-Jenova_Absolute.mid\n",
      "Parsing ../midi_songs/FF8_Shuffle_or_boogie_pc.mid\n",
      "Parsing ../midi_songs/ahead_on_our_way_piano.mid\n",
      "Parsing ../midi_songs/balamb.mid\n",
      "Parsing ../midi_songs/DOS.mid\n",
      "Parsing ../midi_songs/FF3_Battle_(Piano).mid\n",
      "failed to find time signature for file ../midi_songs/Suteki_Da_Ne_(Piano_Version).mid\n",
      "Parsing ../midi_songs/caitsith.mid\n",
      "Parsing ../midi_songs/sera_.mid\n",
      "Parsing ../midi_songs/Oppressed.mid\n",
      "failed to find time signature for file ../midi_songs/ff4-airship.mid\n",
      "Parsing ../midi_songs/ff7themep.mid\n",
      "Parsing ../midi_songs/FFVII_BATTLE.mid\n",
      "failed to find time signature for file ../midi_songs/electric_de_chocobo.mid\n",
      "Parsing ../midi_songs/Ff7-One_Winged.mid\n",
      "Parsing ../midi_songs/Finalfantasy5gilgameshp.mid\n",
      "Parsing ../midi_songs/Cids.mid\n",
      "Parsing ../midi_songs/lurk_in_dark.mid\n",
      "Parsing ../midi_songs/FFX_-_Ending_Theme_(Piano_Version)_-_by_Angel_FF.mid\n",
      "Parsing ../midi_songs/ff4pclov.mid\n",
      "Parsing ../midi_songs/AT.mid\n",
      "failed to find time signature for file ../midi_songs/Final_Fantasy_7_-_Judgement_Day_Piano.mid\n",
      "Parsing ../midi_songs/8.mid\n",
      "Parsing ../midi_songs/sobf.mid\n",
      "Parsing ../midi_songs/In_Zanarkand.mid\n",
      "Parsing ../midi_songs/waltz_de_choco.mid\n",
      "Parsing ../midi_songs/z_aeristhemepiano.mid\n",
      "Parsing ../midi_songs/Final_Fantasy_Matouyas_Cave_Piano.mid\n",
      "Parsing ../midi_songs/redwings.mid\n",
      "Parsing ../midi_songs/roseofmay-piano.mid\n",
      "failed to find time signature for file ../midi_songs/ff4_piano_collections-main_theme.mid\n",
      "Parsing ../midi_songs/dontbeafraid.mid\n",
      "Parsing ../midi_songs/dayafter.mid\n",
      "failed to find time signature for file ../midi_songs/FF6epitaph_piano.mid\n",
      "Parsing ../midi_songs/FFIX_Piano.mid\n",
      "Parsing ../midi_songs/FFIII_Edgar_And_Sabin_Piano.mid\n",
      "Parsing ../midi_songs/ultros.mid\n",
      "failed to find time signature for file ../midi_songs/0fithos.mid\n",
      "Parsing ../midi_songs/BlueStone_LastDungeon.mid\n",
      "Parsing ../midi_songs/ff8-lfp.mid\n",
      "Parsing ../midi_songs/rufus.mid\n",
      "Parsing ../midi_songs/ff4-fight1.mid\n",
      "Parsing ../midi_songs/Life_Stream.mid\n",
      "Parsing ../midi_songs/Zelda_Overworld.mid\n",
      "Parsing ../midi_songs/JENOVA.mid\n",
      "Parsing ../midi_songs/thenightmarebegins.mid\n",
      "Parsing ../midi_songs/FF4.mid\n",
      "failed to find time signature for file ../midi_songs/figaro.mid\n",
      "Parsing ../midi_songs/Fiend_Battle_(Piano).mid\n",
      "Parsing ../midi_songs/cosmo.mid\n",
      "failed to find time signature for file ../midi_songs/Kingdom_Hearts_Dearly_Beloved.mid\n",
      "Parsing ../midi_songs/pkelite4.mid\n",
      "Parsing ../midi_songs/tifap.mid\n",
      "Parsing ../midi_songs/relmstheme-piano.mid\n",
      "Parsing ../midi_songs/ff11_awakening_piano.mid\n",
      "Parsing ../midi_songs/ff7-mainmidi.mid\n",
      "Parsing ../midi_songs/ff6shap.mid\n",
      "failed to find time signature for file ../midi_songs/gerudo.mid\n",
      "Parsing ../midi_songs/OTD5YA.mid\n",
      "Parsing ../midi_songs/Rydia_pc.mid\n",
      "Parsing ../midi_songs/ultimafro.mid\n",
      "Parsing ../midi_songs/Ff4-BattleLust.mid\n",
      "Parsing ../midi_songs/great_war.mid\n",
      "Parsing ../midi_songs/tpirtsd-piano.mid\n",
      "Parsing ../midi_songs/goldsaucer.mid\n",
      "failed to find time signature for file ../midi_songs/ViviinAlexandria.mid\n",
      "Parsing ../midi_songs/EyesOnMePiano.mid\n",
      "Parsing ../midi_songs/fortresscondor.mid\n",
      "Parsing ../midi_songs/Still_Alive-1.mid\n",
      "Parsing ../midi_songs/Fyw_piano.mid\n",
      "failed to find time signature for file ../midi_songs/VincentPiano.mid\n",
      "Parsing ../midi_songs/thoughts.mid\n",
      "Parsing ../midi_songs/Ff7-Cinco.mid\n",
      "Parsing ../midi_songs/sandy.mid\n",
      "Parsing ../midi_songs/costadsol.mid\n",
      "failed to find time signature for file ../midi_songs/path_of_repentance.mid\n",
      "Parsing ../midi_songs/ff4-town.mid\n",
      "Parsing ../midi_songs/mining.mid\n",
      "Parsing ../midi_songs/decisive.mid\n",
      "Parsing ../midi_songs/Kingdom_Hearts_Traverse_Town.mid\n",
      "Parsing ../midi_songs/braska.mid\n",
      "Parsing ../midi_songs/HighwindTakestotheSkies.mid\n",
      "Parsing ../midi_songs/Gold_Silver_Rival_Battle.mid\n",
      "Parsing ../midi_songs/Fierce_Battle_(Piano).mid\n",
      "Parsing ../midi_songs/Rachel_Piano_tempofix.mid\n",
      "Parsing ../midi_songs/FF3_Third_Phase_Final_(Piano).mid\n",
      "Parsing ../midi_songs/Eternal_Harvest.mid\n",
      "Parsing ../midi_songs/ff1battp.mid\n",
      "Parsing ../midi_songs/Finalfantasy6fanfarecomplete.mid\n",
      "Parsing ../midi_songs/FFIXQuMarshP.mid\n",
      "Parsing ../midi_songs/bcm.mid\n",
      "Parsing ../midi_songs/traitor.mid\n"
     ]
    }
   ],
   "source": [
    "# let's seperate up the sequence by songs.\n",
    "# 1 song in 1 list\n",
    "\n",
    "notes_format = []\n",
    "failed_file_count = 0\n",
    "for file in glob.glob(\"../midi_songs/*.mid\"):\n",
    "    \n",
    "    try:\n",
    "        midi = converter.parse(file)\n",
    "        print(f'Parsing {file}') # to keep track of progress\n",
    "        notes_to_parse = None\n",
    "        \n",
    "    except:\n",
    "        print(f'failed to find time signature for file {file}') # in case file cannot be read\n",
    "        failed_file_count+=1\n",
    "    \n",
    "    notes_to_parse = midi.flat.notes\n",
    "    \n",
    "    notes = []\n",
    "# we are interested in getting the notes, chords and rests\n",
    "# quarterlength is the duration of each note, chord and rest\n",
    "    for element in notes_to_parse:\n",
    "        if isinstance(element, note.Note):\n",
    "            notes.append(str(element.pitch)+ \" \" +  str(element.quarterLength)) # add note and duration\n",
    "        elif isinstance(element, chord.Chord):\n",
    "            notes.append('.'.join(str(n) for n in element.normalOrder) + \" \" +  str(element.quarterLength)) # convert a chord into it's numerical elements\n",
    "        elif isinstance(element, note.Rest):\n",
    "            notes.append(str(element.name)  + \" \" + str(element.quarterLength))\n",
    "            \n",
    "    notes_format.append([notes, file])"
   ]
  },
  {
   "cell_type": "markdown",
   "id": "4c3cf038",
   "metadata": {},
   "source": [
    "From the print data above, we can observe that there are some files where Music21 \"failed to find time signature for file\".\n",
    "\n",
    "We will look into this matter further."
   ]
  },
  {
   "cell_type": "markdown",
   "id": "9d316739",
   "metadata": {},
   "source": [
    "### failed to find time signature for file\n",
    "By comparing the files with this issue and the files with no issues in MuseScore (MIDI Reading Software), I am still unable to find the source of the problem.<br>\n",
    "However, by using the try and except commands, we are able to bypass these problem files."
   ]
  },
  {
   "cell_type": "code",
   "execution_count": 38,
   "id": "3182896a",
   "metadata": {},
   "outputs": [
    {
     "data": {
      "text/plain": [
       "13"
      ]
     },
     "execution_count": 38,
     "metadata": {},
     "output_type": "execute_result"
    }
   ],
   "source": [
    "failed_file_count"
   ]
  },
  {
   "cell_type": "markdown",
   "id": "6d579bc4",
   "metadata": {},
   "source": [
    "13 files out of the 75 were unable to be read.<br>\n",
    "62 files were still read, which is still a sizeable number.<br><br>\n",
    "Next, we will look at the number of songs which have less than 100 notes. As we will be using a sequence of 100 notes to predict the next (101st) note. A song would not be of any use if it has 100 or less notes."
   ]
  },
  {
   "cell_type": "code",
   "execution_count": 21,
   "id": "953719bc",
   "metadata": {},
   "outputs": [
    {
     "data": {
      "text/plain": [
       "[]"
      ]
     },
     "execution_count": 21,
     "metadata": {},
     "output_type": "execute_result"
    }
   ],
   "source": [
    "# get songs length and name for songs that have less than 100 notes\n",
    "[(len(song[0]), song[1]) for song in notes_format if len(song[0])<=100]"
   ]
  },
  {
   "cell_type": "markdown",
   "id": "dbf232b2",
   "metadata": {},
   "source": [
    "Since there are no songs which have 100 or less notes, we can retain all songs."
   ]
  },
  {
   "cell_type": "markdown",
   "id": "0e054b42",
   "metadata": {},
   "source": [
    "### Song length analysis"
   ]
  },
  {
   "cell_type": "code",
   "execution_count": 57,
   "id": "d5bc9aca",
   "metadata": {},
   "outputs": [],
   "source": [
    "song_lengths = [len(song[0]) for song in notes_format]"
   ]
  },
  {
   "cell_type": "code",
   "execution_count": 63,
   "id": "2c84bebc",
   "metadata": {},
   "outputs": [
    {
     "name": "stdout",
     "output_type": "stream",
     "text": [
      "The average song length is 677.9 elements.\n"
     ]
    }
   ],
   "source": [
    "print(f'The average song length is {round(sum(song_lengths)/len(song_lengths),2)} elements.')"
   ]
  },
  {
   "cell_type": "code",
   "execution_count": 64,
   "id": "482549da",
   "metadata": {},
   "outputs": [],
   "source": [
    "import matplotlib.pyplot as plt"
   ]
  },
  {
   "cell_type": "code",
   "execution_count": 77,
   "id": "fc900baf",
   "metadata": {},
   "outputs": [
    {
     "data": {
      "image/png": "[encoded data removed]",
      "text/plain": [
       "<Figure size 576x432 with 1 Axes>"
      ]
     },
     "metadata": {
      "image/png": {
       "height": 386,
       "width": 494
      },
      "needs_background": "light"
     },
     "output_type": "display_data"
    }
   ],
   "source": [
    "plt.figure(figsize=(8,6))\n",
    "plt.hist(song_lengths)\n",
    "plt.xlabel('Song Lengths')\n",
    "plt.ylabel('Number of Songs')\n",
    "plt.axvline(x=780, c='red')\n",
    "plt.title('Song Length Distribution');"
   ]
  },
  {
   "cell_type": "markdown",
   "id": "cae0957f",
   "metadata": {},
   "source": [
    "From the distribution, we can see that most songs are less than 780 elements in length."
   ]
  },
  {
   "cell_type": "markdown",
   "id": "08896ea7",
   "metadata": {},
   "source": [
    "### Seperating the durations from notes and chords\n",
    "Other than generating music, the following desired outcomes should be achieved by passing the song data through a deep learning model:\n",
    "- Model should learn some music theory.\n",
    "    - This can be achieved when the model learns which notes or chords appear in sequence with another, and has little to do with the timing of each note.\n",
    "- Model should learn the 'beat' of music.\n",
    "    - This can be achieved when the model learns which durations appear in sequence with another, and has little to do with what notes the time signature is tied to.\n",
    "\n",
    "In view of this, we can seperate the durations from the notes/chords, and build two seperate models - one for notes/chords, and one for durations."
   ]
  },
  {
   "cell_type": "code",
   "execution_count": 22,
   "id": "d5cf42db",
   "metadata": {},
   "outputs": [
    {
     "name": "stdout",
     "output_type": "stream",
     "text": [
      "Parsing ../midi_songs/Ff7-Jenova_Absolute.mid\n",
      "Parsing ../midi_songs/FF8_Shuffle_or_boogie_pc.mid\n",
      "Parsing ../midi_songs/ahead_on_our_way_piano.mid\n",
      "Parsing ../midi_songs/balamb.mid\n",
      "Parsing ../midi_songs/DOS.mid\n",
      "Parsing ../midi_songs/FF3_Battle_(Piano).mid\n",
      "failed to find time signature for file ../midi_songs/Suteki_Da_Ne_(Piano_Version).mid\n",
      "Parsing ../midi_songs/caitsith.mid\n",
      "Parsing ../midi_songs/sera_.mid\n",
      "Parsing ../midi_songs/Oppressed.mid\n",
      "failed to find time signature for file ../midi_songs/ff4-airship.mid\n",
      "Parsing ../midi_songs/ff7themep.mid\n",
      "Parsing ../midi_songs/FFVII_BATTLE.mid\n",
      "failed to find time signature for file ../midi_songs/electric_de_chocobo.mid\n",
      "Parsing ../midi_songs/Ff7-One_Winged.mid\n",
      "Parsing ../midi_songs/Finalfantasy5gilgameshp.mid\n",
      "Parsing ../midi_songs/Cids.mid\n",
      "Parsing ../midi_songs/lurk_in_dark.mid\n",
      "Parsing ../midi_songs/FFX_-_Ending_Theme_(Piano_Version)_-_by_Angel_FF.mid\n",
      "Parsing ../midi_songs/ff4pclov.mid\n",
      "Parsing ../midi_songs/AT.mid\n",
      "failed to find time signature for file ../midi_songs/Final_Fantasy_7_-_Judgement_Day_Piano.mid\n",
      "Parsing ../midi_songs/8.mid\n",
      "Parsing ../midi_songs/sobf.mid\n",
      "Parsing ../midi_songs/In_Zanarkand.mid\n",
      "Parsing ../midi_songs/waltz_de_choco.mid\n",
      "Parsing ../midi_songs/z_aeristhemepiano.mid\n",
      "Parsing ../midi_songs/Final_Fantasy_Matouyas_Cave_Piano.mid\n",
      "Parsing ../midi_songs/redwings.mid\n",
      "Parsing ../midi_songs/roseofmay-piano.mid\n",
      "failed to find time signature for file ../midi_songs/ff4_piano_collections-main_theme.mid\n",
      "Parsing ../midi_songs/dontbeafraid.mid\n",
      "Parsing ../midi_songs/dayafter.mid\n",
      "failed to find time signature for file ../midi_songs/FF6epitaph_piano.mid\n",
      "Parsing ../midi_songs/FFIX_Piano.mid\n",
      "Parsing ../midi_songs/FFIII_Edgar_And_Sabin_Piano.mid\n",
      "Parsing ../midi_songs/ultros.mid\n",
      "failed to find time signature for file ../midi_songs/0fithos.mid\n",
      "Parsing ../midi_songs/BlueStone_LastDungeon.mid\n",
      "Parsing ../midi_songs/ff8-lfp.mid\n",
      "Parsing ../midi_songs/rufus.mid\n",
      "Parsing ../midi_songs/ff4-fight1.mid\n",
      "Parsing ../midi_songs/Life_Stream.mid\n",
      "Parsing ../midi_songs/Zelda_Overworld.mid\n",
      "Parsing ../midi_songs/JENOVA.mid\n",
      "Parsing ../midi_songs/thenightmarebegins.mid\n",
      "Parsing ../midi_songs/FF4.mid\n",
      "failed to find time signature for file ../midi_songs/figaro.mid\n",
      "Parsing ../midi_songs/Fiend_Battle_(Piano).mid\n",
      "Parsing ../midi_songs/cosmo.mid\n",
      "failed to find time signature for file ../midi_songs/Kingdom_Hearts_Dearly_Beloved.mid\n",
      "Parsing ../midi_songs/pkelite4.mid\n",
      "Parsing ../midi_songs/tifap.mid\n",
      "Parsing ../midi_songs/relmstheme-piano.mid\n",
      "Parsing ../midi_songs/ff11_awakening_piano.mid\n",
      "Parsing ../midi_songs/ff7-mainmidi.mid\n",
      "Parsing ../midi_songs/ff6shap.mid\n",
      "failed to find time signature for file ../midi_songs/gerudo.mid\n",
      "Parsing ../midi_songs/OTD5YA.mid\n",
      "Parsing ../midi_songs/Rydia_pc.mid\n",
      "Parsing ../midi_songs/ultimafro.mid\n",
      "Parsing ../midi_songs/Ff4-BattleLust.mid\n",
      "Parsing ../midi_songs/great_war.mid\n",
      "Parsing ../midi_songs/tpirtsd-piano.mid\n",
      "Parsing ../midi_songs/goldsaucer.mid\n",
      "failed to find time signature for file ../midi_songs/ViviinAlexandria.mid\n",
      "Parsing ../midi_songs/EyesOnMePiano.mid\n",
      "Parsing ../midi_songs/fortresscondor.mid\n",
      "Parsing ../midi_songs/Still_Alive-1.mid\n",
      "Parsing ../midi_songs/Fyw_piano.mid\n",
      "failed to find time signature for file ../midi_songs/VincentPiano.mid\n",
      "Parsing ../midi_songs/thoughts.mid\n",
      "Parsing ../midi_songs/Ff7-Cinco.mid\n",
      "Parsing ../midi_songs/sandy.mid\n",
      "Parsing ../midi_songs/costadsol.mid\n",
      "failed to find time signature for file ../midi_songs/path_of_repentance.mid\n",
      "Parsing ../midi_songs/ff4-town.mid\n",
      "Parsing ../midi_songs/mining.mid\n",
      "Parsing ../midi_songs/decisive.mid\n",
      "Parsing ../midi_songs/Kingdom_Hearts_Traverse_Town.mid\n",
      "Parsing ../midi_songs/braska.mid\n",
      "Parsing ../midi_songs/HighwindTakestotheSkies.mid\n",
      "Parsing ../midi_songs/Gold_Silver_Rival_Battle.mid\n",
      "Parsing ../midi_songs/Fierce_Battle_(Piano).mid\n",
      "Parsing ../midi_songs/Rachel_Piano_tempofix.mid\n",
      "Parsing ../midi_songs/FF3_Third_Phase_Final_(Piano).mid\n",
      "Parsing ../midi_songs/Eternal_Harvest.mid\n",
      "Parsing ../midi_songs/ff1battp.mid\n",
      "Parsing ../midi_songs/Finalfantasy6fanfarecomplete.mid\n",
      "Parsing ../midi_songs/FFIXQuMarshP.mid\n",
      "Parsing ../midi_songs/bcm.mid\n",
      "Parsing ../midi_songs/traitor.mid\n"
     ]
    }
   ],
   "source": [
    "notes_new_format = []\n",
    "time_new_format = []\n",
    "failed_file_count = 0\n",
    "for file in glob.glob(\"../midi_songs/*.mid\"):\n",
    "    \n",
    "    try:\n",
    "        midi = converter.parse(file)\n",
    "        print(f'Parsing {file}') # to keep track of progress\n",
    "        notes_to_parse = None\n",
    "\n",
    "    except:\n",
    "        print(f'failed to find time signature for file {file}') # in case file cannot be read\n",
    "        failed_file_count+=1\n",
    "\n",
    "    notes_to_parse = midi.flat.notes\n",
    "\n",
    "    notes = []\n",
    "    time = []\n",
    "# we are interested in getting the notes and chords\n",
    "    for element in notes_to_parse:\n",
    "        if isinstance(element, note.Note):\n",
    "            notes.append(str(element.pitch)) # get note\n",
    "            time.append(str(element.quarterLength)) # get duration\n",
    "        elif isinstance(element, chord.Chord):\n",
    "            notes.append('.'.join(str(n) for n in element.normalOrder)) # get chord\n",
    "            time.append(str(element.quarterLength)) # get duration\n",
    "        elif isinstance(element, note.Rest):\n",
    "            notes.append(str(element.name)) # get rest\n",
    "            time.append(str(element.quarterLength)) # get duration\n",
    "\n",
    "    notes_new_format.append(notes)\n",
    "    time_new_format.append(time)"
   ]
  },
  {
   "cell_type": "code",
   "execution_count": 39,
   "id": "11f0ead0",
   "metadata": {},
   "outputs": [
    {
     "name": "stdout",
     "output_type": "stream",
     "text": [
      "92\n",
      "92\n"
     ]
    }
   ],
   "source": [
    "# should be equal length\n",
    "print(len(notes_new_format))\n",
    "print(len(time_new_format))"
   ]
  },
  {
   "cell_type": "markdown",
   "id": "373e3dc2",
   "metadata": {},
   "source": [
    "### Getting the number of unique notes and unique durations\n",
    "This is essential as we need to create and note dictionary and time dictionary where each unique element is mapped to an integer. This serves to vectorize the unique elements, similar to vectorizing unique words in a Natural Language Processing problem."
   ]
  },
  {
   "cell_type": "code",
   "execution_count": 42,
   "id": "f61e3c28",
   "metadata": {},
   "outputs": [
    {
     "name": "stdout",
     "output_type": "stream",
     "text": [
      "Parsing ../midi_songs/Ff7-Jenova_Absolute.mid\n",
      "Parsing ../midi_songs/FF8_Shuffle_or_boogie_pc.mid\n",
      "Parsing ../midi_songs/ahead_on_our_way_piano.mid\n",
      "Parsing ../midi_songs/balamb.mid\n",
      "Parsing ../midi_songs/DOS.mid\n",
      "Parsing ../midi_songs/FF3_Battle_(Piano).mid\n",
      "failed to find time signature for file ../midi_songs/Suteki_Da_Ne_(Piano_Version).mid\n",
      "Parsing ../midi_songs/caitsith.mid\n",
      "Parsing ../midi_songs/sera_.mid\n",
      "Parsing ../midi_songs/Oppressed.mid\n",
      "failed to find time signature for file ../midi_songs/ff4-airship.mid\n",
      "Parsing ../midi_songs/ff7themep.mid\n",
      "Parsing ../midi_songs/FFVII_BATTLE.mid\n",
      "failed to find time signature for file ../midi_songs/electric_de_chocobo.mid\n",
      "Parsing ../midi_songs/Ff7-One_Winged.mid\n",
      "Parsing ../midi_songs/Finalfantasy5gilgameshp.mid\n",
      "Parsing ../midi_songs/Cids.mid\n",
      "Parsing ../midi_songs/lurk_in_dark.mid\n",
      "Parsing ../midi_songs/FFX_-_Ending_Theme_(Piano_Version)_-_by_Angel_FF.mid\n",
      "Parsing ../midi_songs/ff4pclov.mid\n",
      "Parsing ../midi_songs/AT.mid\n",
      "failed to find time signature for file ../midi_songs/Final_Fantasy_7_-_Judgement_Day_Piano.mid\n",
      "Parsing ../midi_songs/8.mid\n",
      "Parsing ../midi_songs/sobf.mid\n",
      "Parsing ../midi_songs/In_Zanarkand.mid\n",
      "Parsing ../midi_songs/waltz_de_choco.mid\n",
      "Parsing ../midi_songs/z_aeristhemepiano.mid\n",
      "Parsing ../midi_songs/Final_Fantasy_Matouyas_Cave_Piano.mid\n",
      "Parsing ../midi_songs/redwings.mid\n",
      "Parsing ../midi_songs/roseofmay-piano.mid\n",
      "failed to find time signature for file ../midi_songs/ff4_piano_collections-main_theme.mid\n",
      "Parsing ../midi_songs/dontbeafraid.mid\n",
      "Parsing ../midi_songs/dayafter.mid\n",
      "failed to find time signature for file ../midi_songs/FF6epitaph_piano.mid\n",
      "Parsing ../midi_songs/FFIX_Piano.mid\n",
      "Parsing ../midi_songs/FFIII_Edgar_And_Sabin_Piano.mid\n",
      "Parsing ../midi_songs/ultros.mid\n",
      "failed to find time signature for file ../midi_songs/0fithos.mid\n",
      "Parsing ../midi_songs/BlueStone_LastDungeon.mid\n",
      "Parsing ../midi_songs/ff8-lfp.mid\n",
      "Parsing ../midi_songs/rufus.mid\n",
      "Parsing ../midi_songs/ff4-fight1.mid\n",
      "Parsing ../midi_songs/Life_Stream.mid\n",
      "Parsing ../midi_songs/Zelda_Overworld.mid\n",
      "Parsing ../midi_songs/JENOVA.mid\n",
      "Parsing ../midi_songs/thenightmarebegins.mid\n",
      "Parsing ../midi_songs/FF4.mid\n",
      "failed to find time signature for file ../midi_songs/figaro.mid\n",
      "Parsing ../midi_songs/Fiend_Battle_(Piano).mid\n",
      "Parsing ../midi_songs/cosmo.mid\n",
      "failed to find time signature for file ../midi_songs/Kingdom_Hearts_Dearly_Beloved.mid\n",
      "Parsing ../midi_songs/pkelite4.mid\n",
      "Parsing ../midi_songs/tifap.mid\n",
      "Parsing ../midi_songs/relmstheme-piano.mid\n",
      "Parsing ../midi_songs/ff11_awakening_piano.mid\n",
      "Parsing ../midi_songs/ff7-mainmidi.mid\n",
      "Parsing ../midi_songs/ff6shap.mid\n",
      "failed to find time signature for file ../midi_songs/gerudo.mid\n",
      "Parsing ../midi_songs/OTD5YA.mid\n",
      "Parsing ../midi_songs/Rydia_pc.mid\n",
      "Parsing ../midi_songs/ultimafro.mid\n",
      "Parsing ../midi_songs/Ff4-BattleLust.mid\n",
      "Parsing ../midi_songs/great_war.mid\n",
      "Parsing ../midi_songs/tpirtsd-piano.mid\n",
      "Parsing ../midi_songs/goldsaucer.mid\n",
      "failed to find time signature for file ../midi_songs/ViviinAlexandria.mid\n",
      "Parsing ../midi_songs/EyesOnMePiano.mid\n",
      "Parsing ../midi_songs/fortresscondor.mid\n",
      "Parsing ../midi_songs/Still_Alive-1.mid\n",
      "Parsing ../midi_songs/Fyw_piano.mid\n",
      "failed to find time signature for file ../midi_songs/VincentPiano.mid\n",
      "Parsing ../midi_songs/thoughts.mid\n",
      "Parsing ../midi_songs/Ff7-Cinco.mid\n",
      "Parsing ../midi_songs/sandy.mid\n",
      "Parsing ../midi_songs/costadsol.mid\n",
      "failed to find time signature for file ../midi_songs/path_of_repentance.mid\n",
      "Parsing ../midi_songs/ff4-town.mid\n",
      "Parsing ../midi_songs/mining.mid\n",
      "Parsing ../midi_songs/decisive.mid\n",
      "Parsing ../midi_songs/Kingdom_Hearts_Traverse_Town.mid\n",
      "Parsing ../midi_songs/braska.mid\n",
      "Parsing ../midi_songs/HighwindTakestotheSkies.mid\n",
      "Parsing ../midi_songs/Gold_Silver_Rival_Battle.mid\n",
      "Parsing ../midi_songs/Fierce_Battle_(Piano).mid\n",
      "Parsing ../midi_songs/Rachel_Piano_tempofix.mid\n",
      "Parsing ../midi_songs/FF3_Third_Phase_Final_(Piano).mid\n",
      "Parsing ../midi_songs/Eternal_Harvest.mid\n",
      "Parsing ../midi_songs/ff1battp.mid\n",
      "Parsing ../midi_songs/Finalfantasy6fanfarecomplete.mid\n",
      "Parsing ../midi_songs/FFIXQuMarshP.mid\n",
      "Parsing ../midi_songs/bcm.mid\n",
      "Parsing ../midi_songs/traitor.mid\n"
     ]
    }
   ],
   "source": [
    "notes = []\n",
    "time = []\n",
    "failed_file_count = 0\n",
    "for file in glob.glob(\"../midi_songs/*.mid\"):\n",
    "\n",
    "    try:\n",
    "        midi = converter.parse(file)\n",
    "        print(f'Parsing {file}') # to keep track of progress\n",
    "        notes_to_parse = None\n",
    "\n",
    "    except:\n",
    "        print(f'failed to find time signature for file {file}') # in case file cannot be read\n",
    "        failed_file_count+=1\n",
    "\n",
    "    notes_to_parse = midi.flat.notes\n",
    "\n",
    "# we are interested in getting the notes and chords\n",
    "    for element in notes_to_parse:\n",
    "        if isinstance(element, note.Note):\n",
    "            notes.append(str(element.pitch))\n",
    "            time.append(str(element.quarterLength))\n",
    "        elif isinstance(element, chord.Chord):\n",
    "            notes.append('.'.join(str(n) for n in element.normalOrder))\n",
    "            time.append(str(element.quarterLength))\n",
    "        elif isinstance(element, note.Rest):\n",
    "            notes.append(str(element.name))\n",
    "            time.append(str(element.quarterLength))"
   ]
  },
  {
   "cell_type": "code",
   "execution_count": 43,
   "id": "3faa2d1d",
   "metadata": {},
   "outputs": [
    {
     "name": "stdout",
     "output_type": "stream",
     "text": [
      "62367\n",
      "62367\n"
     ]
    }
   ],
   "source": [
    "# check the lengths of notes and time.\n",
    "# they should be of equal length\n",
    "print(len(notes))\n",
    "print(len(time))"
   ]
  },
  {
   "cell_type": "code",
   "execution_count": 44,
   "id": "eb7cb116",
   "metadata": {},
   "outputs": [
    {
     "name": "stdout",
     "output_type": "stream",
     "text": [
      "382 unique elements in pitchnames.\n",
      "173 unique durations in timenames.\n"
     ]
    }
   ],
   "source": [
    "# get unique pitchnames\n",
    "pitchnames = sorted(set(item for item in notes))\n",
    "\n",
    "# get unique timenames\n",
    "timenames = sorted(set(item for item in time))\n",
    "\n",
    "print(f'{len(pitchnames)} unique elements in pitchnames.')\n",
    "print(f'{len(timenames)} unique durations in timenames.')"
   ]
  },
  {
   "cell_type": "markdown",
   "id": "f0806ff9",
   "metadata": {},
   "source": [
    "### Top notes/chords"
   ]
  },
  {
   "cell_type": "code",
   "execution_count": 45,
   "id": "9d5774d1",
   "metadata": {},
   "outputs": [],
   "source": [
    "import pandas as pd"
   ]
  },
  {
   "cell_type": "code",
   "execution_count": 46,
   "id": "81f3d88d",
   "metadata": {},
   "outputs": [
    {
     "name": "stdout",
     "output_type": "stream",
     "text": [
      "(62367, 1)\n"
     ]
    },
    {
     "data": {
      "text/html": [
       "<div>\n",
       "<style scoped>\n",
       "    .dataframe tbody tr th:only-of-type {\n",
       "        vertical-align: middle;\n",
       "    }\n",
       "\n",
       "    .dataframe tbody tr th {\n",
       "        vertical-align: top;\n",
       "    }\n",
       "\n",
       "    .dataframe thead th {\n",
       "        text-align: right;\n",
       "    }\n",
       "</style>\n",
       "<table border=\"1\" class=\"dataframe\">\n",
       "  <thead>\n",
       "    <tr style=\"text-align: right;\">\n",
       "      <th></th>\n",
       "      <th>notes/chords</th>\n",
       "    </tr>\n",
       "  </thead>\n",
       "  <tbody>\n",
       "    <tr>\n",
       "      <th>0</th>\n",
       "      <td>F3</td>\n",
       "    </tr>\n",
       "    <tr>\n",
       "      <th>1</th>\n",
       "      <td>F3</td>\n",
       "    </tr>\n",
       "    <tr>\n",
       "      <th>2</th>\n",
       "      <td>B-4</td>\n",
       "    </tr>\n",
       "    <tr>\n",
       "      <th>3</th>\n",
       "      <td>F3</td>\n",
       "    </tr>\n",
       "    <tr>\n",
       "      <th>4</th>\n",
       "      <td>G4</td>\n",
       "    </tr>\n",
       "  </tbody>\n",
       "</table>\n",
       "</div>"
      ],
      "text/plain": [
       "  notes/chords\n",
       "0           F3\n",
       "1           F3\n",
       "2          B-4\n",
       "3           F3\n",
       "4           G4"
      ]
     },
     "execution_count": 46,
     "metadata": {},
     "output_type": "execute_result"
    }
   ],
   "source": [
    "note_df = pd.DataFrame(notes)\n",
    "note_df.rename(columns={0:'notes/chords'}, inplace=True)\n",
    "print(note_df.shape)\n",
    "note_df.head()"
   ]
  },
  {
   "cell_type": "code",
   "execution_count": 47,
   "id": "bb6eb816",
   "metadata": {},
   "outputs": [
    {
     "data": {
      "text/html": [
       "<div>\n",
       "<style scoped>\n",
       "    .dataframe tbody tr th:only-of-type {\n",
       "        vertical-align: middle;\n",
       "    }\n",
       "\n",
       "    .dataframe tbody tr th {\n",
       "        vertical-align: top;\n",
       "    }\n",
       "\n",
       "    .dataframe thead th {\n",
       "        text-align: right;\n",
       "    }\n",
       "</style>\n",
       "<table border=\"1\" class=\"dataframe\">\n",
       "  <thead>\n",
       "    <tr style=\"text-align: right;\">\n",
       "      <th></th>\n",
       "      <th>notes/chords</th>\n",
       "      <th>count</th>\n",
       "    </tr>\n",
       "  </thead>\n",
       "  <tbody>\n",
       "    <tr>\n",
       "      <th>0</th>\n",
       "      <td>F3</td>\n",
       "      <td>1</td>\n",
       "    </tr>\n",
       "    <tr>\n",
       "      <th>1</th>\n",
       "      <td>F3</td>\n",
       "      <td>1</td>\n",
       "    </tr>\n",
       "    <tr>\n",
       "      <th>2</th>\n",
       "      <td>B-4</td>\n",
       "      <td>1</td>\n",
       "    </tr>\n",
       "    <tr>\n",
       "      <th>3</th>\n",
       "      <td>F3</td>\n",
       "      <td>1</td>\n",
       "    </tr>\n",
       "    <tr>\n",
       "      <th>4</th>\n",
       "      <td>G4</td>\n",
       "      <td>1</td>\n",
       "    </tr>\n",
       "  </tbody>\n",
       "</table>\n",
       "</div>"
      ],
      "text/plain": [
       "  notes/chords  count\n",
       "0           F3      1\n",
       "1           F3      1\n",
       "2          B-4      1\n",
       "3           F3      1\n",
       "4           G4      1"
      ]
     },
     "execution_count": 47,
     "metadata": {},
     "output_type": "execute_result"
    }
   ],
   "source": [
    "note_df['count'] = 1\n",
    "note_df.head()"
   ]
  },
  {
   "cell_type": "code",
   "execution_count": 48,
   "id": "f5deb727",
   "metadata": {},
   "outputs": [
    {
     "data": {
      "text/html": [
       "<div>\n",
       "<style scoped>\n",
       "    .dataframe tbody tr th:only-of-type {\n",
       "        vertical-align: middle;\n",
       "    }\n",
       "\n",
       "    .dataframe tbody tr th {\n",
       "        vertical-align: top;\n",
       "    }\n",
       "\n",
       "    .dataframe thead th {\n",
       "        text-align: right;\n",
       "    }\n",
       "</style>\n",
       "<table border=\"1\" class=\"dataframe\">\n",
       "  <thead>\n",
       "    <tr style=\"text-align: right;\">\n",
       "      <th></th>\n",
       "      <th>count</th>\n",
       "    </tr>\n",
       "    <tr>\n",
       "      <th>notes/chords</th>\n",
       "      <th></th>\n",
       "    </tr>\n",
       "  </thead>\n",
       "  <tbody>\n",
       "    <tr>\n",
       "      <th>A2</th>\n",
       "      <td>1592</td>\n",
       "    </tr>\n",
       "    <tr>\n",
       "      <th>D3</th>\n",
       "      <td>1376</td>\n",
       "    </tr>\n",
       "    <tr>\n",
       "      <th>A3</th>\n",
       "      <td>1351</td>\n",
       "    </tr>\n",
       "    <tr>\n",
       "      <th>E4</th>\n",
       "      <td>1350</td>\n",
       "    </tr>\n",
       "    <tr>\n",
       "      <th>G4</th>\n",
       "      <td>1341</td>\n",
       "    </tr>\n",
       "  </tbody>\n",
       "</table>\n",
       "</div>"
      ],
      "text/plain": [
       "              count\n",
       "notes/chords       \n",
       "A2             1592\n",
       "D3             1376\n",
       "A3             1351\n",
       "E4             1350\n",
       "G4             1341"
      ]
     },
     "execution_count": 48,
     "metadata": {},
     "output_type": "execute_result"
    }
   ],
   "source": [
    "note_df.groupby(by='notes/chords').count().sort_values(by='count', ascending=False).head()"
   ]
  },
  {
   "cell_type": "markdown",
   "id": "27b96e20",
   "metadata": {},
   "source": [
    "The top 5 notes are **A2, D3, A3, E4,** and **G4**."
   ]
  },
  {
   "cell_type": "markdown",
   "id": "5b2ad598",
   "metadata": {},
   "source": [
    "### Top durations"
   ]
  },
  {
   "cell_type": "code",
   "execution_count": 49,
   "id": "76f607cb",
   "metadata": {},
   "outputs": [
    {
     "name": "stdout",
     "output_type": "stream",
     "text": [
      "(62367, 1)\n"
     ]
    },
    {
     "data": {
      "text/html": [
       "<div>\n",
       "<style scoped>\n",
       "    .dataframe tbody tr th:only-of-type {\n",
       "        vertical-align: middle;\n",
       "    }\n",
       "\n",
       "    .dataframe tbody tr th {\n",
       "        vertical-align: top;\n",
       "    }\n",
       "\n",
       "    .dataframe thead th {\n",
       "        text-align: right;\n",
       "    }\n",
       "</style>\n",
       "<table border=\"1\" class=\"dataframe\">\n",
       "  <thead>\n",
       "    <tr style=\"text-align: right;\">\n",
       "      <th></th>\n",
       "      <th>durations</th>\n",
       "    </tr>\n",
       "  </thead>\n",
       "  <tbody>\n",
       "    <tr>\n",
       "      <th>0</th>\n",
       "      <td>0.75</td>\n",
       "    </tr>\n",
       "    <tr>\n",
       "      <th>1</th>\n",
       "      <td>0.75</td>\n",
       "    </tr>\n",
       "    <tr>\n",
       "      <th>2</th>\n",
       "      <td>0.25</td>\n",
       "    </tr>\n",
       "    <tr>\n",
       "      <th>3</th>\n",
       "      <td>0.75</td>\n",
       "    </tr>\n",
       "    <tr>\n",
       "      <th>4</th>\n",
       "      <td>0.25</td>\n",
       "    </tr>\n",
       "  </tbody>\n",
       "</table>\n",
       "</div>"
      ],
      "text/plain": [
       "  durations\n",
       "0      0.75\n",
       "1      0.75\n",
       "2      0.25\n",
       "3      0.75\n",
       "4      0.25"
      ]
     },
     "execution_count": 49,
     "metadata": {},
     "output_type": "execute_result"
    }
   ],
   "source": [
    "time_df = pd.DataFrame(time)\n",
    "time_df.rename(columns={0:'durations'}, inplace=True)\n",
    "print(time_df.shape)\n",
    "time_df.head()"
   ]
  },
  {
   "cell_type": "code",
   "execution_count": 50,
   "id": "0a35e4bf",
   "metadata": {},
   "outputs": [
    {
     "data": {
      "text/html": [
       "<div>\n",
       "<style scoped>\n",
       "    .dataframe tbody tr th:only-of-type {\n",
       "        vertical-align: middle;\n",
       "    }\n",
       "\n",
       "    .dataframe tbody tr th {\n",
       "        vertical-align: top;\n",
       "    }\n",
       "\n",
       "    .dataframe thead th {\n",
       "        text-align: right;\n",
       "    }\n",
       "</style>\n",
       "<table border=\"1\" class=\"dataframe\">\n",
       "  <thead>\n",
       "    <tr style=\"text-align: right;\">\n",
       "      <th></th>\n",
       "      <th>durations</th>\n",
       "      <th>count</th>\n",
       "    </tr>\n",
       "  </thead>\n",
       "  <tbody>\n",
       "    <tr>\n",
       "      <th>0</th>\n",
       "      <td>0.75</td>\n",
       "      <td>1</td>\n",
       "    </tr>\n",
       "    <tr>\n",
       "      <th>1</th>\n",
       "      <td>0.75</td>\n",
       "      <td>1</td>\n",
       "    </tr>\n",
       "    <tr>\n",
       "      <th>2</th>\n",
       "      <td>0.25</td>\n",
       "      <td>1</td>\n",
       "    </tr>\n",
       "    <tr>\n",
       "      <th>3</th>\n",
       "      <td>0.75</td>\n",
       "      <td>1</td>\n",
       "    </tr>\n",
       "    <tr>\n",
       "      <th>4</th>\n",
       "      <td>0.25</td>\n",
       "      <td>1</td>\n",
       "    </tr>\n",
       "  </tbody>\n",
       "</table>\n",
       "</div>"
      ],
      "text/plain": [
       "  durations  count\n",
       "0      0.75      1\n",
       "1      0.75      1\n",
       "2      0.25      1\n",
       "3      0.75      1\n",
       "4      0.25      1"
      ]
     },
     "execution_count": 50,
     "metadata": {},
     "output_type": "execute_result"
    }
   ],
   "source": [
    "time_df['count'] = 1\n",
    "time_df.head()"
   ]
  },
  {
   "cell_type": "code",
   "execution_count": 51,
   "id": "7b01f930",
   "metadata": {},
   "outputs": [
    {
     "data": {
      "text/html": [
       "<div>\n",
       "<style scoped>\n",
       "    .dataframe tbody tr th:only-of-type {\n",
       "        vertical-align: middle;\n",
       "    }\n",
       "\n",
       "    .dataframe tbody tr th {\n",
       "        vertical-align: top;\n",
       "    }\n",
       "\n",
       "    .dataframe thead th {\n",
       "        text-align: right;\n",
       "    }\n",
       "</style>\n",
       "<table border=\"1\" class=\"dataframe\">\n",
       "  <thead>\n",
       "    <tr style=\"text-align: right;\">\n",
       "      <th></th>\n",
       "      <th>count</th>\n",
       "    </tr>\n",
       "    <tr>\n",
       "      <th>durations</th>\n",
       "      <th></th>\n",
       "    </tr>\n",
       "  </thead>\n",
       "  <tbody>\n",
       "    <tr>\n",
       "      <th>0.5</th>\n",
       "      <td>25729</td>\n",
       "    </tr>\n",
       "    <tr>\n",
       "      <th>0.25</th>\n",
       "      <td>9640</td>\n",
       "    </tr>\n",
       "    <tr>\n",
       "      <th>0.75</th>\n",
       "      <td>7990</td>\n",
       "    </tr>\n",
       "    <tr>\n",
       "      <th>1.0</th>\n",
       "      <td>4190</td>\n",
       "    </tr>\n",
       "    <tr>\n",
       "      <th>1/3</th>\n",
       "      <td>3541</td>\n",
       "    </tr>\n",
       "  </tbody>\n",
       "</table>\n",
       "</div>"
      ],
      "text/plain": [
       "           count\n",
       "durations       \n",
       "0.5        25729\n",
       "0.25        9640\n",
       "0.75        7990\n",
       "1.0         4190\n",
       "1/3         3541"
      ]
     },
     "execution_count": 51,
     "metadata": {},
     "output_type": "execute_result"
    }
   ],
   "source": [
    "time_df.groupby(by='durations').count().sort_values(by='count', ascending=False).head()"
   ]
  },
  {
   "cell_type": "markdown",
   "id": "6f0ec0ce",
   "metadata": {},
   "source": [
    "The most popular durations is **0.5**.<br>\n",
    "The top 5 durations are **0.5, 0.25, 0.75, 1.0** and **1/3**."
   ]
  },
  {
   "cell_type": "markdown",
   "id": "f5d92d2b",
   "metadata": {},
   "source": [
    "### Add unknown variable"
   ]
  },
  {
   "cell_type": "markdown",
   "id": "68286b49",
   "metadata": {},
   "source": [
    "We need to add an **unknown variable** to pitchnames and timenames.<br>\n",
    "There are many unique notes/chords and durations in music.<br>\n",
    "In order for the model to generate music from a new dataset of music, we will need to add this **unknown variable**, as there may be notes/chords or durations thatdo not exist in this dataset."
   ]
  },
  {
   "cell_type": "code",
   "execution_count": 52,
   "id": "8aa22a6e",
   "metadata": {},
   "outputs": [],
   "source": [
    "# create function to add unknown variable to pitchnames\n",
    "def add_unknown(some_names):\n",
    "    some_names.insert(0,'unkw') # insert unknown variable at the start of the dataset\n",
    "    return some_names"
   ]
  },
  {
   "cell_type": "code",
   "execution_count": 53,
   "id": "65bafb85",
   "metadata": {},
   "outputs": [
    {
     "name": "stdout",
     "output_type": "stream",
     "text": [
      "unkw\n",
      "unkw\n",
      "383 unique elements in pitchnames.\n",
      "174 unique durations in timenames.\n"
     ]
    }
   ],
   "source": [
    "add_unknown(pitchnames)\n",
    "add_unknown(timenames)\n",
    "\n",
    "# check if unknown variable is added.\n",
    "print(pitchnames[0])\n",
    "print(timenames[0])\n",
    "\n",
    "print(f'{len(pitchnames)} unique elements in pitchnames.')\n",
    "print(f'{len(timenames)} unique durations in timenames.')"
   ]
  },
  {
   "cell_type": "markdown",
   "id": "9bf5c215",
   "metadata": {},
   "source": [
    "**unknown variable** has been successfully added."
   ]
  },
  {
   "cell_type": "code",
   "execution_count": 54,
   "id": "e8c1b655",
   "metadata": {},
   "outputs": [
    {
     "name": "stdout",
     "output_type": "stream",
     "text": [
      "383\n",
      "174\n"
     ]
    }
   ],
   "source": [
    "# create a dictionary to map notes/chords and durations to integers - this will help with the modelling later\n",
    "note_to_int = dict((note, number) for number, note in enumerate(pitchnames))\n",
    "time_to_int = dict((time, number) for number, time in enumerate(timenames))\n",
    "\n",
    "# check the length of the dictionary to ensure that all values are mapped to integers keys\n",
    "print(len(note_to_int))\n",
    "print(len(time_to_int))"
   ]
  },
  {
   "cell_type": "markdown",
   "id": "d487ce03",
   "metadata": {},
   "source": [
    "Since the length of note_to_int and time_to_int are the same as pitchnames and timenames respectively, the values were mapped successfully."
   ]
  },
  {
   "cell_type": "code",
   "execution_count": 33,
   "id": "5d8f2f7f",
   "metadata": {},
   "outputs": [],
   "source": [
    "# save the notes and note_to_int as pickle files\n",
    "\n",
    "import pickle\n",
    "\n",
    "# save the note items\n",
    "\n",
    "# save notes\n",
    "with open('../assets_notes_times/notes', 'wb') as filepath:\n",
    "    pickle.dump(notes, filepath)\n",
    "\n",
    "# save note_to_int\n",
    "with open('../assets_notes_times/note_to_int', 'wb') as filepath:\n",
    "    pickle.dump(note_to_int, filepath)\n",
    "    \n",
    "# save song_notes\n",
    "with open('../assets_notes_times/song_notes', 'wb') as filepath:\n",
    "    pickle.dump(notes_new_format, filepath)\n",
    "    \n",
    "    \n",
    "# save the duration items\n",
    "\n",
    "# save durations\n",
    "with open('../assets_notes_times/time', 'wb') as filepath:\n",
    "    pickle.dump(time, filepath)\n",
    "\n",
    "# save time_to_int\n",
    "with open('../assets_notes_times/time_to_int', 'wb') as filepath:\n",
    "    pickle.dump(time_to_int, filepath)\n",
    "    \n",
    "# save song_times\n",
    "with open('../assets_notes_times/song_times', 'wb') as filepath:\n",
    "    pickle.dump(time_new_format, filepath)"
   ]
  },
  {
   "cell_type": "markdown",
   "id": "91e1f7c1",
   "metadata": {},
   "source": [
    "## References\n",
    "1. https://www.merriam-webster.com/dictionary/melody\n",
    "2. https://blog.landr.com/what-is-midi/\n",
    "3. https://github.com/Skuldur/Classical-Piano-Composer/tree/master/midi_songs\n",
    "4. https://web.mit.edu/music21/doc/about/what.html#:~:text=Music21%20is%20a%20Python%2Dbased%20toolkit%20for%20computer%2Daided%20musicology.&text=We%20hope%20that%20with%20the,is%20constantly%20growing%20and%20expanding."
   ]
  },
  {
   "cell_type": "code",
   "execution_count": null,
   "id": "41a31ee8",
   "metadata": {},
   "outputs": [],
   "source": []
  }
 ],
 "metadata": {
  "kernelspec": {
   "display_name": "Python 3 (ipykernel)",
   "language": "python",
   "name": "python3"
  },
  "language_info": {
   "codemirror_mode": {
    "name": "ipython",
    "version": 3
   },
   "file_extension": ".py",
   "mimetype": "text/x-python",
   "name": "python",
   "nbconvert_exporter": "python",
   "pygments_lexer": "ipython3",
   "version": "3.8.12"
  }
 },
 "nbformat": 4,
 "nbformat_minor": 5
}
