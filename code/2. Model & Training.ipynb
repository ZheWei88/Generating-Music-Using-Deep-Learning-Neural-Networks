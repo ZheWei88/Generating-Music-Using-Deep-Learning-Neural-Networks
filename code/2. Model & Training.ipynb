{
 "cells": [
  {
   "cell_type": "markdown",
   "id": "2e05c74d",
   "metadata": {},
   "source": [
    "# Model & Training\n",
    "\n",
    "Thos codebook will cover the model with the rests and time signatures taken into consideration, and song structure."
   ]
  },
  {
   "cell_type": "code",
   "execution_count": 1,
   "id": "badce62d",
   "metadata": {},
   "outputs": [],
   "source": [
    "# import necessary keras libraries\n",
    "\n",
    "from tensorflow.keras.models import Sequential\n",
    "from tensorflow.keras.layers import Dense, Dropout, LSTM, Activation, Bidirectional, Embedding, Flatten\n",
    "from tensorflow.keras.layers import BatchNormalization as BatchNorm\n",
    "from tensorflow.keras.utils import to_categorical\n",
    "\n",
    "from tensorflow import keras\n",
    "from keras_self_attention import SeqSelfAttention\n",
    "\n",
    "from tensorflow.keras.callbacks import ModelCheckpoint, EarlyStopping, ReduceLROnPlateau\n",
    "from tensorflow.keras.optimizers import Adam\n",
    "\n",
    "# import numpy\n",
    "import numpy as np\n",
    "\n",
    "# import pickle\n",
    "import pickle"
   ]
  },
  {
   "cell_type": "code",
   "execution_count": 2,
   "id": "abd141a7",
   "metadata": {},
   "outputs": [
    {
     "name": "stdout",
     "output_type": "stream",
     "text": [
      "Num GPUs Available:  1\n"
     ]
    }
   ],
   "source": [
    "import tensorflow as tf\n",
    "print(\"Num GPUs Available: \", len(tf.config.list_physical_devices('GPU'))) # check if GPU is used"
   ]
  },
  {
   "cell_type": "code",
   "execution_count": 3,
   "id": "3de6fca2",
   "metadata": {},
   "outputs": [],
   "source": [
    "# import notes, note_to_int and song_notes\n",
    "import pickle\n",
    "\n",
    "with open('../assets_notes_times/notes', 'rb') as filepath:\n",
    "    notes = pickle.load(filepath)\n",
    "\n",
    "with open('../assets_notes_times/note_to_int', 'rb') as filepath:\n",
    "    note_to_int = pickle.load(filepath)\n",
    "    \n",
    "with open('../assets_notes_times/song_notes', 'rb') as filepath:\n",
    "    song_notes = pickle.load(filepath)"
   ]
  },
  {
   "cell_type": "code",
   "execution_count": 4,
   "id": "8b339391",
   "metadata": {},
   "outputs": [
    {
     "data": {
      "text/plain": [
       "62367"
      ]
     },
     "execution_count": 4,
     "metadata": {},
     "output_type": "execute_result"
    }
   ],
   "source": [
    "len(notes)"
   ]
  },
  {
   "cell_type": "code",
   "execution_count": 5,
   "id": "d8ceb584",
   "metadata": {},
   "outputs": [
    {
     "data": {
      "text/plain": [
       "{'unkw': 0,\n",
       " '0': 1,\n",
       " '0.1': 2,\n",
       " '0.1.3': 3,\n",
       " '0.1.5': 4,\n",
       " '0.1.6': 5,\n",
       " '0.2': 6,\n",
       " '0.2.3.7': 7,\n",
       " '0.2.4.7': 8,\n",
       " '0.2.5': 9,\n",
       " '0.2.6': 10,\n",
       " '0.2.7': 11,\n",
       " '0.3': 12,\n",
       " '0.3.5': 13,\n",
       " '0.3.5.8': 14,\n",
       " '0.3.6': 15,\n",
       " '0.3.6.8': 16,\n",
       " '0.3.6.9': 17,\n",
       " '0.3.7': 18,\n",
       " '0.4': 19,\n",
       " '0.4.5': 20,\n",
       " '0.4.6': 21,\n",
       " '0.4.7': 22,\n",
       " '0.5': 23,\n",
       " '0.6': 24,\n",
       " '1': 25,\n",
       " '1.2': 26,\n",
       " '1.2.4.6.8.10': 27,\n",
       " '1.2.6': 28,\n",
       " '1.2.6.9': 29,\n",
       " '1.3': 30,\n",
       " '1.3.4.8': 31,\n",
       " '1.3.5': 32,\n",
       " '1.3.5.8': 33,\n",
       " '1.3.6': 34,\n",
       " '1.3.7': 35,\n",
       " '1.3.8': 36,\n",
       " '1.4': 37,\n",
       " '1.4.6': 38,\n",
       " '1.4.6.8': 39,\n",
       " '1.4.6.9': 40,\n",
       " '1.4.7': 41,\n",
       " '1.4.7.10': 42,\n",
       " '1.4.7.9': 43,\n",
       " '1.4.8': 44,\n",
       " '1.5': 45,\n",
       " '1.5.8': 46,\n",
       " '1.5.9': 47,\n",
       " '1.6': 48,\n",
       " '1.7': 49,\n",
       " '10': 50,\n",
       " '10.0': 51,\n",
       " '10.0.2': 52,\n",
       " '10.0.2.5': 53,\n",
       " '10.0.3': 54,\n",
       " '10.0.3.6': 55,\n",
       " '10.0.4': 56,\n",
       " '10.0.5': 57,\n",
       " '10.1': 58,\n",
       " '10.1.3': 59,\n",
       " '10.1.3.4.6': 60,\n",
       " '10.1.3.5.6': 61,\n",
       " '10.1.3.6': 62,\n",
       " '10.1.4': 63,\n",
       " '10.1.4.6': 64,\n",
       " '10.1.5': 65,\n",
       " '10.11': 66,\n",
       " '10.11.1': 67,\n",
       " '10.11.1.3': 68,\n",
       " '10.11.1.3.4.6': 69,\n",
       " '10.11.1.4.6': 70,\n",
       " '10.11.3': 71,\n",
       " '10.11.3.4': 72,\n",
       " '10.11.3.5': 73,\n",
       " '10.2': 74,\n",
       " '10.2.3': 75,\n",
       " '10.2.4': 76,\n",
       " '10.2.5': 77,\n",
       " '10.3': 78,\n",
       " '11': 79,\n",
       " '11.0': 80,\n",
       " '11.0.2': 81,\n",
       " '11.0.4': 82,\n",
       " '11.0.4.6': 83,\n",
       " '11.0.4.7': 84,\n",
       " '11.0.5': 85,\n",
       " '11.1': 86,\n",
       " '11.1.3': 87,\n",
       " '11.1.4': 88,\n",
       " '11.1.4.5': 89,\n",
       " '11.1.5': 90,\n",
       " '11.1.6': 91,\n",
       " '11.2': 92,\n",
       " '11.2.4': 93,\n",
       " '11.2.4.6': 94,\n",
       " '11.2.4.7': 95,\n",
       " '11.2.5': 96,\n",
       " '11.2.5.6': 97,\n",
       " '11.2.5.7': 98,\n",
       " '11.2.6': 99,\n",
       " '11.3': 100,\n",
       " '11.3.5': 101,\n",
       " '11.3.6': 102,\n",
       " '11.4': 103,\n",
       " '11.4.5': 104,\n",
       " '2': 105,\n",
       " '2.3': 106,\n",
       " '2.3.7': 107,\n",
       " '2.3.7.10': 108,\n",
       " '2.3.7.9': 109,\n",
       " '2.4': 110,\n",
       " '2.4.5': 111,\n",
       " '2.4.5.9': 112,\n",
       " '2.4.6.9.11': 113,\n",
       " '2.4.7': 114,\n",
       " '2.4.7.10': 115,\n",
       " '2.4.8': 116,\n",
       " '2.4.9': 117,\n",
       " '2.5': 118,\n",
       " '2.5.7': 119,\n",
       " '2.5.7.10': 120,\n",
       " '2.5.7.9': 121,\n",
       " '2.5.8': 122,\n",
       " '2.5.8.10': 123,\n",
       " '2.5.8.11': 124,\n",
       " '2.5.9': 125,\n",
       " '2.6': 126,\n",
       " '2.6.10': 127,\n",
       " '2.6.7': 128,\n",
       " '2.6.8': 129,\n",
       " '2.6.9': 130,\n",
       " '2.7': 131,\n",
       " '2.7.8': 132,\n",
       " '2.8': 133,\n",
       " '3': 134,\n",
       " '3.4': 135,\n",
       " '3.4.6': 136,\n",
       " '3.4.8': 137,\n",
       " '3.4.8.10': 138,\n",
       " '3.4.8.11': 139,\n",
       " '3.5': 140,\n",
       " '3.5.10': 141,\n",
       " '3.5.7': 142,\n",
       " '3.5.7.10': 143,\n",
       " '3.5.7.8.11': 144,\n",
       " '3.5.8': 145,\n",
       " '3.5.8.11': 146,\n",
       " '3.6': 147,\n",
       " '3.6.10': 148,\n",
       " '3.6.7': 149,\n",
       " '3.6.8': 150,\n",
       " '3.6.8.11': 151,\n",
       " '3.6.9.11': 152,\n",
       " '3.7': 153,\n",
       " '3.7.10': 154,\n",
       " '3.7.9': 155,\n",
       " '3.7.9.10': 156,\n",
       " '3.8': 157,\n",
       " '3.8.9': 158,\n",
       " '3.9': 159,\n",
       " '4': 160,\n",
       " '4.10': 161,\n",
       " '4.5': 162,\n",
       " '4.5.7.11': 163,\n",
       " '4.5.9.0': 164,\n",
       " '4.5.9.11': 165,\n",
       " '4.6': 166,\n",
       " '4.6.10': 167,\n",
       " '4.6.11': 168,\n",
       " '4.6.7': 169,\n",
       " '4.6.8': 170,\n",
       " '4.6.8.10.1': 171,\n",
       " '4.6.8.11.1': 172,\n",
       " '4.6.9': 173,\n",
       " '4.6.9.11': 174,\n",
       " '4.7': 175,\n",
       " '4.7.10': 176,\n",
       " '4.7.11': 177,\n",
       " '4.7.9': 178,\n",
       " '4.7.9.0': 179,\n",
       " '4.7.9.11': 180,\n",
       " '4.8': 181,\n",
       " '4.8.10': 182,\n",
       " '4.8.11': 183,\n",
       " '4.8.9': 184,\n",
       " '4.8.9.11': 185,\n",
       " '4.9': 186,\n",
       " '4.9.10': 187,\n",
       " '5': 188,\n",
       " '5.10': 189,\n",
       " '5.11': 190,\n",
       " '5.6': 191,\n",
       " '5.6.10.0': 192,\n",
       " '5.6.8': 193,\n",
       " '5.7': 194,\n",
       " '5.7.0': 195,\n",
       " '5.7.10': 196,\n",
       " '5.7.8.0': 197,\n",
       " '5.7.9.0': 198,\n",
       " '5.8': 199,\n",
       " '5.8.0': 200,\n",
       " '5.8.10': 201,\n",
       " '5.8.11': 202,\n",
       " '5.9': 203,\n",
       " '5.9.0': 204,\n",
       " '5.9.11': 205,\n",
       " '5.9.11.0': 206,\n",
       " '6': 207,\n",
       " '6.10': 208,\n",
       " '6.10.0': 209,\n",
       " '6.10.1': 210,\n",
       " '6.10.11': 211,\n",
       " '6.10.11.1': 212,\n",
       " '6.11': 213,\n",
       " '6.11.0': 214,\n",
       " '6.7': 215,\n",
       " '6.7.0': 216,\n",
       " '6.7.11': 217,\n",
       " '6.7.11.2': 218,\n",
       " '6.8': 219,\n",
       " '6.8.0': 220,\n",
       " '6.8.1': 221,\n",
       " '6.8.10': 222,\n",
       " '6.8.10.0.3': 223,\n",
       " '6.8.10.1': 224,\n",
       " '6.8.11': 225,\n",
       " '6.8.11.2': 226,\n",
       " '6.9': 227,\n",
       " '6.9.0': 228,\n",
       " '6.9.0.2': 229,\n",
       " '6.9.1': 230,\n",
       " '6.9.11': 231,\n",
       " '6.9.11.1': 232,\n",
       " '6.9.11.2': 233,\n",
       " '7': 234,\n",
       " '7.0': 235,\n",
       " '7.10': 236,\n",
       " '7.10.0': 237,\n",
       " '7.10.0.3': 238,\n",
       " '7.10.1': 239,\n",
       " '7.10.1.3': 240,\n",
       " '7.10.2': 241,\n",
       " '7.11': 242,\n",
       " '7.11.0': 243,\n",
       " '7.11.2': 244,\n",
       " '7.8': 245,\n",
       " '7.8.0': 246,\n",
       " '7.8.0.3': 247,\n",
       " '7.8.10.2': 248,\n",
       " '7.8.11': 249,\n",
       " '7.9': 250,\n",
       " '7.9.0': 251,\n",
       " '7.9.1': 252,\n",
       " '7.9.11': 253,\n",
       " '7.9.11.2': 254,\n",
       " '7.9.2': 255,\n",
       " '8': 256,\n",
       " '8.0': 257,\n",
       " '8.0.1': 258,\n",
       " '8.0.2': 259,\n",
       " '8.0.3': 260,\n",
       " '8.1': 261,\n",
       " '8.10': 262,\n",
       " '8.10.0': 263,\n",
       " '8.10.1': 264,\n",
       " '8.10.1.3': 265,\n",
       " '8.10.1.4': 266,\n",
       " '8.10.11': 267,\n",
       " '8.10.11.1': 268,\n",
       " '8.10.11.1.4': 269,\n",
       " '8.10.11.3': 270,\n",
       " '8.10.2': 271,\n",
       " '8.10.3': 272,\n",
       " '8.11': 273,\n",
       " '8.11.1': 274,\n",
       " '8.11.1.3.4': 275,\n",
       " '8.11.1.4': 276,\n",
       " '8.11.2': 277,\n",
       " '8.11.3': 278,\n",
       " '8.9': 279,\n",
       " '8.9.1': 280,\n",
       " '8.9.1.3': 281,\n",
       " '8.9.1.4': 282,\n",
       " '8.9.11.1.3': 283,\n",
       " '8.9.2': 284,\n",
       " '9': 285,\n",
       " '9.0': 286,\n",
       " '9.0.2': 287,\n",
       " '9.0.2.4': 288,\n",
       " '9.0.2.5': 289,\n",
       " '9.0.3': 290,\n",
       " '9.0.3.5': 291,\n",
       " '9.0.4': 292,\n",
       " '9.1': 293,\n",
       " '9.1.2': 294,\n",
       " '9.1.4': 295,\n",
       " '9.10': 296,\n",
       " '9.10.2': 297,\n",
       " '9.10.2.4': 298,\n",
       " '9.10.3': 299,\n",
       " '9.11': 300,\n",
       " '9.11.0.4': 301,\n",
       " '9.11.1': 302,\n",
       " '9.11.2': 303,\n",
       " '9.11.2.4': 304,\n",
       " '9.11.2.5': 305,\n",
       " '9.11.3': 306,\n",
       " '9.11.4': 307,\n",
       " '9.2': 308,\n",
       " '9.2.3': 309,\n",
       " 'A1': 310,\n",
       " 'A2': 311,\n",
       " 'A3': 312,\n",
       " 'A4': 313,\n",
       " 'A5': 314,\n",
       " 'A6': 315,\n",
       " 'B-1': 316,\n",
       " 'B-2': 317,\n",
       " 'B-3': 318,\n",
       " 'B-4': 319,\n",
       " 'B-5': 320,\n",
       " 'B-6': 321,\n",
       " 'B1': 322,\n",
       " 'B2': 323,\n",
       " 'B3': 324,\n",
       " 'B4': 325,\n",
       " 'B5': 326,\n",
       " 'B6': 327,\n",
       " 'C#1': 328,\n",
       " 'C#2': 329,\n",
       " 'C#3': 330,\n",
       " 'C#4': 331,\n",
       " 'C#5': 332,\n",
       " 'C#6': 333,\n",
       " 'C#7': 334,\n",
       " 'C2': 335,\n",
       " 'C3': 336,\n",
       " 'C4': 337,\n",
       " 'C5': 338,\n",
       " 'C6': 339,\n",
       " 'C7': 340,\n",
       " 'D1': 341,\n",
       " 'D2': 342,\n",
       " 'D3': 343,\n",
       " 'D4': 344,\n",
       " 'D5': 345,\n",
       " 'D6': 346,\n",
       " 'E-1': 347,\n",
       " 'E-2': 348,\n",
       " 'E-3': 349,\n",
       " 'E-4': 350,\n",
       " 'E-5': 351,\n",
       " 'E-6': 352,\n",
       " 'E1': 353,\n",
       " 'E2': 354,\n",
       " 'E3': 355,\n",
       " 'E4': 356,\n",
       " 'E5': 357,\n",
       " 'E6': 358,\n",
       " 'F#1': 359,\n",
       " 'F#2': 360,\n",
       " 'F#3': 361,\n",
       " 'F#4': 362,\n",
       " 'F#5': 363,\n",
       " 'F#6': 364,\n",
       " 'F1': 365,\n",
       " 'F2': 366,\n",
       " 'F3': 367,\n",
       " 'F4': 368,\n",
       " 'F5': 369,\n",
       " 'F6': 370,\n",
       " 'G#1': 371,\n",
       " 'G#2': 372,\n",
       " 'G#3': 373,\n",
       " 'G#4': 374,\n",
       " 'G#5': 375,\n",
       " 'G#6': 376,\n",
       " 'G1': 377,\n",
       " 'G2': 378,\n",
       " 'G3': 379,\n",
       " 'G4': 380,\n",
       " 'G5': 381,\n",
       " 'G6': 382}"
      ]
     },
     "execution_count": 5,
     "metadata": {},
     "output_type": "execute_result"
    }
   ],
   "source": [
    "note_to_int"
   ]
  },
  {
   "cell_type": "code",
   "execution_count": 6,
   "id": "67991028",
   "metadata": {},
   "outputs": [],
   "source": [
    "network_input_initial = []\n",
    "network_output_initial = []\n",
    "\n",
    "for song in song_notes:\n",
    "\n",
    "    # Predict the 101th note using 100 notes at a time\n",
    "    sequence_length = 100\n",
    "\n",
    "    # create input note sequences and the corresponding next note for training purposes\n",
    "    for i in range(0, len(song) - sequence_length, 1):\n",
    "        sequence_in = song[i:i + sequence_length]\n",
    "        sequence_out = song[i + sequence_length]\n",
    "        network_input_initial.append([note_to_int[char] for char in sequence_in])\n",
    "        network_output_initial.append(note_to_int[sequence_out])"
   ]
  },
  {
   "cell_type": "code",
   "execution_count": 7,
   "id": "c44b6817",
   "metadata": {},
   "outputs": [
    {
     "data": {
      "text/plain": [
       "53167"
      ]
     },
     "execution_count": 7,
     "metadata": {},
     "output_type": "execute_result"
    }
   ],
   "source": [
    "input_count = len(network_input_initial)\n",
    "input_count"
   ]
  },
  {
   "cell_type": "code",
   "execution_count": 8,
   "id": "a93a5050",
   "metadata": {},
   "outputs": [
    {
     "data": {
      "text/plain": [
       "383"
      ]
     },
     "execution_count": 8,
     "metadata": {},
     "output_type": "execute_result"
    }
   ],
   "source": [
    "# how many unique notes and chords do we have?\n",
    "n_vocab = len(note_to_int)\n",
    "n_vocab"
   ]
  },
  {
   "cell_type": "code",
   "execution_count": 9,
   "id": "d2b5afab",
   "metadata": {},
   "outputs": [
    {
     "data": {
      "text/plain": [
       "100"
      ]
     },
     "execution_count": 9,
     "metadata": {},
     "output_type": "execute_result"
    }
   ],
   "source": [
    "sequence_length"
   ]
  },
  {
   "cell_type": "code",
   "execution_count": 10,
   "id": "779ef81a",
   "metadata": {},
   "outputs": [],
   "source": [
    "# reshape the input into a format compatible with LSTM layers\n",
    "network_input = np.reshape(network_input_initial, (input_count, sequence_length, 1)) # np.reshape(your array, (desired shape))"
   ]
  },
  {
   "cell_type": "code",
   "execution_count": 11,
   "id": "0b54022e",
   "metadata": {},
   "outputs": [
    {
     "data": {
      "text/plain": [
       "(53167, 100, 1)"
      ]
     },
     "execution_count": 11,
     "metadata": {},
     "output_type": "execute_result"
    }
   ],
   "source": [
    "network_input.shape"
   ]
  },
  {
   "cell_type": "code",
   "execution_count": 12,
   "id": "faf882f5",
   "metadata": {},
   "outputs": [],
   "source": [
    "network_output = to_categorical(network_output_initial)"
   ]
  },
  {
   "cell_type": "code",
   "execution_count": 13,
   "id": "a71eefc3",
   "metadata": {},
   "outputs": [
    {
     "data": {
      "text/plain": [
       "383"
      ]
     },
     "execution_count": 13,
     "metadata": {},
     "output_type": "execute_result"
    }
   ],
   "source": [
    "network_output.shape[1]"
   ]
  },
  {
   "cell_type": "code",
   "execution_count": 14,
   "id": "148f57a3",
   "metadata": {},
   "outputs": [
    {
     "data": {
      "text/plain": [
       "383"
      ]
     },
     "execution_count": 14,
     "metadata": {},
     "output_type": "execute_result"
    }
   ],
   "source": [
    "n_vocab"
   ]
  },
  {
   "cell_type": "markdown",
   "id": "1f0aa60c",
   "metadata": {},
   "source": [
    "## Constructing the model"
   ]
  },
  {
   "cell_type": "markdown",
   "id": "4bbb566d",
   "metadata": {},
   "source": [
    "We will use a number of tensorflow libraries to construct the model:\n",
    "\n",
    "\n",
    "### RNN\n",
    "RNN(recurrent neural network) is a type of neural network that is commonly used to develop speech recognition and natural language processing models. It remembers the sequence of the data and uses data patterns to give the prediction.<sup>1</sup>\n",
    "\n",
    "RNN uses feedback loops which help process the sequence of the data. This loop allows the data to be shared to different nodes and predictions according to the gathered information in a process commonly termed as 'memory'.<sup>1</sup>\n",
    "\n",
    "These loops create the networks that allow RNN to share information, and also, the loop structure allows the neural network to take the sequence of input data. RNN converts an independent variable to a dependent variable for its next layer.<sup>1</sup>\n",
    "\n",
    "RNNs, however, are prone to 'long-term dependency problem', which occurs over long sequences when connecting previous information to new information.<sup>1</sup>\n",
    "\n",
    "### LSTM\n",
    "LSTM(Long short term memory networks) are a special kind of RNN, introduced to avoid the long-term dependency problem.\n",
    "\n",
    "LSTMs have feedback connections which make them different to more traditional feedforward neural networks. This enables LSTMs to process entire sequences of data without treating each point in the sequence independently, but rather, retaining useful information about previous data in the sequence to help with the processing of new data points. LSTMs are thus very good at processing sequences of data.<sup>2</sup>\n",
    "\n",
    "Since LSTMs are better at handling long sequences, they are perfect for processing the input of the music dataset.\n",
    "\n",
    "### Bidirectional\n",
    "Bidirectional LSTM is the process of making any neural network have the sequence information in both directions backwards (future to past) or forward(past to future).<sup>1</sup>\n",
    "\n",
    "Passing the input of the music dataset through a Bidirectional LSTM will ensure stronger connections than the standard LSTM.\n",
    "\n",
    "### Embeddings\n",
    "Embedding layer enables us to convert each note/chord or duration into a fixed length vector of defined size.\n",
    "The resultant vector is a dense one with having real values instead of just 0’s and 1’s. The fixed length of word vectors helps us to represent the various elements in a better way along with reduced dimensions.<sup>3</sup>\n",
    "\n",
    "By passing the input through an Embedding layer, the model can learn which notes/chords or durations are closely related to each other, which will ultimately help with predictions.\n",
    "\n",
    "### Batch Normalization\n",
    "BatchNorm take the outputs from the first hidden layer and normalize them before passing them on as the input of the next hidden layer.<sup>4</sup>\n",
    "\n",
    "BatchNorm will be used after each hidden layer sequence.\n",
    "\n",
    "### Activation Functions\n",
    "- ReLU (Rectified Linear Unit)\n",
    "    - Avoids and rectifies vanishing gradient problem.<sup>5</sup>\n",
    "- Softmax\n",
    "    - Used as the last layer of neural network which calculates the probabilities distribution of the event over 'n' different events. The main advantage of the function is able to handle multiple classes.<sup>5</sup>\n",
    "    \n",
    "### Dropout\n",
    "The Dropout layer randomly sets input units to 0 with a frequency of the specified rate at each step during training time, which helps prevent overfitting.<sup>6</sup>"
   ]
  },
  {
   "cell_type": "code",
   "execution_count": 15,
   "id": "66a90c3e",
   "metadata": {},
   "outputs": [],
   "source": [
    "def create_network(network_input, n_vocab):\n",
    "#     create the structure of the neural network\n",
    "    model = Sequential()\n",
    "    model.add(Embedding(\n",
    "        n_vocab,\n",
    "        512,\n",
    "        input_length=100,\n",
    "    ))\n",
    "    model.add(Bidirectional(LSTM(\n",
    "        512,\n",
    "        recurrent_dropout=0,\n",
    "        return_sequences=True\n",
    "    )))\n",
    "    model.add(Bidirectional(LSTM(512, return_sequences=True, recurrent_dropout=0,)))\n",
    "    model.add(Bidirectional(LSTM(512)))\n",
    "    model.add(BatchNorm())\n",
    "    model.add(Dropout(0.3))\n",
    "    model.add(Dense(256))\n",
    "    model.add(Activation('relu'))\n",
    "    model.add(BatchNorm())\n",
    "    model.add(Dropout(0.3))\n",
    "    model.add(Dense(n_vocab))\n",
    "    model.add(Activation('softmax'))\n",
    "    opt = Adam(learning_rate=0.001)\n",
    "    model.compile(loss='categorical_crossentropy', optimizer=opt, metrics=['acc'])\n",
    "\n",
    "    return model"
   ]
  },
  {
   "cell_type": "code",
   "execution_count": 16,
   "id": "6e64b6b9",
   "metadata": {},
   "outputs": [],
   "source": [
    "def callback():\n",
    "    # Create filepath to store the weights of the various epochs\n",
    "    filepath = \"../weights/weights-{epoch:02d}-{loss:.4f}.hdf5\"\n",
    "    checkpoint = [\n",
    "        EarlyStopping(\n",
    "            monitor='loss',\n",
    "            patience=5, # ensures that model stops training once loss starts to increase\n",
    "            mode='auto',\n",
    "            min_delta=0),\n",
    "        ModelCheckpoint(\n",
    "            filepath,\n",
    "            monitor='loss',\n",
    "            verbose=0,\n",
    "            save_best_only=True, #save weights only if the epoch results in lower loss\n",
    "            mode='min'\n",
    "                    )]\n",
    "    return [checkpoint]"
   ]
  },
  {
   "cell_type": "code",
   "execution_count": 17,
   "id": "02efb2d2",
   "metadata": {},
   "outputs": [
    {
     "data": {
      "text/plain": [
       "[[<tensorflow.python.keras.callbacks.EarlyStopping at 0x13c254af220>,\n",
       "  <tensorflow.python.keras.callbacks.ModelCheckpoint at 0x13c254af250>]]"
      ]
     },
     "execution_count": 17,
     "metadata": {},
     "output_type": "execute_result"
    }
   ],
   "source": [
    "callbacks_list = callback()\n",
    "callbacks_list"
   ]
  },
  {
   "cell_type": "code",
   "execution_count": 18,
   "id": "8b9ad79b",
   "metadata": {
    "scrolled": true
   },
   "outputs": [
    {
     "name": "stdout",
     "output_type": "stream",
     "text": [
      "Model: \"sequential\"\n",
      "_________________________________________________________________\n",
      "Layer (type)                 Output Shape              Param #   \n",
      "=================================================================\n",
      "embedding (Embedding)        (None, 100, 512)          196096    \n",
      "_________________________________________________________________\n",
      "bidirectional (Bidirectional (None, 100, 1024)         4198400   \n",
      "_________________________________________________________________\n",
      "bidirectional_1 (Bidirection (None, 100, 1024)         6295552   \n",
      "_________________________________________________________________\n",
      "bidirectional_2 (Bidirection (None, 1024)              6295552   \n",
      "_________________________________________________________________\n",
      "batch_normalization (BatchNo (None, 1024)              4096      \n",
      "_________________________________________________________________\n",
      "dropout (Dropout)            (None, 1024)              0         \n",
      "_________________________________________________________________\n",
      "dense (Dense)                (None, 256)               262400    \n",
      "_________________________________________________________________\n",
      "activation (Activation)      (None, 256)               0         \n",
      "_________________________________________________________________\n",
      "batch_normalization_1 (Batch (None, 256)               1024      \n",
      "_________________________________________________________________\n",
      "dropout_1 (Dropout)          (None, 256)               0         \n",
      "_________________________________________________________________\n",
      "dense_1 (Dense)              (None, 383)               98431     \n",
      "_________________________________________________________________\n",
      "activation_1 (Activation)    (None, 383)               0         \n",
      "=================================================================\n",
      "Total params: 17,351,551\n",
      "Trainable params: 17,348,991\n",
      "Non-trainable params: 2,560\n",
      "_________________________________________________________________\n"
     ]
    }
   ],
   "source": [
    "model = create_network(network_input, n_vocab)\n",
    "model.summary()"
   ]
  },
  {
   "cell_type": "code",
   "execution_count": 19,
   "id": "b5adf901",
   "metadata": {
    "scrolled": true
   },
   "outputs": [
    {
     "name": "stdout",
     "output_type": "stream",
     "text": [
      "Epoch 1/1000\n",
      "416/416 [==============================] - 147s 313ms/step - loss: 4.0964 - acc: 0.1423\n",
      "Epoch 2/1000\n",
      "416/416 [==============================] - 132s 317ms/step - loss: 3.4665 - acc: 0.1809\n",
      "Epoch 3/1000\n",
      "416/416 [==============================] - 135s 326ms/step - loss: 3.3015 - acc: 0.2033\n",
      "Epoch 4/1000\n",
      "416/416 [==============================] - 134s 323ms/step - loss: 3.0744 - acc: 0.2445\n",
      "Epoch 5/1000\n",
      "416/416 [==============================] - 132s 316ms/step - loss: 2.8615 - acc: 0.2846\n",
      "Epoch 6/1000\n",
      "416/416 [==============================] - 132s 317ms/step - loss: 2.7326 - acc: 0.3143\n",
      "Epoch 7/1000\n",
      "416/416 [==============================] - 132s 317ms/step - loss: 2.4698 - acc: 0.3718\n",
      "Epoch 8/1000\n",
      "416/416 [==============================] - 132s 317ms/step - loss: 2.1778 - acc: 0.4417\n",
      "Epoch 9/1000\n",
      "416/416 [==============================] - 132s 318ms/step - loss: 1.8850 - acc: 0.5076\n",
      "Epoch 10/1000\n",
      "416/416 [==============================] - 132s 317ms/step - loss: 1.6022 - acc: 0.5801\n",
      "Epoch 11/1000\n",
      "416/416 [==============================] - 137s 328ms/step - loss: 1.3384 - acc: 0.6424\n",
      "Epoch 12/1000\n",
      "416/416 [==============================] - 136s 326ms/step - loss: 1.0954 - acc: 0.7021\n",
      "Epoch 13/1000\n",
      "416/416 [==============================] - 132s 317ms/step - loss: 0.9022 - acc: 0.7518\n",
      "Epoch 14/1000\n",
      "416/416 [==============================] - 132s 317ms/step - loss: 0.7440 - acc: 0.7921\n",
      "Epoch 15/1000\n",
      "416/416 [==============================] - 132s 317ms/step - loss: 0.6089 - acc: 0.8270\n",
      "Epoch 16/1000\n",
      "416/416 [==============================] - 132s 317ms/step - loss: 0.5100 - acc: 0.8555\n",
      "Epoch 17/1000\n",
      "416/416 [==============================] - 132s 316ms/step - loss: 0.4468 - acc: 0.8714\n",
      "Epoch 18/1000\n",
      "416/416 [==============================] - 132s 317ms/step - loss: 0.3766 - acc: 0.8919\n",
      "Epoch 19/1000\n",
      "416/416 [==============================] - 132s 316ms/step - loss: 0.3403 - acc: 0.9039\n",
      "Epoch 20/1000\n",
      "416/416 [==============================] - 132s 317ms/step - loss: 0.3102 - acc: 0.9117\n",
      "Epoch 21/1000\n",
      "416/416 [==============================] - 132s 317ms/step - loss: 0.2857 - acc: 0.9192\n",
      "Epoch 22/1000\n",
      "416/416 [==============================] - 132s 317ms/step - loss: 0.2692 - acc: 0.9250\n",
      "Epoch 23/1000\n",
      "416/416 [==============================] - 132s 317ms/step - loss: 0.2546 - acc: 0.9283\n",
      "Epoch 24/1000\n",
      "416/416 [==============================] - 132s 316ms/step - loss: 0.2304 - acc: 0.9353\n",
      "Epoch 25/1000\n",
      "416/416 [==============================] - 132s 317ms/step - loss: 0.2355 - acc: 0.9347\n",
      "Epoch 26/1000\n",
      "416/416 [==============================] - 132s 316ms/step - loss: 0.2216 - acc: 0.9384\n",
      "Epoch 27/1000\n",
      "416/416 [==============================] - 132s 316ms/step - loss: 0.2252 - acc: 0.9368\n",
      "Epoch 28/1000\n",
      "416/416 [==============================] - 132s 317ms/step - loss: 0.2038 - acc: 0.9433\n",
      "Epoch 29/1000\n",
      "416/416 [==============================] - 132s 317ms/step - loss: 0.1882 - acc: 0.9478\n",
      "Epoch 30/1000\n",
      "416/416 [==============================] - 132s 316ms/step - loss: 0.1839 - acc: 0.9489\n",
      "Epoch 31/1000\n",
      "416/416 [==============================] - 132s 317ms/step - loss: 0.1815 - acc: 0.9503\n",
      "Epoch 32/1000\n",
      "416/416 [==============================] - 132s 316ms/step - loss: 0.1836 - acc: 0.9479\n",
      "Epoch 33/1000\n",
      "416/416 [==============================] - 132s 317ms/step - loss: 0.1653 - acc: 0.9541\n",
      "Epoch 34/1000\n",
      "416/416 [==============================] - 132s 316ms/step - loss: 0.1707 - acc: 0.9528\n",
      "Epoch 35/1000\n",
      "416/416 [==============================] - 132s 316ms/step - loss: 0.1719 - acc: 0.9526\n",
      "Epoch 36/1000\n",
      "416/416 [==============================] - 132s 316ms/step - loss: 0.1639 - acc: 0.9540\n",
      "Epoch 37/1000\n",
      "416/416 [==============================] - 132s 316ms/step - loss: 0.1432 - acc: 0.9597\n",
      "Epoch 38/1000\n",
      "416/416 [==============================] - 132s 316ms/step - loss: 0.1599 - acc: 0.9564\n",
      "Epoch 39/1000\n",
      "416/416 [==============================] - 132s 316ms/step - loss: 0.1578 - acc: 0.9566\n",
      "Epoch 40/1000\n",
      "416/416 [==============================] - 132s 316ms/step - loss: 0.1472 - acc: 0.9596\n",
      "Epoch 41/1000\n",
      "416/416 [==============================] - 131s 316ms/step - loss: 0.1366 - acc: 0.9625\n",
      "Epoch 42/1000\n",
      "416/416 [==============================] - 131s 316ms/step - loss: 0.1312 - acc: 0.9633\n",
      "Epoch 43/1000\n",
      "416/416 [==============================] - 132s 317ms/step - loss: 0.1309 - acc: 0.9635\n",
      "Epoch 44/1000\n",
      "416/416 [==============================] - 132s 316ms/step - loss: 0.1351 - acc: 0.9627\n",
      "Epoch 45/1000\n",
      "416/416 [==============================] - 132s 316ms/step - loss: 0.1314 - acc: 0.9647\n",
      "Epoch 46/1000\n",
      "416/416 [==============================] - 131s 316ms/step - loss: 0.1283 - acc: 0.9633\n",
      "Epoch 47/1000\n",
      "416/416 [==============================] - 132s 316ms/step - loss: 0.1447 - acc: 0.9587\n",
      "Epoch 48/1000\n",
      "416/416 [==============================] - 132s 317ms/step - loss: 0.1206 - acc: 0.9658\n",
      "Epoch 49/1000\n",
      "416/416 [==============================] - 132s 316ms/step - loss: 0.1359 - acc: 0.9625\n",
      "Epoch 50/1000\n",
      "416/416 [==============================] - 132s 316ms/step - loss: 0.1326 - acc: 0.9646\n",
      "Epoch 51/1000\n",
      "416/416 [==============================] - 132s 316ms/step - loss: 0.1167 - acc: 0.9675\n",
      "Epoch 52/1000\n",
      "416/416 [==============================] - 132s 317ms/step - loss: 0.1069 - acc: 0.9698\n",
      "Epoch 53/1000\n",
      "416/416 [==============================] - 132s 317ms/step - loss: 0.1061 - acc: 0.9705\n",
      "Epoch 54/1000\n",
      "416/416 [==============================] - 132s 316ms/step - loss: 0.1320 - acc: 0.9630\n",
      "Epoch 55/1000\n",
      "416/416 [==============================] - 132s 316ms/step - loss: 0.1362 - acc: 0.9609\n",
      "Epoch 56/1000\n",
      "416/416 [==============================] - 132s 316ms/step - loss: 0.1148 - acc: 0.9675\n",
      "Epoch 57/1000\n",
      "416/416 [==============================] - 132s 316ms/step - loss: 0.1151 - acc: 0.9680\n",
      "Epoch 58/1000\n",
      "416/416 [==============================] - 132s 317ms/step - loss: 0.1027 - acc: 0.9720\n",
      "Epoch 59/1000\n",
      "416/416 [==============================] - 132s 317ms/step - loss: 0.1038 - acc: 0.9711\n",
      "Epoch 60/1000\n",
      "416/416 [==============================] - 132s 316ms/step - loss: 0.1055 - acc: 0.9700\n",
      "Epoch 61/1000\n",
      "416/416 [==============================] - 132s 316ms/step - loss: 0.1194 - acc: 0.9669\n",
      "Epoch 62/1000\n",
      "416/416 [==============================] - 132s 316ms/step - loss: 0.1131 - acc: 0.9682\n",
      "Epoch 63/1000\n",
      "416/416 [==============================] - 132s 316ms/step - loss: 0.1121 - acc: 0.9680\n"
     ]
    }
   ],
   "source": [
    "hist = model.fit(network_input, network_output, epochs=1000, batch_size=128, callbacks=callbacks_list)"
   ]
  },
  {
   "cell_type": "code",
   "execution_count": 20,
   "id": "d891f0e1",
   "metadata": {},
   "outputs": [],
   "source": [
    "import matplotlib.pyplot as plt"
   ]
  },
  {
   "cell_type": "code",
   "execution_count": 52,
   "id": "fd3bdba5",
   "metadata": {},
   "outputs": [
    {
     "data": {
      "image/png": "[encoded data removed]",
      "text/plain": [
       "<Figure size 720x576 with 1 Axes>"
      ]
     },
     "metadata": {
      "needs_background": "light"
     },
     "output_type": "display_data"
    }
   ],
   "source": [
    "plt.figure(figsize=(10,8))\n",
    "plt.title('Notes Loss vs Epoch')\n",
    "plt.plot(hist.epoch, hist.history['loss'], label='loss', color='green')\n",
    "plt.xlabel('Epoch')\n",
    "plt.ylabel('Loss')\n",
    "plt.legend();"
   ]
  },
  {
   "cell_type": "code",
   "execution_count": 53,
   "id": "362cad74",
   "metadata": {},
   "outputs": [
    {
     "data": {
      "image/png": "[encoded data removed]",
      "text/plain": [
       "<Figure size 720x576 with 1 Axes>"
      ]
     },
     "metadata": {
      "needs_background": "light"
     },
     "output_type": "display_data"
    }
   ],
   "source": [
    "plt.figure(figsize=(10,8))\n",
    "plt.title('Notes Accuracy vs Epoch')\n",
    "plt.plot(hist.epoch, hist.history['acc'], label='acc', color='red')\n",
    "plt.xlabel('Epoch')\n",
    "plt.ylabel('Accuracy')\n",
    "plt.legend();"
   ]
  },
  {
   "cell_type": "markdown",
   "id": "846931b9",
   "metadata": {},
   "source": [
    "## Do the same for the time"
   ]
  },
  {
   "cell_type": "code",
   "execution_count": 30,
   "id": "eaab8256",
   "metadata": {},
   "outputs": [],
   "source": [
    "# import time, time_to_int and song_times\n",
    "import pickle\n",
    "\n",
    "with open('../assets_notes_times/time', 'rb') as filepath:\n",
    "    time = pickle.load(filepath)\n",
    "\n",
    "with open('../assets_notes_times/time_to_int', 'rb') as filepath:\n",
    "    time_to_int = pickle.load(filepath)\n",
    "    \n",
    "with open('../assets_notes_times/song_times', 'rb') as filepath:\n",
    "    song_times = pickle.load(filepath)"
   ]
  },
  {
   "cell_type": "code",
   "execution_count": 31,
   "id": "5ca67d55",
   "metadata": {},
   "outputs": [
    {
     "data": {
      "text/plain": [
       "62367"
      ]
     },
     "execution_count": 31,
     "metadata": {},
     "output_type": "execute_result"
    }
   ],
   "source": [
    "len(time)"
   ]
  },
  {
   "cell_type": "code",
   "execution_count": 32,
   "id": "35aca8d5",
   "metadata": {},
   "outputs": [
    {
     "data": {
      "text/plain": [
       "{'unkw': 0,\n",
       " '0.25': 1,\n",
       " '0.5': 2,\n",
       " '0.75': 3,\n",
       " '1.0': 4,\n",
       " '1.25': 5,\n",
       " '1.5': 6,\n",
       " '1.75': 7,\n",
       " '1/12': 8,\n",
       " '1/3': 9,\n",
       " '1/6': 10,\n",
       " '10.0': 11,\n",
       " '10.5': 12,\n",
       " '10.75': 13,\n",
       " '10/3': 14,\n",
       " '102.75': 15,\n",
       " '104.75': 16,\n",
       " '106.5': 17,\n",
       " '107.0': 18,\n",
       " '107/6': 19,\n",
       " '1085/12': 20,\n",
       " '109.25': 21,\n",
       " '11.75': 22,\n",
       " '11/6': 23,\n",
       " '110.5': 24,\n",
       " '111.0': 25,\n",
       " '115.0': 26,\n",
       " '115.75': 27,\n",
       " '118.5': 28,\n",
       " '118.75': 29,\n",
       " '119.5': 30,\n",
       " '12.0': 31,\n",
       " '125/6': 32,\n",
       " '126.0': 33,\n",
       " '126.5': 34,\n",
       " '13.0': 35,\n",
       " '13.75': 36,\n",
       " '13/3': 37,\n",
       " '131.0': 38,\n",
       " '131.75': 39,\n",
       " '134.0': 40,\n",
       " '134.75': 41,\n",
       " '135.0': 42,\n",
       " '136.75': 43,\n",
       " '138.5': 44,\n",
       " '138.75': 45,\n",
       " '14.5': 46,\n",
       " '142.75': 47,\n",
       " '143.0': 48,\n",
       " '144.75': 49,\n",
       " '15.75': 50,\n",
       " '150.75': 51,\n",
       " '155.25': 52,\n",
       " '157.0': 53,\n",
       " '159.75': 54,\n",
       " '16.0': 55,\n",
       " '167.5': 56,\n",
       " '168.5': 57,\n",
       " '17.0': 58,\n",
       " '17.75': 59,\n",
       " '17/12': 60,\n",
       " '17/6': 61,\n",
       " '172/3': 62,\n",
       " '175.75': 63,\n",
       " '18.0': 64,\n",
       " '18.5': 65,\n",
       " '19.0': 66,\n",
       " '19.75': 67,\n",
       " '2.0': 68,\n",
       " '2.25': 69,\n",
       " '2.5': 70,\n",
       " '2.75': 71,\n",
       " '2/3': 72,\n",
       " '20.0': 73,\n",
       " '20.5': 74,\n",
       " '20.75': 75,\n",
       " '21.75': 76,\n",
       " '22.0': 77,\n",
       " '22.75': 78,\n",
       " '23.75': 79,\n",
       " '23/12': 80,\n",
       " '24.0': 81,\n",
       " '24.75': 82,\n",
       " '242.75': 83,\n",
       " '25.0': 84,\n",
       " '26.5': 85,\n",
       " '27.75': 86,\n",
       " '276.0': 87,\n",
       " '28.0': 88,\n",
       " '29.75': 89,\n",
       " '29/12': 90,\n",
       " '3.0': 91,\n",
       " '3.25': 92,\n",
       " '3.5': 93,\n",
       " '3.75': 94,\n",
       " '30.5': 95,\n",
       " '30.75': 96,\n",
       " '31.5': 97,\n",
       " '31.75': 98,\n",
       " '316.5': 99,\n",
       " '318.0': 100,\n",
       " '32.0': 101,\n",
       " '32.75': 102,\n",
       " '34.5': 103,\n",
       " '34.75': 104,\n",
       " '35.0': 105,\n",
       " '35.75': 106,\n",
       " '35/12': 107,\n",
       " '35/6': 108,\n",
       " '38.0': 109,\n",
       " '38.5': 110,\n",
       " '38.75': 111,\n",
       " '4.0': 112,\n",
       " '4.25': 113,\n",
       " '4.5': 114,\n",
       " '4.75': 115,\n",
       " '4/3': 116,\n",
       " '41.75': 117,\n",
       " '43.5': 118,\n",
       " '44.25': 119,\n",
       " '47.0': 120,\n",
       " '47.75': 121,\n",
       " '47/12': 122,\n",
       " '47/6': 123,\n",
       " '48.0': 124,\n",
       " '5.0': 125,\n",
       " '5.5': 126,\n",
       " '5.75': 127,\n",
       " '5/12': 128,\n",
       " '5/3': 129,\n",
       " '5/6': 130,\n",
       " '50.0': 131,\n",
       " '53.5': 132,\n",
       " '53.75': 133,\n",
       " '56.75': 134,\n",
       " '57.75': 135,\n",
       " '58.0': 136,\n",
       " '59.5': 137,\n",
       " '6.0': 138,\n",
       " '6.5': 139,\n",
       " '6.75': 140,\n",
       " '63.75': 141,\n",
       " '66.75': 142,\n",
       " '67.75': 143,\n",
       " '689/6': 144,\n",
       " '7.75': 145,\n",
       " '7/12': 146,\n",
       " '7/3': 147,\n",
       " '7/6': 148,\n",
       " '72.5': 149,\n",
       " '73.0': 150,\n",
       " '74.5': 151,\n",
       " '75.75': 152,\n",
       " '76.75': 153,\n",
       " '77.75': 154,\n",
       " '78.0': 155,\n",
       " '78.75': 156,\n",
       " '8.0': 157,\n",
       " '8/3': 158,\n",
       " '80.0': 159,\n",
       " '81.75': 160,\n",
       " '83/6': 161,\n",
       " '85.75': 162,\n",
       " '88.0': 163,\n",
       " '88/3': 164,\n",
       " '89.0': 165,\n",
       " '89.75': 166,\n",
       " '9.75': 167,\n",
       " '90.75': 168,\n",
       " '93.75': 169,\n",
       " '94.75': 170,\n",
       " '95.75': 171,\n",
       " '96.0': 172,\n",
       " '99.75': 173}"
      ]
     },
     "execution_count": 32,
     "metadata": {},
     "output_type": "execute_result"
    }
   ],
   "source": [
    "time_to_int"
   ]
  },
  {
   "cell_type": "code",
   "execution_count": 33,
   "id": "863b2a2a",
   "metadata": {},
   "outputs": [],
   "source": [
    "network_input_initial_time = []\n",
    "network_output_initial_time = []\n",
    "\n",
    "for times in song_times:\n",
    "\n",
    "    # Predict the 101th note using 100 notes at a time\n",
    "    sequence_length = 100\n",
    "\n",
    "    # create input note sequences and the corresponding next note for training purposes\n",
    "    for i in range(0, len(times) - sequence_length, 1):\n",
    "        sequence_in = times[i:i + sequence_length]\n",
    "        sequence_out = times[i + sequence_length]\n",
    "        network_input_initial_time.append([time_to_int[char] for char in sequence_in])\n",
    "        network_output_initial_time.append(time_to_int[sequence_out])"
   ]
  },
  {
   "cell_type": "code",
   "execution_count": 34,
   "id": "60d6552f",
   "metadata": {},
   "outputs": [
    {
     "data": {
      "text/plain": [
       "62367"
      ]
     },
     "execution_count": 34,
     "metadata": {},
     "output_type": "execute_result"
    }
   ],
   "source": [
    "len(time)"
   ]
  },
  {
   "cell_type": "code",
   "execution_count": 35,
   "id": "93f93606",
   "metadata": {},
   "outputs": [
    {
     "data": {
      "text/plain": [
       "53167"
      ]
     },
     "execution_count": 35,
     "metadata": {},
     "output_type": "execute_result"
    }
   ],
   "source": [
    "input_count_time = len(network_input_initial_time)\n",
    "input_count_time"
   ]
  },
  {
   "cell_type": "code",
   "execution_count": 36,
   "id": "95678170",
   "metadata": {},
   "outputs": [
    {
     "data": {
      "text/plain": [
       "174"
      ]
     },
     "execution_count": 36,
     "metadata": {},
     "output_type": "execute_result"
    }
   ],
   "source": [
    "# how many unique times do we have?\n",
    "t_vocab = len(time_to_int)\n",
    "t_vocab"
   ]
  },
  {
   "cell_type": "code",
   "execution_count": 37,
   "id": "74a56093",
   "metadata": {},
   "outputs": [
    {
     "data": {
      "text/plain": [
       "(53167, 100, 1)"
      ]
     },
     "execution_count": 37,
     "metadata": {},
     "output_type": "execute_result"
    }
   ],
   "source": [
    "# reshape the input into a format compatible with LSTM layers\n",
    "network_input_time = np.reshape(network_input_initial_time, (input_count_time, sequence_length, 1)) # np.reshape(your array, (desired shape))\n",
    "network_input_time.shape"
   ]
  },
  {
   "cell_type": "code",
   "execution_count": 38,
   "id": "63ccbc27",
   "metadata": {},
   "outputs": [
    {
     "data": {
      "text/plain": [
       "(53167, 174)"
      ]
     },
     "execution_count": 38,
     "metadata": {},
     "output_type": "execute_result"
    }
   ],
   "source": [
    "network_output_time = to_categorical(network_output_initial_time)\n",
    "network_output_time.shape"
   ]
  },
  {
   "cell_type": "code",
   "execution_count": 46,
   "id": "a9f4fdc0",
   "metadata": {},
   "outputs": [
    {
     "name": "stdout",
     "output_type": "stream",
     "text": [
      "Model: \"sequential_2\"\n",
      "_________________________________________________________________\n",
      "Layer (type)                 Output Shape              Param #   \n",
      "=================================================================\n",
      "embedding_2 (Embedding)      (None, 100, 512)          89088     \n",
      "_________________________________________________________________\n",
      "bidirectional_6 (Bidirection (None, 100, 1024)         4198400   \n",
      "_________________________________________________________________\n",
      "bidirectional_7 (Bidirection (None, 100, 1024)         6295552   \n",
      "_________________________________________________________________\n",
      "bidirectional_8 (Bidirection (None, 1024)              6295552   \n",
      "_________________________________________________________________\n",
      "batch_normalization_4 (Batch (None, 1024)              4096      \n",
      "_________________________________________________________________\n",
      "dropout_4 (Dropout)          (None, 1024)              0         \n",
      "_________________________________________________________________\n",
      "dense_4 (Dense)              (None, 256)               262400    \n",
      "_________________________________________________________________\n",
      "activation_4 (Activation)    (None, 256)               0         \n",
      "_________________________________________________________________\n",
      "batch_normalization_5 (Batch (None, 256)               1024      \n",
      "_________________________________________________________________\n",
      "dropout_5 (Dropout)          (None, 256)               0         \n",
      "_________________________________________________________________\n",
      "dense_5 (Dense)              (None, 174)               44718     \n",
      "_________________________________________________________________\n",
      "activation_5 (Activation)    (None, 174)               0         \n",
      "=================================================================\n",
      "Total params: 17,190,830\n",
      "Trainable params: 17,188,270\n",
      "Non-trainable params: 2,560\n",
      "_________________________________________________________________\n"
     ]
    }
   ],
   "source": [
    "#same model architecture as notes\n",
    "model_time = create_network(network_input_initial, t_vocab)\n",
    "model_time.summary()"
   ]
  },
  {
   "cell_type": "code",
   "execution_count": 47,
   "id": "52cf41f7",
   "metadata": {},
   "outputs": [],
   "source": [
    "def callback_time():\n",
    "    # Create filepath to store the weights of the various epochs\n",
    "    filepath = \"../weights/weights-{epoch:02d}-{loss:.4f}.hdf5\"\n",
    "    checkpoint = [\n",
    "        EarlyStopping(\n",
    "            monitor='loss',\n",
    "            patience=5,\n",
    "            mode='auto',\n",
    "            min_delta=0),\n",
    "        ModelCheckpoint(\n",
    "            filepath,\n",
    "            monitor='loss',\n",
    "            verbose=0,\n",
    "            save_best_only=True, #save weights only if the epoch results in lower loss\n",
    "            mode='min'\n",
    "                    )]\n",
    "    return [checkpoint]"
   ]
  },
  {
   "cell_type": "code",
   "execution_count": 48,
   "id": "fcd32735",
   "metadata": {},
   "outputs": [
    {
     "data": {
      "text/plain": [
       "[[<tensorflow.python.keras.callbacks.EarlyStopping at 0x13ddf3531c0>,\n",
       "  <tensorflow.python.keras.callbacks.ModelCheckpoint at 0x13ddf353100>]]"
      ]
     },
     "execution_count": 48,
     "metadata": {},
     "output_type": "execute_result"
    }
   ],
   "source": [
    "callbacks_list_time = callback_time()\n",
    "callbacks_list_time"
   ]
  },
  {
   "cell_type": "code",
   "execution_count": 49,
   "id": "bb986f01",
   "metadata": {},
   "outputs": [
    {
     "name": "stdout",
     "output_type": "stream",
     "text": [
      "Epoch 1/1000\n",
      "416/416 [==============================] - 146s 311ms/step - loss: 2.2547 - acc: 0.5106\n",
      "Epoch 2/1000\n",
      "416/416 [==============================] - 131s 315ms/step - loss: 1.6315 - acc: 0.5347\n",
      "Epoch 3/1000\n",
      "416/416 [==============================] - 133s 321ms/step - loss: 1.5744 - acc: 0.5379\n",
      "Epoch 4/1000\n",
      "416/416 [==============================] - 133s 320ms/step - loss: 1.4989 - acc: 0.5487\n",
      "Epoch 5/1000\n",
      "416/416 [==============================] - 131s 315ms/step - loss: 1.4243 - acc: 0.5614\n",
      "Epoch 6/1000\n",
      "416/416 [==============================] - 131s 315ms/step - loss: 1.3792 - acc: 0.5742\n",
      "Epoch 7/1000\n",
      "416/416 [==============================] - 135s 325ms/step - loss: 1.3362 - acc: 0.5839\n",
      "Epoch 8/1000\n",
      "416/416 [==============================] - 132s 316ms/step - loss: 1.3239 - acc: 0.5896\n",
      "Epoch 9/1000\n",
      "416/416 [==============================] - 131s 316ms/step - loss: 1.2613 - acc: 0.6057\n",
      "Epoch 10/1000\n",
      "416/416 [==============================] - 133s 319ms/step - loss: 1.2192 - acc: 0.6160\n",
      "Epoch 11/1000\n",
      "416/416 [==============================] - 133s 321ms/step - loss: 1.1730 - acc: 0.6315\n",
      "Epoch 12/1000\n",
      "416/416 [==============================] - 131s 315ms/step - loss: 1.1304 - acc: 0.6428\n",
      "Epoch 13/1000\n",
      "416/416 [==============================] - 133s 320ms/step - loss: 1.0924 - acc: 0.6551\n",
      "Epoch 14/1000\n",
      "416/416 [==============================] - 131s 315ms/step - loss: 1.0530 - acc: 0.6702\n",
      "Epoch 15/1000\n",
      "416/416 [==============================] - 131s 315ms/step - loss: 0.9961 - acc: 0.6898\n",
      "Epoch 16/1000\n",
      "416/416 [==============================] - 131s 315ms/step - loss: 0.9450 - acc: 0.7068\n",
      "Epoch 17/1000\n",
      "416/416 [==============================] - 131s 315ms/step - loss: 0.9164 - acc: 0.7158\n",
      "Epoch 18/1000\n",
      "416/416 [==============================] - 131s 315ms/step - loss: 0.8167 - acc: 0.7503\n",
      "Epoch 19/1000\n",
      "416/416 [==============================] - 131s 315ms/step - loss: 0.7503 - acc: 0.7731\n",
      "Epoch 20/1000\n",
      "416/416 [==============================] - 131s 315ms/step - loss: 0.6780 - acc: 0.7961\n",
      "Epoch 21/1000\n",
      "416/416 [==============================] - 131s 314ms/step - loss: 0.6097 - acc: 0.8177\n",
      "Epoch 22/1000\n",
      "416/416 [==============================] - 131s 314ms/step - loss: 0.5414 - acc: 0.8383\n",
      "Epoch 23/1000\n",
      "416/416 [==============================] - 130s 314ms/step - loss: 0.4912 - acc: 0.8542\n",
      "Epoch 24/1000\n",
      "416/416 [==============================] - 131s 314ms/step - loss: 0.4388 - acc: 0.8702\n",
      "Epoch 25/1000\n",
      "416/416 [==============================] - 131s 314ms/step - loss: 0.3917 - acc: 0.8849\n",
      "Epoch 26/1000\n",
      "416/416 [==============================] - 131s 314ms/step - loss: 0.5305 - acc: 0.8436\n",
      "Epoch 27/1000\n",
      "416/416 [==============================] - 130s 313ms/step - loss: 0.4083 - acc: 0.8787\n",
      "Epoch 28/1000\n",
      "416/416 [==============================] - 130s 314ms/step - loss: 0.3240 - acc: 0.9042\n",
      "Epoch 29/1000\n",
      "416/416 [==============================] - 130s 314ms/step - loss: 0.2849 - acc: 0.9169\n",
      "Epoch 30/1000\n",
      "416/416 [==============================] - 130s 314ms/step - loss: 0.2624 - acc: 0.9221\n",
      "Epoch 31/1000\n",
      "416/416 [==============================] - 130s 314ms/step - loss: 0.2484 - acc: 0.9260\n",
      "Epoch 32/1000\n",
      "416/416 [==============================] - 131s 314ms/step - loss: 0.2192 - acc: 0.9342\n",
      "Epoch 33/1000\n",
      "416/416 [==============================] - 130s 313ms/step - loss: 0.2017 - acc: 0.9399\n",
      "Epoch 34/1000\n",
      "416/416 [==============================] - 130s 314ms/step - loss: 0.1890 - acc: 0.9433\n",
      "Epoch 35/1000\n",
      "416/416 [==============================] - 130s 313ms/step - loss: 0.1820 - acc: 0.9453\n",
      "Epoch 36/1000\n",
      "416/416 [==============================] - 131s 314ms/step - loss: 0.1825 - acc: 0.9453\n",
      "Epoch 37/1000\n",
      "416/416 [==============================] - 130s 314ms/step - loss: 0.1649 - acc: 0.9497\n",
      "Epoch 38/1000\n",
      "416/416 [==============================] - 130s 313ms/step - loss: 0.1575 - acc: 0.9523\n",
      "Epoch 39/1000\n",
      "416/416 [==============================] - 130s 314ms/step - loss: 0.1423 - acc: 0.9570\n",
      "Epoch 40/1000\n",
      "416/416 [==============================] - 130s 313ms/step - loss: 0.1351 - acc: 0.9593\n",
      "Epoch 41/1000\n",
      "416/416 [==============================] - 130s 314ms/step - loss: 0.1452 - acc: 0.9551\n",
      "Epoch 42/1000\n",
      "416/416 [==============================] - 131s 314ms/step - loss: 0.1529 - acc: 0.9534\n",
      "Epoch 43/1000\n",
      "416/416 [==============================] - 130s 314ms/step - loss: 0.1162 - acc: 0.9651\n",
      "Epoch 44/1000\n",
      "416/416 [==============================] - 131s 314ms/step - loss: 0.1071 - acc: 0.9671\n",
      "Epoch 45/1000\n",
      "416/416 [==============================] - 131s 314ms/step - loss: 0.1055 - acc: 0.9670\n",
      "Epoch 46/1000\n",
      "416/416 [==============================] - 131s 314ms/step - loss: 0.1084 - acc: 0.9669\n",
      "Epoch 47/1000\n",
      "416/416 [==============================] - 130s 313ms/step - loss: 0.1065 - acc: 0.9664\n",
      "Epoch 48/1000\n",
      "416/416 [==============================] - 130s 314ms/step - loss: 0.1153 - acc: 0.9644\n",
      "Epoch 49/1000\n",
      "416/416 [==============================] - 130s 313ms/step - loss: 0.1022 - acc: 0.9678\n",
      "Epoch 50/1000\n",
      "416/416 [==============================] - 130s 313ms/step - loss: 0.0908 - acc: 0.9725\n",
      "Epoch 51/1000\n",
      "416/416 [==============================] - 130s 314ms/step - loss: 0.0875 - acc: 0.9734\n",
      "Epoch 52/1000\n",
      "416/416 [==============================] - 131s 315ms/step - loss: 0.0870 - acc: 0.9729\n",
      "Epoch 53/1000\n",
      "416/416 [==============================] - 131s 315ms/step - loss: 0.0872 - acc: 0.9736\n",
      "Epoch 54/1000\n",
      "416/416 [==============================] - 131s 315ms/step - loss: 0.1631 - acc: 0.9515\n",
      "Epoch 55/1000\n",
      "416/416 [==============================] - 131s 315ms/step - loss: 0.2539 - acc: 0.9151\n",
      "Epoch 56/1000\n",
      "416/416 [==============================] - 131s 315ms/step - loss: 0.1168 - acc: 0.9642\n",
      "Epoch 57/1000\n",
      "416/416 [==============================] - 131s 315ms/step - loss: 0.1386 - acc: 0.9553\n"
     ]
    }
   ],
   "source": [
    "hist_2 = model_time.fit(network_input_time, network_output_time, epochs=1000, batch_size=128, callbacks=callbacks_list_time)"
   ]
  },
  {
   "cell_type": "code",
   "execution_count": 54,
   "id": "c41f3643",
   "metadata": {},
   "outputs": [
    {
     "data": {
      "image/png": "[encoded data removed]",
      "text/plain": [
       "<Figure size 720x576 with 1 Axes>"
      ]
     },
     "metadata": {
      "needs_background": "light"
     },
     "output_type": "display_data"
    }
   ],
   "source": [
    "plt.figure(figsize=(10,8))\n",
    "plt.title('Durations Loss vs Epoch')\n",
    "plt.plot(hist_2.epoch, hist_2.history['loss'], label='loss')\n",
    "plt.xlabel('Epoch')\n",
    "plt.ylabel('Loss')\n",
    "plt.legend();"
   ]
  },
  {
   "cell_type": "code",
   "execution_count": 55,
   "id": "91972ef8",
   "metadata": {},
   "outputs": [
    {
     "data": {
      "image/png": "[encoded data removed]",
      "text/plain": [
       "<Figure size 720x576 with 1 Axes>"
      ]
     },
     "metadata": {
      "needs_background": "light"
     },
     "output_type": "display_data"
    }
   ],
   "source": [
    "plt.figure(figsize=(10,8))\n",
    "plt.title('Durations Accuracy vs Epoch')\n",
    "plt.plot(hist_2.epoch, hist_2.history['acc'], label='acc', color='orange')\n",
    "plt.xlabel('Epoch')\n",
    "plt.ylabel('Accuracy')\n",
    "plt.legend();"
   ]
  },
  {
   "cell_type": "markdown",
   "id": "a93fb31a",
   "metadata": {},
   "source": [
    "## References\n",
    "1. https://analyticsindiamag.com/complete-guide-to-bidirectional-lstm-with-python-codes/#:~:text=Bidirectional%20long%2Dshort%20term%20memory,forward(past%20to%20future).\n",
    "2. https://analyticsindiamag.com/complete-guide-to-bidirectional-lstm-with-python-codes/#:~:text=Bidirectional%20long%2Dshort%20term%20memory,forward(past%20to%20future).\n",
    "3. https://medium.com/analytics-vidhya/understanding-embedding-layer-in-keras-bbe3ff1327ce#:~:text=Embedding%20layer%20enables%20us%20to,way%20along%20with%20reduced%20dimensions.\n",
    "4. https://towardsdatascience.com/batch-norm-explained-visually-how-it-works-and-why-neural-networks-need-it-b18919692739#:~:text=Batch%20Norm%20is%20just%20another,of%20the%20next%20hidden%20layer.\n",
    "5. https://medium.com/@cmukesh8688/activation-functions-sigmoid-tanh-relu-leaky-relu-softmax-50d3778dcea5#:~:text=Generally%20%2C%20we%20use%20ReLU%20in,use%20in%20last%20output%20layer%20.\n",
    "6. https://keras.io/api/layers/regularization_layers/dropout/#:~:text=The%20Dropout%20layer%20randomly%20sets,over%20all%20inputs%20is%20unchanged."
   ]
  },
  {
   "cell_type": "code",
   "execution_count": null,
   "id": "0c3e5163",
   "metadata": {},
   "outputs": [],
   "source": []
  }
 ],
 "metadata": {
  "kernelspec": {
   "display_name": "Python 3 (ipykernel)",
   "language": "python",
   "name": "python3"
  },
  "language_info": {
   "codemirror_mode": {
    "name": "ipython",
    "version": 3
   },
   "file_extension": ".py",
   "mimetype": "text/x-python",
   "name": "python",
   "nbconvert_exporter": "python",
   "pygments_lexer": "ipython3",
   "version": "3.8.12"
  }
 },
 "nbformat": 4,
 "nbformat_minor": 5
}
